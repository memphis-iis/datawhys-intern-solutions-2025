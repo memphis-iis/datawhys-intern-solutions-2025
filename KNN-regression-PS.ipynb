{
 "cells": [
  {
   "cell_type": "markdown",
   "metadata": {
    "deletable": false,
    "editable": false
   },
   "source": [
    "Copyright 2020 Andrew M. Olney and made available under [CC BY-SA](https://creativecommons.org/licenses/by-sa/4.0) for text and [Apache-2.0](http://www.apache.org/licenses/LICENSE-2.0) for code.\n"
   ]
  },
  {
   "cell_type": "markdown",
   "metadata": {},
   "source": [
    "# $K$-Nearest Neighbor Regression: Problem solving"
   ]
  },
  {
   "cell_type": "markdown",
   "metadata": {},
   "source": [
    "In this session, we will look at another dataset, `mpg`, that examines the performance of cars from the 1970s.\n",
    "The variables in it are:\n",
    "\n",
    "| Variable | Description                              |\n",
    "|----------|:------------------------------------------|\n",
    "| mpg      | Miles/(US) gallon                        |\n",
    "| cyl      | Number of cylinders                      |\n",
    "| disp     | Displacement (cu.in.)                    |\n",
    "| hp       | Gross horsepower                         |\n",
    "| drat     | Rear axle ratio                          |\n",
    "| wt       | Weight (1000 lbs)                        |\n",
    "| qsec     | 1/4 mile time                            |\n",
    "| vs       | Engine (0 = V-shaped, 1 = straight)      |\n",
    "| am       | Transmission (0 = automatic, 1 = manual) |\n",
    "| gear     | Number of forward gears                  |\n",
    "| carb     | Number of carburetors                    | \n",
    "| **name**     | **Name of car model**|\n",
    "\n",
    "<div style=\"text-align:center;font-size: smaller\">\n",
    "    <b>Source:</b> This dataset was taken from the StatLib library which is maintained at Carnegie Mellon University.\n",
    "</div>"
   ]
  },
  {
   "cell_type": "markdown",
   "metadata": {},
   "source": [
    "The last variable, `name` is not data but rather an ID.\n",
    "\n",
    "For this session, we are interested in predicting `mpg`.\n",
    "\n",
    "**QUESTION:**\n",
    "\n",
    "What makes name an ID?"
   ]
  },
  {
   "cell_type": "markdown",
   "metadata": {},
   "source": [
    "**ANSWER: (click here to edit)**\n",
    "\n",
    "\n",
    "<hr>"
   ]
  },
  {
   "cell_type": "markdown",
   "metadata": {},
   "source": [
    "## Load the data\n",
    "\n",
    "Start by importing `pandas`."
   ]
  },
  {
   "cell_type": "code",
   "execution_count": 2,
   "metadata": {
    "user_blocks": [
     "importAs"
    ],
    "user_blocks_xml": "<xml xmlns=\"https://developers.google.com/blockly/xml\"><variables><variable id=\"A]5Vf/x,=8dk=KKk3OrJ\">pd</variable></variables><block type=\"importAs\" id=\"/k@:}OLWtAh)hpx[.2^]\" x=\"150\" y=\"308\"><field name=\"libraryName\">pandas</field><field name=\"VAR\" id=\"A]5Vf/x,=8dk=KKk3OrJ\">pd</field></block></xml>",
    "user_code_from_blocks": "import pandas as pd\n"
   },
   "outputs": [],
   "source": [
    "import pandas as pd\n",
    "\n",
    "#<xml xmlns=\"https://developers.google.com/blockly/xml\"><variables><variable id=\"A]5Vf/x,=8dk=KKk3OrJ\">pd</variable></variables><block type=\"importAs\" id=\"/k@:}OLWtAh)hpx[.2^]\" x=\"150\" y=\"308\"><field name=\"libraryName\">pandas</field><field name=\"VAR\" id=\"A]5Vf/x,=8dk=KKk3OrJ\">pd</field></block></xml>"
   ]
  },
  {
   "cell_type": "markdown",
   "metadata": {},
   "source": [
    "Load a dataframe with `\"datasets/mpg-nona.csv\"` but tell `pandas` to treat `name` as an ID.\n",
    "\n",
    "Hint: `read_csv` using the filename and `index_col=\"name\"`."
   ]
  },
  {
   "cell_type": "code",
   "execution_count": 4,
   "metadata": {
    "user_blocks": [
     "variables_set",
     "varDoMethod",
     "text",
     "dummyOutputCodeBlock",
     "variables_get"
    ],
    "user_blocks_xml": "<xml xmlns=\"https://developers.google.com/blockly/xml\"><variables><variable id=\"$%drMkQ:qhLh-L8dv:ow\">dataframe</variable><variable id=\"A]5Vf/x,=8dk=KKk3OrJ\">pd</variable></variables><block type=\"variables_set\" id=\"FJGldw(qFp?V=E]uaN)4\" x=\"3\" y=\"114\"><field name=\"VAR\" id=\"$%drMkQ:qhLh-L8dv:ow\">dataframe</field><value name=\"VALUE\"><block type=\"varDoMethod\" id=\"4s18v%0iqE%_l@{fLYCo\"><mutation items=\"2\"></mutation><field name=\"VAR\" id=\"A]5Vf/x,=8dk=KKk3OrJ\">pd</field><field name=\"MEMBER\">read_csv</field><data>pd:read_csv</data><value name=\"ADD0\"><block type=\"text\" id=\"tN4Jmaffy/={ZFo;uu;W\"><field name=\"TEXT\">datasets/mpg-nona.csv</field></block></value><value name=\"ADD1\"><block type=\"dummyOutputCodeBlock\" id=\"@fuk{Xo8y56/8Y$fXPCW\"><field name=\"CODE\">index_col=\"name\"</field></block></value></block></value></block><block type=\"variables_get\" id=\"xe,_So|iQl`4_no@5h_m\" x=\"8\" y=\"296\"><field name=\"VAR\" id=\"$%drMkQ:qhLh-L8dv:ow\">dataframe</field></block></xml>",
    "user_code_from_blocks": "dataframe = pd.read_csv('datasets/mpg-nona.csv',index_col=\"name\")\n\ndataframe\n"
   },
   "outputs": [
    {
     "data": {
      "text/html": [
       "<div>\n",
       "<style scoped>\n",
       "    .dataframe tbody tr th:only-of-type {\n",
       "        vertical-align: middle;\n",
       "    }\n",
       "\n",
       "    .dataframe tbody tr th {\n",
       "        vertical-align: top;\n",
       "    }\n",
       "\n",
       "    .dataframe thead th {\n",
       "        text-align: right;\n",
       "    }\n",
       "</style>\n",
       "<table border=\"1\" class=\"dataframe\">\n",
       "  <thead>\n",
       "    <tr style=\"text-align: right;\">\n",
       "      <th></th>\n",
       "      <th>mpg</th>\n",
       "      <th>cylinders</th>\n",
       "      <th>displacement</th>\n",
       "      <th>horsepower</th>\n",
       "      <th>weight</th>\n",
       "      <th>acceleration</th>\n",
       "      <th>model_year</th>\n",
       "      <th>origin</th>\n",
       "    </tr>\n",
       "    <tr>\n",
       "      <th>name</th>\n",
       "      <th></th>\n",
       "      <th></th>\n",
       "      <th></th>\n",
       "      <th></th>\n",
       "      <th></th>\n",
       "      <th></th>\n",
       "      <th></th>\n",
       "      <th></th>\n",
       "    </tr>\n",
       "  </thead>\n",
       "  <tbody>\n",
       "    <tr>\n",
       "      <th>chevrolet chevelle malibu</th>\n",
       "      <td>18.0</td>\n",
       "      <td>8</td>\n",
       "      <td>307.0</td>\n",
       "      <td>130</td>\n",
       "      <td>3504</td>\n",
       "      <td>12.0</td>\n",
       "      <td>70</td>\n",
       "      <td>1</td>\n",
       "    </tr>\n",
       "    <tr>\n",
       "      <th>buick skylark 320</th>\n",
       "      <td>15.0</td>\n",
       "      <td>8</td>\n",
       "      <td>350.0</td>\n",
       "      <td>165</td>\n",
       "      <td>3693</td>\n",
       "      <td>11.5</td>\n",
       "      <td>70</td>\n",
       "      <td>1</td>\n",
       "    </tr>\n",
       "    <tr>\n",
       "      <th>plymouth satellite</th>\n",
       "      <td>18.0</td>\n",
       "      <td>8</td>\n",
       "      <td>318.0</td>\n",
       "      <td>150</td>\n",
       "      <td>3436</td>\n",
       "      <td>11.0</td>\n",
       "      <td>70</td>\n",
       "      <td>1</td>\n",
       "    </tr>\n",
       "    <tr>\n",
       "      <th>amc rebel sst</th>\n",
       "      <td>16.0</td>\n",
       "      <td>8</td>\n",
       "      <td>304.0</td>\n",
       "      <td>150</td>\n",
       "      <td>3433</td>\n",
       "      <td>12.0</td>\n",
       "      <td>70</td>\n",
       "      <td>1</td>\n",
       "    </tr>\n",
       "    <tr>\n",
       "      <th>ford torino</th>\n",
       "      <td>17.0</td>\n",
       "      <td>8</td>\n",
       "      <td>302.0</td>\n",
       "      <td>140</td>\n",
       "      <td>3449</td>\n",
       "      <td>10.5</td>\n",
       "      <td>70</td>\n",
       "      <td>1</td>\n",
       "    </tr>\n",
       "    <tr>\n",
       "      <th>...</th>\n",
       "      <td>...</td>\n",
       "      <td>...</td>\n",
       "      <td>...</td>\n",
       "      <td>...</td>\n",
       "      <td>...</td>\n",
       "      <td>...</td>\n",
       "      <td>...</td>\n",
       "      <td>...</td>\n",
       "    </tr>\n",
       "    <tr>\n",
       "      <th>ford mustang gl</th>\n",
       "      <td>27.0</td>\n",
       "      <td>4</td>\n",
       "      <td>140.0</td>\n",
       "      <td>86</td>\n",
       "      <td>2790</td>\n",
       "      <td>15.6</td>\n",
       "      <td>82</td>\n",
       "      <td>1</td>\n",
       "    </tr>\n",
       "    <tr>\n",
       "      <th>vw pickup</th>\n",
       "      <td>44.0</td>\n",
       "      <td>4</td>\n",
       "      <td>97.0</td>\n",
       "      <td>52</td>\n",
       "      <td>2130</td>\n",
       "      <td>24.6</td>\n",
       "      <td>82</td>\n",
       "      <td>2</td>\n",
       "    </tr>\n",
       "    <tr>\n",
       "      <th>dodge rampage</th>\n",
       "      <td>32.0</td>\n",
       "      <td>4</td>\n",
       "      <td>135.0</td>\n",
       "      <td>84</td>\n",
       "      <td>2295</td>\n",
       "      <td>11.6</td>\n",
       "      <td>82</td>\n",
       "      <td>1</td>\n",
       "    </tr>\n",
       "    <tr>\n",
       "      <th>ford ranger</th>\n",
       "      <td>28.0</td>\n",
       "      <td>4</td>\n",
       "      <td>120.0</td>\n",
       "      <td>79</td>\n",
       "      <td>2625</td>\n",
       "      <td>18.6</td>\n",
       "      <td>82</td>\n",
       "      <td>1</td>\n",
       "    </tr>\n",
       "    <tr>\n",
       "      <th>chevy s-10</th>\n",
       "      <td>31.0</td>\n",
       "      <td>4</td>\n",
       "      <td>119.0</td>\n",
       "      <td>82</td>\n",
       "      <td>2720</td>\n",
       "      <td>19.4</td>\n",
       "      <td>82</td>\n",
       "      <td>1</td>\n",
       "    </tr>\n",
       "  </tbody>\n",
       "</table>\n",
       "<p>392 rows × 8 columns</p>\n",
       "</div>"
      ],
      "text/plain": [
       "                            mpg  cylinders  displacement  horsepower  weight  \\\n",
       "name                                                                           \n",
       "chevrolet chevelle malibu  18.0          8         307.0         130    3504   \n",
       "buick skylark 320          15.0          8         350.0         165    3693   \n",
       "plymouth satellite         18.0          8         318.0         150    3436   \n",
       "amc rebel sst              16.0          8         304.0         150    3433   \n",
       "ford torino                17.0          8         302.0         140    3449   \n",
       "...                         ...        ...           ...         ...     ...   \n",
       "ford mustang gl            27.0          4         140.0          86    2790   \n",
       "vw pickup                  44.0          4          97.0          52    2130   \n",
       "dodge rampage              32.0          4         135.0          84    2295   \n",
       "ford ranger                28.0          4         120.0          79    2625   \n",
       "chevy s-10                 31.0          4         119.0          82    2720   \n",
       "\n",
       "                           acceleration  model_year  origin  \n",
       "name                                                         \n",
       "chevrolet chevelle malibu          12.0          70       1  \n",
       "buick skylark 320                  11.5          70       1  \n",
       "plymouth satellite                 11.0          70       1  \n",
       "amc rebel sst                      12.0          70       1  \n",
       "ford torino                        10.5          70       1  \n",
       "...                                 ...         ...     ...  \n",
       "ford mustang gl                    15.6          82       1  \n",
       "vw pickup                          24.6          82       2  \n",
       "dodge rampage                      11.6          82       1  \n",
       "ford ranger                        18.6          82       1  \n",
       "chevy s-10                         19.4          82       1  \n",
       "\n",
       "[392 rows x 8 columns]"
      ]
     },
     "execution_count": 4,
     "metadata": {},
     "output_type": "execute_result"
    }
   ],
   "source": [
    "dataframe = pd.read_csv('datasets/mpg-nona.csv',index_col=\"name\")\n",
    "\n",
    "dataframe\n",
    "\n",
    "#<xml xmlns=\"https://developers.google.com/blockly/xml\"><variables><variable id=\"$%drMkQ:qhLh-L8dv:ow\">dataframe</variable><variable id=\"A]5Vf/x,=8dk=KKk3OrJ\">pd</variable></variables><block type=\"variables_set\" id=\"FJGldw(qFp?V=E]uaN)4\" x=\"3\" y=\"114\"><field name=\"VAR\" id=\"$%drMkQ:qhLh-L8dv:ow\">dataframe</field><value name=\"VALUE\"><block type=\"varDoMethod\" id=\"4s18v%0iqE%_l@{fLYCo\"><mutation items=\"2\"></mutation><field name=\"VAR\" id=\"A]5Vf/x,=8dk=KKk3OrJ\">pd</field><field name=\"MEMBER\">read_csv</field><data>pd:read_csv</data><value name=\"ADD0\"><block type=\"text\" id=\"tN4Jmaffy/={ZFo;uu;W\"><field name=\"TEXT\">datasets/mpg-nona.csv</field></block></value><value name=\"ADD1\"><block type=\"dummyOutputCodeBlock\" id=\"@fuk{Xo8y56/8Y$fXPCW\"><field name=\"CODE\">index_col=\"name\"</field></block></value></block></value></block><block type=\"variables_get\" id=\"xe,_So|iQl`4_no@5h_m\" x=\"8\" y=\"296\"><field name=\"VAR\" id=\"$%drMkQ:qhLh-L8dv:ow\">dataframe</field></block></xml>"
   ]
  },
  {
   "cell_type": "markdown",
   "metadata": {},
   "source": [
    "**QUESTION:**\n",
    "\n",
    "If we had kept `name` as a variable, what do you think would have happened?"
   ]
  },
  {
   "cell_type": "markdown",
   "metadata": {},
   "source": [
    "**ANSWER: (click here to edit)**\n",
    "\n",
    "*KNN would not be able to calculate the distance between names, and would have thrown an error*\n",
    "\n",
    "<hr>"
   ]
  },
  {
   "cell_type": "markdown",
   "metadata": {},
   "source": [
    "## Prepare train/test sets\n",
    "\n",
    "Create a new dataframe without `mpg` (i.e, using `drop`) to use as your `X`."
   ]
  },
  {
   "cell_type": "code",
   "execution_count": 8,
   "metadata": {
    "user_blocks": [
     "variables_set",
     "varDoMethod",
     "dummyOutputCodeBlock",
     "variables_get"
    ],
    "user_blocks_xml": "<xml xmlns=\"https://developers.google.com/blockly/xml\"><variables><variable id=\".X4`4]:_GBz1DeII8[o2\">X</variable><variable id=\"$%drMkQ:qhLh-L8dv:ow\">dataframe</variable></variables><block type=\"variables_set\" id=\"j12HEn?u}2$P-S)Ax6d(\" x=\"18\" y=\"151\"><field name=\"VAR\" id=\".X4`4]:_GBz1DeII8[o2\">X</field><value name=\"VALUE\"><block type=\"varDoMethod\" id=\"PMH^/O2y?rD(Y}r-N6eY\"><mutation items=\"1\"></mutation><field name=\"VAR\" id=\"$%drMkQ:qhLh-L8dv:ow\">dataframe</field><field name=\"MEMBER\">drop</field><data>dataframe:drop</data><value name=\"ADD0\"><block type=\"dummyOutputCodeBlock\" id=\"8N-YF(7ms%)oox.~Z;b/\"><field name=\"CODE\">columns=[\"mpg\"]</field></block></value></block></value></block><block type=\"variables_get\" id=\"DdFRZt{,QusD6$#{{SUu\" x=\"8\" y=\"296\"><field name=\"VAR\" id=\".X4`4]:_GBz1DeII8[o2\">X</field></block></xml>",
    "user_code_from_blocks": "X = dataframe.drop(columns=[\"mpg\"])\n\nX\n"
   },
   "outputs": [
    {
     "data": {
      "text/html": [
       "<div>\n",
       "<style scoped>\n",
       "    .dataframe tbody tr th:only-of-type {\n",
       "        vertical-align: middle;\n",
       "    }\n",
       "\n",
       "    .dataframe tbody tr th {\n",
       "        vertical-align: top;\n",
       "    }\n",
       "\n",
       "    .dataframe thead th {\n",
       "        text-align: right;\n",
       "    }\n",
       "</style>\n",
       "<table border=\"1\" class=\"dataframe\">\n",
       "  <thead>\n",
       "    <tr style=\"text-align: right;\">\n",
       "      <th></th>\n",
       "      <th>cylinders</th>\n",
       "      <th>displacement</th>\n",
       "      <th>horsepower</th>\n",
       "      <th>weight</th>\n",
       "      <th>acceleration</th>\n",
       "      <th>model_year</th>\n",
       "      <th>origin</th>\n",
       "    </tr>\n",
       "    <tr>\n",
       "      <th>name</th>\n",
       "      <th></th>\n",
       "      <th></th>\n",
       "      <th></th>\n",
       "      <th></th>\n",
       "      <th></th>\n",
       "      <th></th>\n",
       "      <th></th>\n",
       "    </tr>\n",
       "  </thead>\n",
       "  <tbody>\n",
       "    <tr>\n",
       "      <th>chevrolet chevelle malibu</th>\n",
       "      <td>8</td>\n",
       "      <td>307.0</td>\n",
       "      <td>130</td>\n",
       "      <td>3504</td>\n",
       "      <td>12.0</td>\n",
       "      <td>70</td>\n",
       "      <td>1</td>\n",
       "    </tr>\n",
       "    <tr>\n",
       "      <th>buick skylark 320</th>\n",
       "      <td>8</td>\n",
       "      <td>350.0</td>\n",
       "      <td>165</td>\n",
       "      <td>3693</td>\n",
       "      <td>11.5</td>\n",
       "      <td>70</td>\n",
       "      <td>1</td>\n",
       "    </tr>\n",
       "    <tr>\n",
       "      <th>plymouth satellite</th>\n",
       "      <td>8</td>\n",
       "      <td>318.0</td>\n",
       "      <td>150</td>\n",
       "      <td>3436</td>\n",
       "      <td>11.0</td>\n",
       "      <td>70</td>\n",
       "      <td>1</td>\n",
       "    </tr>\n",
       "    <tr>\n",
       "      <th>amc rebel sst</th>\n",
       "      <td>8</td>\n",
       "      <td>304.0</td>\n",
       "      <td>150</td>\n",
       "      <td>3433</td>\n",
       "      <td>12.0</td>\n",
       "      <td>70</td>\n",
       "      <td>1</td>\n",
       "    </tr>\n",
       "    <tr>\n",
       "      <th>ford torino</th>\n",
       "      <td>8</td>\n",
       "      <td>302.0</td>\n",
       "      <td>140</td>\n",
       "      <td>3449</td>\n",
       "      <td>10.5</td>\n",
       "      <td>70</td>\n",
       "      <td>1</td>\n",
       "    </tr>\n",
       "    <tr>\n",
       "      <th>...</th>\n",
       "      <td>...</td>\n",
       "      <td>...</td>\n",
       "      <td>...</td>\n",
       "      <td>...</td>\n",
       "      <td>...</td>\n",
       "      <td>...</td>\n",
       "      <td>...</td>\n",
       "    </tr>\n",
       "    <tr>\n",
       "      <th>ford mustang gl</th>\n",
       "      <td>4</td>\n",
       "      <td>140.0</td>\n",
       "      <td>86</td>\n",
       "      <td>2790</td>\n",
       "      <td>15.6</td>\n",
       "      <td>82</td>\n",
       "      <td>1</td>\n",
       "    </tr>\n",
       "    <tr>\n",
       "      <th>vw pickup</th>\n",
       "      <td>4</td>\n",
       "      <td>97.0</td>\n",
       "      <td>52</td>\n",
       "      <td>2130</td>\n",
       "      <td>24.6</td>\n",
       "      <td>82</td>\n",
       "      <td>2</td>\n",
       "    </tr>\n",
       "    <tr>\n",
       "      <th>dodge rampage</th>\n",
       "      <td>4</td>\n",
       "      <td>135.0</td>\n",
       "      <td>84</td>\n",
       "      <td>2295</td>\n",
       "      <td>11.6</td>\n",
       "      <td>82</td>\n",
       "      <td>1</td>\n",
       "    </tr>\n",
       "    <tr>\n",
       "      <th>ford ranger</th>\n",
       "      <td>4</td>\n",
       "      <td>120.0</td>\n",
       "      <td>79</td>\n",
       "      <td>2625</td>\n",
       "      <td>18.6</td>\n",
       "      <td>82</td>\n",
       "      <td>1</td>\n",
       "    </tr>\n",
       "    <tr>\n",
       "      <th>chevy s-10</th>\n",
       "      <td>4</td>\n",
       "      <td>119.0</td>\n",
       "      <td>82</td>\n",
       "      <td>2720</td>\n",
       "      <td>19.4</td>\n",
       "      <td>82</td>\n",
       "      <td>1</td>\n",
       "    </tr>\n",
       "  </tbody>\n",
       "</table>\n",
       "<p>392 rows × 7 columns</p>\n",
       "</div>"
      ],
      "text/plain": [
       "                           cylinders  displacement  horsepower  weight  \\\n",
       "name                                                                     \n",
       "chevrolet chevelle malibu          8         307.0         130    3504   \n",
       "buick skylark 320                  8         350.0         165    3693   \n",
       "plymouth satellite                 8         318.0         150    3436   \n",
       "amc rebel sst                      8         304.0         150    3433   \n",
       "ford torino                        8         302.0         140    3449   \n",
       "...                              ...           ...         ...     ...   \n",
       "ford mustang gl                    4         140.0          86    2790   \n",
       "vw pickup                          4          97.0          52    2130   \n",
       "dodge rampage                      4         135.0          84    2295   \n",
       "ford ranger                        4         120.0          79    2625   \n",
       "chevy s-10                         4         119.0          82    2720   \n",
       "\n",
       "                           acceleration  model_year  origin  \n",
       "name                                                         \n",
       "chevrolet chevelle malibu          12.0          70       1  \n",
       "buick skylark 320                  11.5          70       1  \n",
       "plymouth satellite                 11.0          70       1  \n",
       "amc rebel sst                      12.0          70       1  \n",
       "ford torino                        10.5          70       1  \n",
       "...                                 ...         ...     ...  \n",
       "ford mustang gl                    15.6          82       1  \n",
       "vw pickup                          24.6          82       2  \n",
       "dodge rampage                      11.6          82       1  \n",
       "ford ranger                        18.6          82       1  \n",
       "chevy s-10                         19.4          82       1  \n",
       "\n",
       "[392 rows x 7 columns]"
      ]
     },
     "execution_count": 8,
     "metadata": {},
     "output_type": "execute_result"
    }
   ],
   "source": [
    "X = dataframe.drop(columns=[\"mpg\"])\n",
    "\n",
    "X\n",
    "\n",
    "#<xml xmlns=\"https://developers.google.com/blockly/xml\"><variables><variable id=\".X4`4]:_GBz1DeII8[o2\">X</variable><variable id=\"$%drMkQ:qhLh-L8dv:ow\">dataframe</variable></variables><block type=\"variables_set\" id=\"j12HEn?u}2$P-S)Ax6d(\" x=\"18\" y=\"151\"><field name=\"VAR\" id=\".X4`4]:_GBz1DeII8[o2\">X</field><value name=\"VALUE\"><block type=\"varDoMethod\" id=\"PMH^/O2y?rD(Y}r-N6eY\"><mutation items=\"1\"></mutation><field name=\"VAR\" id=\"$%drMkQ:qhLh-L8dv:ow\">dataframe</field><field name=\"MEMBER\">drop</field><data>dataframe:drop</data><value name=\"ADD0\"><block type=\"dummyOutputCodeBlock\" id=\"8N-YF(7ms%)oox.~Z;b/\"><field name=\"CODE\">columns=[\"mpg\"]</field></block></value></block></value></block><block type=\"variables_get\" id=\"DdFRZt{,QusD6$#{{SUu\" x=\"8\" y=\"296\"><field name=\"VAR\" id=\".X4`4]:_GBz1DeII8[o2\">X</field></block></xml>"
   ]
  },
  {
   "cell_type": "markdown",
   "metadata": {},
   "source": [
    "Create a new dataframe with *only* `mpg` to use as your `Y`."
   ]
  },
  {
   "cell_type": "code",
   "execution_count": 10,
   "metadata": {
    "user_blocks": [
     "variables_set",
     "indexer",
     "lists_create_with",
     "text",
     "variables_get"
    ],
    "user_blocks_xml": "<xml xmlns=\"https://developers.google.com/blockly/xml\"><variables><variable id=\"fnSh@+0BWBw|hcm3M|WE\">Y</variable><variable id=\"$%drMkQ:qhLh-L8dv:ow\">dataframe</variable></variables><block type=\"variables_set\" id=\"_:J1([xryT4i+F7k{#[%\" x=\"17\" y=\"175\"><field name=\"VAR\" id=\"fnSh@+0BWBw|hcm3M|WE\">Y</field><value name=\"VALUE\"><block type=\"indexer\" id=\"22hOF=T:mHvJrMybHkPs\"><field name=\"VAR\" id=\"$%drMkQ:qhLh-L8dv:ow\">dataframe</field><value name=\"INDEX\"><block type=\"lists_create_with\" id=\"qT2G_{7q~*L;[5j:vtKq\"><mutation items=\"1\"></mutation><value name=\"ADD0\"><block type=\"text\" id=\"=UVLwuCW$1d9ZJ]6HF_,\"><field name=\"TEXT\">mpg</field></block></value></block></value></block></value></block><block type=\"variables_get\" id=\"pog__n6Jf{VK_sNEB)B$\" x=\"17\" y=\"239\"><field name=\"VAR\" id=\"fnSh@+0BWBw|hcm3M|WE\">Y</field></block></xml>",
    "user_code_from_blocks": "Y = dataframe[['mpg']]\n\nY\n"
   },
   "outputs": [
    {
     "data": {
      "text/html": [
       "<div>\n",
       "<style scoped>\n",
       "    .dataframe tbody tr th:only-of-type {\n",
       "        vertical-align: middle;\n",
       "    }\n",
       "\n",
       "    .dataframe tbody tr th {\n",
       "        vertical-align: top;\n",
       "    }\n",
       "\n",
       "    .dataframe thead th {\n",
       "        text-align: right;\n",
       "    }\n",
       "</style>\n",
       "<table border=\"1\" class=\"dataframe\">\n",
       "  <thead>\n",
       "    <tr style=\"text-align: right;\">\n",
       "      <th></th>\n",
       "      <th>mpg</th>\n",
       "    </tr>\n",
       "    <tr>\n",
       "      <th>name</th>\n",
       "      <th></th>\n",
       "    </tr>\n",
       "  </thead>\n",
       "  <tbody>\n",
       "    <tr>\n",
       "      <th>chevrolet chevelle malibu</th>\n",
       "      <td>18.0</td>\n",
       "    </tr>\n",
       "    <tr>\n",
       "      <th>buick skylark 320</th>\n",
       "      <td>15.0</td>\n",
       "    </tr>\n",
       "    <tr>\n",
       "      <th>plymouth satellite</th>\n",
       "      <td>18.0</td>\n",
       "    </tr>\n",
       "    <tr>\n",
       "      <th>amc rebel sst</th>\n",
       "      <td>16.0</td>\n",
       "    </tr>\n",
       "    <tr>\n",
       "      <th>ford torino</th>\n",
       "      <td>17.0</td>\n",
       "    </tr>\n",
       "    <tr>\n",
       "      <th>...</th>\n",
       "      <td>...</td>\n",
       "    </tr>\n",
       "    <tr>\n",
       "      <th>ford mustang gl</th>\n",
       "      <td>27.0</td>\n",
       "    </tr>\n",
       "    <tr>\n",
       "      <th>vw pickup</th>\n",
       "      <td>44.0</td>\n",
       "    </tr>\n",
       "    <tr>\n",
       "      <th>dodge rampage</th>\n",
       "      <td>32.0</td>\n",
       "    </tr>\n",
       "    <tr>\n",
       "      <th>ford ranger</th>\n",
       "      <td>28.0</td>\n",
       "    </tr>\n",
       "    <tr>\n",
       "      <th>chevy s-10</th>\n",
       "      <td>31.0</td>\n",
       "    </tr>\n",
       "  </tbody>\n",
       "</table>\n",
       "<p>392 rows × 1 columns</p>\n",
       "</div>"
      ],
      "text/plain": [
       "                            mpg\n",
       "name                           \n",
       "chevrolet chevelle malibu  18.0\n",
       "buick skylark 320          15.0\n",
       "plymouth satellite         18.0\n",
       "amc rebel sst              16.0\n",
       "ford torino                17.0\n",
       "...                         ...\n",
       "ford mustang gl            27.0\n",
       "vw pickup                  44.0\n",
       "dodge rampage              32.0\n",
       "ford ranger                28.0\n",
       "chevy s-10                 31.0\n",
       "\n",
       "[392 rows x 1 columns]"
      ]
     },
     "execution_count": 10,
     "metadata": {},
     "output_type": "execute_result"
    }
   ],
   "source": [
    "Y = dataframe[['mpg']]\n",
    "\n",
    "Y\n",
    "\n",
    "#<xml xmlns=\"https://developers.google.com/blockly/xml\"><variables><variable id=\"fnSh@+0BWBw|hcm3M|WE\">Y</variable><variable id=\"$%drMkQ:qhLh-L8dv:ow\">dataframe</variable></variables><block type=\"variables_set\" id=\"_:J1([xryT4i+F7k{#[%\" x=\"17\" y=\"175\"><field name=\"VAR\" id=\"fnSh@+0BWBw|hcm3M|WE\">Y</field><value name=\"VALUE\"><block type=\"indexer\" id=\"22hOF=T:mHvJrMybHkPs\"><field name=\"VAR\" id=\"$%drMkQ:qhLh-L8dv:ow\">dataframe</field><value name=\"INDEX\"><block type=\"lists_create_with\" id=\"qT2G_{7q~*L;[5j:vtKq\"><mutation items=\"1\"></mutation><value name=\"ADD0\"><block type=\"text\" id=\"=UVLwuCW$1d9ZJ]6HF_,\"><field name=\"TEXT\">mpg</field></block></value></block></value></block></value></block><block type=\"variables_get\" id=\"pog__n6Jf{VK_sNEB)B$\" x=\"17\" y=\"239\"><field name=\"VAR\" id=\"fnSh@+0BWBw|hcm3M|WE\">Y</field></block></xml>"
   ]
  },
  {
   "cell_type": "markdown",
   "metadata": {},
   "source": [
    "The next step is to split `X` and `Y` into train and test sets. \n",
    "\n",
    "First do the import for splitting."
   ]
  },
  {
   "cell_type": "code",
   "execution_count": 12,
   "metadata": {
    "user_blocks": [
     "importAs"
    ],
    "user_blocks_xml": "<xml xmlns=\"https://developers.google.com/blockly/xml\"><variables><variable id=\"uASGz64Zb$AOvQyV4pRj\">model_selection</variable></variables><block type=\"importAs\" id=\"sN1YO5FEzpHyxb31@j,Z\" x=\"16\" y=\"10\"><field name=\"libraryName\">sklearn.model_selection</field><field name=\"VAR\" id=\"uASGz64Zb$AOvQyV4pRj\">model_selection</field></block></xml>",
    "user_code_from_blocks": "import sklearn.model_selection as model_selection\n"
   },
   "outputs": [],
   "source": [
    "import sklearn.model_selection as model_selection\n",
    "\n",
    "#<xml xmlns=\"https://developers.google.com/blockly/xml\"><variables><variable id=\"uASGz64Zb$AOvQyV4pRj\">model_selection</variable></variables><block type=\"importAs\" id=\"sN1YO5FEzpHyxb31@j,Z\" x=\"16\" y=\"10\"><field name=\"libraryName\">sklearn.model_selection</field><field name=\"VAR\" id=\"uASGz64Zb$AOvQyV4pRj\">model_selection</field></block></xml>"
   ]
  },
  {
   "cell_type": "markdown",
   "metadata": {},
   "source": [
    "Now split the data."
   ]
  },
  {
   "cell_type": "code",
   "execution_count": 14,
   "metadata": {
    "user_blocks": [
     "variables_set",
     "varDoMethod",
     "variables_get",
     "variables_get",
     "dummyOutputCodeBlock",
     "variables_get"
    ],
    "user_blocks_xml": "<xml xmlns=\"https://developers.google.com/blockly/xml\"><variables><variable id=\"_ut$e0PL4OMi4o1MXTpw\">splits</variable><variable id=\"$%drMkQ:qhLh-L8dv:ow\">dataframe</variable><variable id=\"uASGz64Zb$AOvQyV4pRj\">model_selection</variable><variable id=\".X4`4]:_GBz1DeII8[o2\">X</variable><variable id=\"fnSh@+0BWBw|hcm3M|WE\">Y</variable></variables><block type=\"variables_set\" id=\"oTGRJ#{R!U^we@Bl@pkT\" x=\"19\" y=\"206\"><field name=\"VAR\" id=\"_ut$e0PL4OMi4o1MXTpw\">splits</field><value name=\"VALUE\"><block type=\"varDoMethod\" id=\"f?j@ker(a#hJv;Nh)IGX\"><mutation items=\"3\"></mutation><field name=\"VAR\" id=\"uASGz64Zb$AOvQyV4pRj\">model_selection</field><field name=\"MEMBER\">train_test_split</field><data>model_selection:train_test_split</data><value name=\"ADD0\"><block type=\"variables_get\" id=\".mm}`*H4)i%Eq5z={e-$\"><field name=\"VAR\" id=\".X4`4]:_GBz1DeII8[o2\">X</field></block></value><value name=\"ADD1\"><block type=\"variables_get\" id=\"I3dOV;CPBf^~E%BvgthZ\"><field name=\"VAR\" id=\"fnSh@+0BWBw|hcm3M|WE\">Y</field></block></value><value name=\"ADD2\"><block type=\"dummyOutputCodeBlock\" id=\"@Hg?ib/!8fH$;f3pWJy2\"><field name=\"CODE\">test_size=0.2</field></block></value></block></value></block><block type=\"variables_get\" id=\"LziQaRD`q6IGN=vPaqsj\" x=\"8\" y=\"364\"><field name=\"VAR\" id=\"$%drMkQ:qhLh-L8dv:ow\">dataframe</field></block></xml>",
    "user_code_from_blocks": "splits = model_selection.train_test_split(X,Y,test_size=0.2)\n\ndataframe\n"
   },
   "outputs": [
    {
     "data": {
      "text/html": [
       "<div>\n",
       "<style scoped>\n",
       "    .dataframe tbody tr th:only-of-type {\n",
       "        vertical-align: middle;\n",
       "    }\n",
       "\n",
       "    .dataframe tbody tr th {\n",
       "        vertical-align: top;\n",
       "    }\n",
       "\n",
       "    .dataframe thead th {\n",
       "        text-align: right;\n",
       "    }\n",
       "</style>\n",
       "<table border=\"1\" class=\"dataframe\">\n",
       "  <thead>\n",
       "    <tr style=\"text-align: right;\">\n",
       "      <th></th>\n",
       "      <th>mpg</th>\n",
       "      <th>cylinders</th>\n",
       "      <th>displacement</th>\n",
       "      <th>horsepower</th>\n",
       "      <th>weight</th>\n",
       "      <th>acceleration</th>\n",
       "      <th>model_year</th>\n",
       "      <th>origin</th>\n",
       "    </tr>\n",
       "    <tr>\n",
       "      <th>name</th>\n",
       "      <th></th>\n",
       "      <th></th>\n",
       "      <th></th>\n",
       "      <th></th>\n",
       "      <th></th>\n",
       "      <th></th>\n",
       "      <th></th>\n",
       "      <th></th>\n",
       "    </tr>\n",
       "  </thead>\n",
       "  <tbody>\n",
       "    <tr>\n",
       "      <th>chevrolet chevelle malibu</th>\n",
       "      <td>18.0</td>\n",
       "      <td>8</td>\n",
       "      <td>307.0</td>\n",
       "      <td>130</td>\n",
       "      <td>3504</td>\n",
       "      <td>12.0</td>\n",
       "      <td>70</td>\n",
       "      <td>1</td>\n",
       "    </tr>\n",
       "    <tr>\n",
       "      <th>buick skylark 320</th>\n",
       "      <td>15.0</td>\n",
       "      <td>8</td>\n",
       "      <td>350.0</td>\n",
       "      <td>165</td>\n",
       "      <td>3693</td>\n",
       "      <td>11.5</td>\n",
       "      <td>70</td>\n",
       "      <td>1</td>\n",
       "    </tr>\n",
       "    <tr>\n",
       "      <th>plymouth satellite</th>\n",
       "      <td>18.0</td>\n",
       "      <td>8</td>\n",
       "      <td>318.0</td>\n",
       "      <td>150</td>\n",
       "      <td>3436</td>\n",
       "      <td>11.0</td>\n",
       "      <td>70</td>\n",
       "      <td>1</td>\n",
       "    </tr>\n",
       "    <tr>\n",
       "      <th>amc rebel sst</th>\n",
       "      <td>16.0</td>\n",
       "      <td>8</td>\n",
       "      <td>304.0</td>\n",
       "      <td>150</td>\n",
       "      <td>3433</td>\n",
       "      <td>12.0</td>\n",
       "      <td>70</td>\n",
       "      <td>1</td>\n",
       "    </tr>\n",
       "    <tr>\n",
       "      <th>ford torino</th>\n",
       "      <td>17.0</td>\n",
       "      <td>8</td>\n",
       "      <td>302.0</td>\n",
       "      <td>140</td>\n",
       "      <td>3449</td>\n",
       "      <td>10.5</td>\n",
       "      <td>70</td>\n",
       "      <td>1</td>\n",
       "    </tr>\n",
       "    <tr>\n",
       "      <th>...</th>\n",
       "      <td>...</td>\n",
       "      <td>...</td>\n",
       "      <td>...</td>\n",
       "      <td>...</td>\n",
       "      <td>...</td>\n",
       "      <td>...</td>\n",
       "      <td>...</td>\n",
       "      <td>...</td>\n",
       "    </tr>\n",
       "    <tr>\n",
       "      <th>ford mustang gl</th>\n",
       "      <td>27.0</td>\n",
       "      <td>4</td>\n",
       "      <td>140.0</td>\n",
       "      <td>86</td>\n",
       "      <td>2790</td>\n",
       "      <td>15.6</td>\n",
       "      <td>82</td>\n",
       "      <td>1</td>\n",
       "    </tr>\n",
       "    <tr>\n",
       "      <th>vw pickup</th>\n",
       "      <td>44.0</td>\n",
       "      <td>4</td>\n",
       "      <td>97.0</td>\n",
       "      <td>52</td>\n",
       "      <td>2130</td>\n",
       "      <td>24.6</td>\n",
       "      <td>82</td>\n",
       "      <td>2</td>\n",
       "    </tr>\n",
       "    <tr>\n",
       "      <th>dodge rampage</th>\n",
       "      <td>32.0</td>\n",
       "      <td>4</td>\n",
       "      <td>135.0</td>\n",
       "      <td>84</td>\n",
       "      <td>2295</td>\n",
       "      <td>11.6</td>\n",
       "      <td>82</td>\n",
       "      <td>1</td>\n",
       "    </tr>\n",
       "    <tr>\n",
       "      <th>ford ranger</th>\n",
       "      <td>28.0</td>\n",
       "      <td>4</td>\n",
       "      <td>120.0</td>\n",
       "      <td>79</td>\n",
       "      <td>2625</td>\n",
       "      <td>18.6</td>\n",
       "      <td>82</td>\n",
       "      <td>1</td>\n",
       "    </tr>\n",
       "    <tr>\n",
       "      <th>chevy s-10</th>\n",
       "      <td>31.0</td>\n",
       "      <td>4</td>\n",
       "      <td>119.0</td>\n",
       "      <td>82</td>\n",
       "      <td>2720</td>\n",
       "      <td>19.4</td>\n",
       "      <td>82</td>\n",
       "      <td>1</td>\n",
       "    </tr>\n",
       "  </tbody>\n",
       "</table>\n",
       "<p>392 rows × 8 columns</p>\n",
       "</div>"
      ],
      "text/plain": [
       "                            mpg  cylinders  displacement  horsepower  weight  \\\n",
       "name                                                                           \n",
       "chevrolet chevelle malibu  18.0          8         307.0         130    3504   \n",
       "buick skylark 320          15.0          8         350.0         165    3693   \n",
       "plymouth satellite         18.0          8         318.0         150    3436   \n",
       "amc rebel sst              16.0          8         304.0         150    3433   \n",
       "ford torino                17.0          8         302.0         140    3449   \n",
       "...                         ...        ...           ...         ...     ...   \n",
       "ford mustang gl            27.0          4         140.0          86    2790   \n",
       "vw pickup                  44.0          4          97.0          52    2130   \n",
       "dodge rampage              32.0          4         135.0          84    2295   \n",
       "ford ranger                28.0          4         120.0          79    2625   \n",
       "chevy s-10                 31.0          4         119.0          82    2720   \n",
       "\n",
       "                           acceleration  model_year  origin  \n",
       "name                                                         \n",
       "chevrolet chevelle malibu          12.0          70       1  \n",
       "buick skylark 320                  11.5          70       1  \n",
       "plymouth satellite                 11.0          70       1  \n",
       "amc rebel sst                      12.0          70       1  \n",
       "ford torino                        10.5          70       1  \n",
       "...                                 ...         ...     ...  \n",
       "ford mustang gl                    15.6          82       1  \n",
       "vw pickup                          24.6          82       2  \n",
       "dodge rampage                      11.6          82       1  \n",
       "ford ranger                        18.6          82       1  \n",
       "chevy s-10                         19.4          82       1  \n",
       "\n",
       "[392 rows x 8 columns]"
      ]
     },
     "execution_count": 14,
     "metadata": {},
     "output_type": "execute_result"
    }
   ],
   "source": [
    "splits = model_selection.train_test_split(X,Y,test_size=0.2)\n",
    "\n",
    "dataframe\n",
    "\n",
    "#<xml xmlns=\"https://developers.google.com/blockly/xml\"><variables><variable id=\"_ut$e0PL4OMi4o1MXTpw\">splits</variable><variable id=\"$%drMkQ:qhLh-L8dv:ow\">dataframe</variable><variable id=\"uASGz64Zb$AOvQyV4pRj\">model_selection</variable><variable id=\".X4`4]:_GBz1DeII8[o2\">X</variable><variable id=\"fnSh@+0BWBw|hcm3M|WE\">Y</variable></variables><block type=\"variables_set\" id=\"oTGRJ#{R!U^we@Bl@pkT\" x=\"19\" y=\"206\"><field name=\"VAR\" id=\"_ut$e0PL4OMi4o1MXTpw\">splits</field><value name=\"VALUE\"><block type=\"varDoMethod\" id=\"f?j@ker(a#hJv;Nh)IGX\"><mutation items=\"3\"></mutation><field name=\"VAR\" id=\"uASGz64Zb$AOvQyV4pRj\">model_selection</field><field name=\"MEMBER\">train_test_split</field><data>model_selection:train_test_split</data><value name=\"ADD0\"><block type=\"variables_get\" id=\".mm}`*H4)i%Eq5z={e-$\"><field name=\"VAR\" id=\".X4`4]:_GBz1DeII8[o2\">X</field></block></value><value name=\"ADD1\"><block type=\"variables_get\" id=\"I3dOV;CPBf^~E%BvgthZ\"><field name=\"VAR\" id=\"fnSh@+0BWBw|hcm3M|WE\">Y</field></block></value><value name=\"ADD2\"><block type=\"dummyOutputCodeBlock\" id=\"@Hg?ib/!8fH$;f3pWJy2\"><field name=\"CODE\">test_size=0.2</field></block></value></block></value></block><block type=\"variables_get\" id=\"LziQaRD`q6IGN=vPaqsj\" x=\"8\" y=\"364\"><field name=\"VAR\" id=\"$%drMkQ:qhLh-L8dv:ow\">dataframe</field></block></xml>"
   ]
  },
  {
   "cell_type": "markdown",
   "metadata": {},
   "source": [
    "## KNN regression model\n",
    "\n",
    "Import the five libraries you need for:\n",
    "\n",
    "- KNN regression\n",
    "- Mean squared error\n",
    "- Ravel\n",
    "- Scale\n",
    "- Pipeline"
   ]
  },
  {
   "cell_type": "code",
   "execution_count": 16,
   "metadata": {
    "user_blocks": [
     "importAs",
     "importAs",
     "importAs",
     "importAs",
     "importAs"
    ],
    "user_blocks_xml": "<xml xmlns=\"https://developers.google.com/blockly/xml\"><variables><variable id=\"MvUG^P$o3=I*6/67?Rk:\">neighbors</variable><variable id=\")}+w@N9iB/j=:+PLkMv8\">metrics</variable><variable id=\"Zhzp)s*VL?V@ES3(j:*b\">np</variable><variable id=\".T`xqZHAu7r0$MQ4s=Yg\">pp</variable><variable id=\"=z9KfSBWpoDS,oj-?yx,\">pipe</variable></variables><block type=\"importAs\" id=\"Jkis0rqxTm[rs0.yA(O7\" x=\"183\" y=\"249\"><field name=\"libraryName\">sklearn.neighbors</field><field name=\"VAR\" id=\"MvUG^P$o3=I*6/67?Rk:\">neighbors</field><next><block type=\"importAs\" id=\"*G_SVgZ;}hIr,Hi1~$Z6\"><field name=\"libraryName\">sklearn.metrics</field><field name=\"VAR\" id=\")}+w@N9iB/j=:+PLkMv8\">metrics</field><next><block type=\"importAs\" id=\"1ODp#_M`@7Fj/@US}H%#\"><field name=\"libraryName\">numpy</field><field name=\"VAR\" id=\"Zhzp)s*VL?V@ES3(j:*b\">np</field><next><block type=\"importAs\" id=\"/YAkt4vqDQp/.5;pPcY.\"><field name=\"libraryName\">sklearn.preprocessing</field><field name=\"VAR\" id=\".T`xqZHAu7r0$MQ4s=Yg\">pp</field><next><block type=\"importAs\" id=\"O15G]dI#1oM;`7^r@Pr,\"><field name=\"libraryName\">sklearn.pipeline</field><field name=\"VAR\" id=\"=z9KfSBWpoDS,oj-?yx,\">pipe</field></block></next></block></next></block></next></block></next></block></xml>",
    "user_code_from_blocks": "import sklearn.neighbors as neighbors\nimport sklearn.metrics as metrics\nimport numpy as np\nimport sklearn.preprocessing as pp\nimport sklearn.pipeline as pipe\n"
   },
   "outputs": [],
   "source": [
    "import sklearn.neighbors as neighbors\n",
    "import sklearn.metrics as metrics\n",
    "import numpy as np\n",
    "import sklearn.preprocessing as pp\n",
    "import sklearn.pipeline as pipe\n",
    "\n",
    "#<xml xmlns=\"https://developers.google.com/blockly/xml\"><variables><variable id=\"MvUG^P$o3=I*6/67?Rk:\">neighbors</variable><variable id=\")}+w@N9iB/j=:+PLkMv8\">metrics</variable><variable id=\"Zhzp)s*VL?V@ES3(j:*b\">np</variable><variable id=\".T`xqZHAu7r0$MQ4s=Yg\">pp</variable><variable id=\"=z9KfSBWpoDS,oj-?yx,\">pipe</variable></variables><block type=\"importAs\" id=\"Jkis0rqxTm[rs0.yA(O7\" x=\"183\" y=\"249\"><field name=\"libraryName\">sklearn.neighbors</field><field name=\"VAR\" id=\"MvUG^P$o3=I*6/67?Rk:\">neighbors</field><next><block type=\"importAs\" id=\"*G_SVgZ;}hIr,Hi1~$Z6\"><field name=\"libraryName\">sklearn.metrics</field><field name=\"VAR\" id=\")}+w@N9iB/j=:+PLkMv8\">metrics</field><next><block type=\"importAs\" id=\"1ODp#_M`@7Fj/@US}H%#\"><field name=\"libraryName\">numpy</field><field name=\"VAR\" id=\"Zhzp)s*VL?V@ES3(j:*b\">np</field><next><block type=\"importAs\" id=\"/YAkt4vqDQp/.5;pPcY.\"><field name=\"libraryName\">sklearn.preprocessing</field><field name=\"VAR\" id=\".T`xqZHAu7r0$MQ4s=Yg\">pp</field><next><block type=\"importAs\" id=\"O15G]dI#1oM;`7^r@Pr,\"><field name=\"libraryName\">sklearn.pipeline</field><field name=\"VAR\" id=\"=z9KfSBWpoDS,oj-?yx,\">pipe</field></block></next></block></next></block></next></block></next></block></xml>"
   ]
  },
  {
   "cell_type": "markdown",
   "metadata": {},
   "source": [
    "Create a pipeline with a scaler and KNN regression.\n",
    "Remember we need the scaler to put all our variables on the same scale."
   ]
  },
  {
   "cell_type": "code",
   "execution_count": 18,
   "metadata": {
    "user_blocks": [
     "variables_set",
     "varDoMethod",
     "varCreateObject",
     "varCreateObject",
     "dummyOutputCodeBlock"
    ],
    "user_blocks_xml": "<xml xmlns=\"https://developers.google.com/blockly/xml\"><variables><variable id=\"`P)`+jl|;h{.[r}{78q6\">std_clf</variable><variable id=\"=z9KfSBWpoDS,oj-?yx,\">pipe</variable><variable id=\".T`xqZHAu7r0$MQ4s=Yg\">pp</variable><variable id=\"MvUG^P$o3=I*6/67?Rk:\">neighbors</variable></variables><block type=\"variables_set\" id=\"}81D/tZY#o}$E:M}:u4x\" x=\"28\" y=\"96\"><field name=\"VAR\" id=\"`P)`+jl|;h{.[r}{78q6\">std_clf</field><value name=\"VALUE\"><block type=\"varDoMethod\" id=\"(Noh/e~gvTM3-4|;g]s[\"><mutation items=\"2\"></mutation><field name=\"VAR\" id=\"=z9KfSBWpoDS,oj-?yx,\">pipe</field><field name=\"MEMBER\">make_pipeline</field><data>pipe:make_pipeline</data><value name=\"ADD0\"><block type=\"varCreateObject\" id=\"e9G_EPu`q{*0`$!~:jh~\"><mutation items=\"1\"></mutation><field name=\"VAR\" id=\".T`xqZHAu7r0$MQ4s=Yg\">pp</field><field name=\"MEMBER\">StandardScaler</field><data>pp:StandardScaler</data></block></value><value name=\"ADD1\"><block type=\"varCreateObject\" id=\"ar7keIh-Yv)+b+#Edsp_\"><mutation items=\"1\"></mutation><field name=\"VAR\" id=\"MvUG^P$o3=I*6/67?Rk:\">neighbors</field><field name=\"MEMBER\">KNeighborsRegressor</field><data>neighbors:KNeighborsRegressor</data><value name=\"ADD0\"><block type=\"dummyOutputCodeBlock\" id=\"Q!`Pnb+=Gq!aL4Xa}S{z\"><field name=\"CODE\">n_neighbors = 10</field></block></value></block></value></block></value></block></xml>",
    "user_code_from_blocks": "std_clf = pipe.make_pipeline(pp.StandardScaler(),neighbors.KNeighborsRegressor(n_neighbors = 10))\n"
   },
   "outputs": [],
   "source": [
    "std_clf = pipe.make_pipeline(pp.StandardScaler(),neighbors.KNeighborsRegressor(n_neighbors = 10))\n",
    "\n",
    "#<xml xmlns=\"https://developers.google.com/blockly/xml\"><variables><variable id=\"`P)`+jl|;h{.[r}{78q6\">std_clf</variable><variable id=\"=z9KfSBWpoDS,oj-?yx,\">pipe</variable><variable id=\".T`xqZHAu7r0$MQ4s=Yg\">pp</variable><variable id=\"MvUG^P$o3=I*6/67?Rk:\">neighbors</variable></variables><block type=\"variables_set\" id=\"}81D/tZY#o}$E:M}:u4x\" x=\"28\" y=\"96\"><field name=\"VAR\" id=\"`P)`+jl|;h{.[r}{78q6\">std_clf</field><value name=\"VALUE\"><block type=\"varDoMethod\" id=\"(Noh/e~gvTM3-4|;g]s[\"><mutation items=\"2\"></mutation><field name=\"VAR\" id=\"=z9KfSBWpoDS,oj-?yx,\">pipe</field><field name=\"MEMBER\">make_pipeline</field><data>pipe:make_pipeline</data><value name=\"ADD0\"><block type=\"varCreateObject\" id=\"e9G_EPu`q{*0`$!~:jh~\"><mutation items=\"1\"></mutation><field name=\"VAR\" id=\".T`xqZHAu7r0$MQ4s=Yg\">pp</field><field name=\"MEMBER\">StandardScaler</field><data>pp:StandardScaler</data></block></value><value name=\"ADD1\"><block type=\"varCreateObject\" id=\"ar7keIh-Yv)+b+#Edsp_\"><mutation items=\"1\"></mutation><field name=\"VAR\" id=\"MvUG^P$o3=I*6/67?Rk:\">neighbors</field><field name=\"MEMBER\">KNeighborsRegressor</field><data>neighbors:KNeighborsRegressor</data><value name=\"ADD0\"><block type=\"dummyOutputCodeBlock\" id=\"Q!`Pnb+=Gq!aL4Xa}S{z\"><field name=\"CODE\">n_neighbors = 10</field></block></value></block></value></block></value></block></xml>"
   ]
  },
  {
   "cell_type": "markdown",
   "metadata": {},
   "source": [
    "Train the KNN regression model using the pipeline (i.e. use `fit`)."
   ]
  },
  {
   "cell_type": "code",
   "execution_count": 20,
   "metadata": {
    "user_blocks": [
     "varDoMethod",
     "lists_getIndex",
     "variables_get",
     "math_number",
     "varDoMethod",
     "lists_getIndex",
     "variables_get",
     "math_number"
    ],
    "user_blocks_xml": "<xml xmlns=\"https://developers.google.com/blockly/xml\"><variables><variable id=\"`P)`+jl|;h{.[r}{78q6\">std_clf</variable><variable id=\"Zhzp)s*VL?V@ES3(j:*b\">np</variable><variable id=\"_ut$e0PL4OMi4o1MXTpw\">splits</variable></variables><block type=\"varDoMethod\" id=\"Z)$q-zn.KTC{+^l-wH6u\" x=\"-34\" y=\"159\"><mutation items=\"2\"></mutation><field name=\"VAR\" id=\"`P)`+jl|;h{.[r}{78q6\">std_clf</field><field name=\"MEMBER\">fit</field><data>std_clf:fit</data><value name=\"ADD0\"><block type=\"lists_getIndex\" id=\"C#,#1*rEm+]qEx?L1x[L\"><mutation statement=\"false\" at=\"true\"></mutation><field name=\"MODE\">GET</field><field name=\"WHERE\">FROM_START</field><value name=\"VALUE\"><block type=\"variables_get\" id=\"b_Sz{9#d7d=ystO|k?l_\"><field name=\"VAR\" id=\"_ut$e0PL4OMi4o1MXTpw\">splits</field></block></value><value name=\"AT\"><block type=\"math_number\" id=\":s{r1~S,,@.CSh#9`$R;\"><field name=\"NUM\">1</field></block></value></block></value><value name=\"ADD1\"><block type=\"varDoMethod\" id=\"zYBlZ,!^P^%Ib5R@Ch.H\"><mutation items=\"1\"></mutation><field name=\"VAR\" id=\"Zhzp)s*VL?V@ES3(j:*b\">np</field><field name=\"MEMBER\">ravel</field><data>np:ravel</data><value name=\"ADD0\"><block type=\"lists_getIndex\" id=\"^)UBt0jM;BnGmWeG7pw*\"><mutation statement=\"false\" at=\"true\"></mutation><field name=\"MODE\">GET</field><field name=\"WHERE\">FROM_START</field><value name=\"VALUE\"><block type=\"variables_get\" id=\"4Vo!*g]qQ=D}XtD2i39/\"><field name=\"VAR\" id=\"_ut$e0PL4OMi4o1MXTpw\">splits</field></block></value><value name=\"AT\"><block type=\"math_number\" id=\"RysCD3.C27sBxztz(T}2\"><field name=\"NUM\">3</field></block></value></block></value></block></value></block></xml>",
    "user_code_from_blocks": "std_clf.fit(splits[0],np.ravel(splits[2]))\n"
   },
   "outputs": [
    {
     "data": {
      "text/html": [
       "<style>#sk-container-id-2 {\n",
       "  /* Definition of color scheme common for light and dark mode */\n",
       "  --sklearn-color-text: #000;\n",
       "  --sklearn-color-text-muted: #666;\n",
       "  --sklearn-color-line: gray;\n",
       "  /* Definition of color scheme for unfitted estimators */\n",
       "  --sklearn-color-unfitted-level-0: #fff5e6;\n",
       "  --sklearn-color-unfitted-level-1: #f6e4d2;\n",
       "  --sklearn-color-unfitted-level-2: #ffe0b3;\n",
       "  --sklearn-color-unfitted-level-3: chocolate;\n",
       "  /* Definition of color scheme for fitted estimators */\n",
       "  --sklearn-color-fitted-level-0: #f0f8ff;\n",
       "  --sklearn-color-fitted-level-1: #d4ebff;\n",
       "  --sklearn-color-fitted-level-2: #b3dbfd;\n",
       "  --sklearn-color-fitted-level-3: cornflowerblue;\n",
       "\n",
       "  /* Specific color for light theme */\n",
       "  --sklearn-color-text-on-default-background: var(--sg-text-color, var(--theme-code-foreground, var(--jp-content-font-color1, black)));\n",
       "  --sklearn-color-background: var(--sg-background-color, var(--theme-background, var(--jp-layout-color0, white)));\n",
       "  --sklearn-color-border-box: var(--sg-text-color, var(--theme-code-foreground, var(--jp-content-font-color1, black)));\n",
       "  --sklearn-color-icon: #696969;\n",
       "\n",
       "  @media (prefers-color-scheme: dark) {\n",
       "    /* Redefinition of color scheme for dark theme */\n",
       "    --sklearn-color-text-on-default-background: var(--sg-text-color, var(--theme-code-foreground, var(--jp-content-font-color1, white)));\n",
       "    --sklearn-color-background: var(--sg-background-color, var(--theme-background, var(--jp-layout-color0, #111)));\n",
       "    --sklearn-color-border-box: var(--sg-text-color, var(--theme-code-foreground, var(--jp-content-font-color1, white)));\n",
       "    --sklearn-color-icon: #878787;\n",
       "  }\n",
       "}\n",
       "\n",
       "#sk-container-id-2 {\n",
       "  color: var(--sklearn-color-text);\n",
       "}\n",
       "\n",
       "#sk-container-id-2 pre {\n",
       "  padding: 0;\n",
       "}\n",
       "\n",
       "#sk-container-id-2 input.sk-hidden--visually {\n",
       "  border: 0;\n",
       "  clip: rect(1px 1px 1px 1px);\n",
       "  clip: rect(1px, 1px, 1px, 1px);\n",
       "  height: 1px;\n",
       "  margin: -1px;\n",
       "  overflow: hidden;\n",
       "  padding: 0;\n",
       "  position: absolute;\n",
       "  width: 1px;\n",
       "}\n",
       "\n",
       "#sk-container-id-2 div.sk-dashed-wrapped {\n",
       "  border: 1px dashed var(--sklearn-color-line);\n",
       "  margin: 0 0.4em 0.5em 0.4em;\n",
       "  box-sizing: border-box;\n",
       "  padding-bottom: 0.4em;\n",
       "  background-color: var(--sklearn-color-background);\n",
       "}\n",
       "\n",
       "#sk-container-id-2 div.sk-container {\n",
       "  /* jupyter's `normalize.less` sets `[hidden] { display: none; }`\n",
       "     but bootstrap.min.css set `[hidden] { display: none !important; }`\n",
       "     so we also need the `!important` here to be able to override the\n",
       "     default hidden behavior on the sphinx rendered scikit-learn.org.\n",
       "     See: https://github.com/scikit-learn/scikit-learn/issues/21755 */\n",
       "  display: inline-block !important;\n",
       "  position: relative;\n",
       "}\n",
       "\n",
       "#sk-container-id-2 div.sk-text-repr-fallback {\n",
       "  display: none;\n",
       "}\n",
       "\n",
       "div.sk-parallel-item,\n",
       "div.sk-serial,\n",
       "div.sk-item {\n",
       "  /* draw centered vertical line to link estimators */\n",
       "  background-image: linear-gradient(var(--sklearn-color-text-on-default-background), var(--sklearn-color-text-on-default-background));\n",
       "  background-size: 2px 100%;\n",
       "  background-repeat: no-repeat;\n",
       "  background-position: center center;\n",
       "}\n",
       "\n",
       "/* Parallel-specific style estimator block */\n",
       "\n",
       "#sk-container-id-2 div.sk-parallel-item::after {\n",
       "  content: \"\";\n",
       "  width: 100%;\n",
       "  border-bottom: 2px solid var(--sklearn-color-text-on-default-background);\n",
       "  flex-grow: 1;\n",
       "}\n",
       "\n",
       "#sk-container-id-2 div.sk-parallel {\n",
       "  display: flex;\n",
       "  align-items: stretch;\n",
       "  justify-content: center;\n",
       "  background-color: var(--sklearn-color-background);\n",
       "  position: relative;\n",
       "}\n",
       "\n",
       "#sk-container-id-2 div.sk-parallel-item {\n",
       "  display: flex;\n",
       "  flex-direction: column;\n",
       "}\n",
       "\n",
       "#sk-container-id-2 div.sk-parallel-item:first-child::after {\n",
       "  align-self: flex-end;\n",
       "  width: 50%;\n",
       "}\n",
       "\n",
       "#sk-container-id-2 div.sk-parallel-item:last-child::after {\n",
       "  align-self: flex-start;\n",
       "  width: 50%;\n",
       "}\n",
       "\n",
       "#sk-container-id-2 div.sk-parallel-item:only-child::after {\n",
       "  width: 0;\n",
       "}\n",
       "\n",
       "/* Serial-specific style estimator block */\n",
       "\n",
       "#sk-container-id-2 div.sk-serial {\n",
       "  display: flex;\n",
       "  flex-direction: column;\n",
       "  align-items: center;\n",
       "  background-color: var(--sklearn-color-background);\n",
       "  padding-right: 1em;\n",
       "  padding-left: 1em;\n",
       "}\n",
       "\n",
       "\n",
       "/* Toggleable style: style used for estimator/Pipeline/ColumnTransformer box that is\n",
       "clickable and can be expanded/collapsed.\n",
       "- Pipeline and ColumnTransformer use this feature and define the default style\n",
       "- Estimators will overwrite some part of the style using the `sk-estimator` class\n",
       "*/\n",
       "\n",
       "/* Pipeline and ColumnTransformer style (default) */\n",
       "\n",
       "#sk-container-id-2 div.sk-toggleable {\n",
       "  /* Default theme specific background. It is overwritten whether we have a\n",
       "  specific estimator or a Pipeline/ColumnTransformer */\n",
       "  background-color: var(--sklearn-color-background);\n",
       "}\n",
       "\n",
       "/* Toggleable label */\n",
       "#sk-container-id-2 label.sk-toggleable__label {\n",
       "  cursor: pointer;\n",
       "  display: flex;\n",
       "  width: 100%;\n",
       "  margin-bottom: 0;\n",
       "  padding: 0.5em;\n",
       "  box-sizing: border-box;\n",
       "  text-align: center;\n",
       "  align-items: start;\n",
       "  justify-content: space-between;\n",
       "  gap: 0.5em;\n",
       "}\n",
       "\n",
       "#sk-container-id-2 label.sk-toggleable__label .caption {\n",
       "  font-size: 0.6rem;\n",
       "  font-weight: lighter;\n",
       "  color: var(--sklearn-color-text-muted);\n",
       "}\n",
       "\n",
       "#sk-container-id-2 label.sk-toggleable__label-arrow:before {\n",
       "  /* Arrow on the left of the label */\n",
       "  content: \"▸\";\n",
       "  float: left;\n",
       "  margin-right: 0.25em;\n",
       "  color: var(--sklearn-color-icon);\n",
       "}\n",
       "\n",
       "#sk-container-id-2 label.sk-toggleable__label-arrow:hover:before {\n",
       "  color: var(--sklearn-color-text);\n",
       "}\n",
       "\n",
       "/* Toggleable content - dropdown */\n",
       "\n",
       "#sk-container-id-2 div.sk-toggleable__content {\n",
       "  max-height: 0;\n",
       "  max-width: 0;\n",
       "  overflow: hidden;\n",
       "  text-align: left;\n",
       "  /* unfitted */\n",
       "  background-color: var(--sklearn-color-unfitted-level-0);\n",
       "}\n",
       "\n",
       "#sk-container-id-2 div.sk-toggleable__content.fitted {\n",
       "  /* fitted */\n",
       "  background-color: var(--sklearn-color-fitted-level-0);\n",
       "}\n",
       "\n",
       "#sk-container-id-2 div.sk-toggleable__content pre {\n",
       "  margin: 0.2em;\n",
       "  border-radius: 0.25em;\n",
       "  color: var(--sklearn-color-text);\n",
       "  /* unfitted */\n",
       "  background-color: var(--sklearn-color-unfitted-level-0);\n",
       "}\n",
       "\n",
       "#sk-container-id-2 div.sk-toggleable__content.fitted pre {\n",
       "  /* unfitted */\n",
       "  background-color: var(--sklearn-color-fitted-level-0);\n",
       "}\n",
       "\n",
       "#sk-container-id-2 input.sk-toggleable__control:checked~div.sk-toggleable__content {\n",
       "  /* Expand drop-down */\n",
       "  max-height: 200px;\n",
       "  max-width: 100%;\n",
       "  overflow: auto;\n",
       "}\n",
       "\n",
       "#sk-container-id-2 input.sk-toggleable__control:checked~label.sk-toggleable__label-arrow:before {\n",
       "  content: \"▾\";\n",
       "}\n",
       "\n",
       "/* Pipeline/ColumnTransformer-specific style */\n",
       "\n",
       "#sk-container-id-2 div.sk-label input.sk-toggleable__control:checked~label.sk-toggleable__label {\n",
       "  color: var(--sklearn-color-text);\n",
       "  background-color: var(--sklearn-color-unfitted-level-2);\n",
       "}\n",
       "\n",
       "#sk-container-id-2 div.sk-label.fitted input.sk-toggleable__control:checked~label.sk-toggleable__label {\n",
       "  background-color: var(--sklearn-color-fitted-level-2);\n",
       "}\n",
       "\n",
       "/* Estimator-specific style */\n",
       "\n",
       "/* Colorize estimator box */\n",
       "#sk-container-id-2 div.sk-estimator input.sk-toggleable__control:checked~label.sk-toggleable__label {\n",
       "  /* unfitted */\n",
       "  background-color: var(--sklearn-color-unfitted-level-2);\n",
       "}\n",
       "\n",
       "#sk-container-id-2 div.sk-estimator.fitted input.sk-toggleable__control:checked~label.sk-toggleable__label {\n",
       "  /* fitted */\n",
       "  background-color: var(--sklearn-color-fitted-level-2);\n",
       "}\n",
       "\n",
       "#sk-container-id-2 div.sk-label label.sk-toggleable__label,\n",
       "#sk-container-id-2 div.sk-label label {\n",
       "  /* The background is the default theme color */\n",
       "  color: var(--sklearn-color-text-on-default-background);\n",
       "}\n",
       "\n",
       "/* On hover, darken the color of the background */\n",
       "#sk-container-id-2 div.sk-label:hover label.sk-toggleable__label {\n",
       "  color: var(--sklearn-color-text);\n",
       "  background-color: var(--sklearn-color-unfitted-level-2);\n",
       "}\n",
       "\n",
       "/* Label box, darken color on hover, fitted */\n",
       "#sk-container-id-2 div.sk-label.fitted:hover label.sk-toggleable__label.fitted {\n",
       "  color: var(--sklearn-color-text);\n",
       "  background-color: var(--sklearn-color-fitted-level-2);\n",
       "}\n",
       "\n",
       "/* Estimator label */\n",
       "\n",
       "#sk-container-id-2 div.sk-label label {\n",
       "  font-family: monospace;\n",
       "  font-weight: bold;\n",
       "  display: inline-block;\n",
       "  line-height: 1.2em;\n",
       "}\n",
       "\n",
       "#sk-container-id-2 div.sk-label-container {\n",
       "  text-align: center;\n",
       "}\n",
       "\n",
       "/* Estimator-specific */\n",
       "#sk-container-id-2 div.sk-estimator {\n",
       "  font-family: monospace;\n",
       "  border: 1px dotted var(--sklearn-color-border-box);\n",
       "  border-radius: 0.25em;\n",
       "  box-sizing: border-box;\n",
       "  margin-bottom: 0.5em;\n",
       "  /* unfitted */\n",
       "  background-color: var(--sklearn-color-unfitted-level-0);\n",
       "}\n",
       "\n",
       "#sk-container-id-2 div.sk-estimator.fitted {\n",
       "  /* fitted */\n",
       "  background-color: var(--sklearn-color-fitted-level-0);\n",
       "}\n",
       "\n",
       "/* on hover */\n",
       "#sk-container-id-2 div.sk-estimator:hover {\n",
       "  /* unfitted */\n",
       "  background-color: var(--sklearn-color-unfitted-level-2);\n",
       "}\n",
       "\n",
       "#sk-container-id-2 div.sk-estimator.fitted:hover {\n",
       "  /* fitted */\n",
       "  background-color: var(--sklearn-color-fitted-level-2);\n",
       "}\n",
       "\n",
       "/* Specification for estimator info (e.g. \"i\" and \"?\") */\n",
       "\n",
       "/* Common style for \"i\" and \"?\" */\n",
       "\n",
       ".sk-estimator-doc-link,\n",
       "a:link.sk-estimator-doc-link,\n",
       "a:visited.sk-estimator-doc-link {\n",
       "  float: right;\n",
       "  font-size: smaller;\n",
       "  line-height: 1em;\n",
       "  font-family: monospace;\n",
       "  background-color: var(--sklearn-color-background);\n",
       "  border-radius: 1em;\n",
       "  height: 1em;\n",
       "  width: 1em;\n",
       "  text-decoration: none !important;\n",
       "  margin-left: 0.5em;\n",
       "  text-align: center;\n",
       "  /* unfitted */\n",
       "  border: var(--sklearn-color-unfitted-level-1) 1pt solid;\n",
       "  color: var(--sklearn-color-unfitted-level-1);\n",
       "}\n",
       "\n",
       ".sk-estimator-doc-link.fitted,\n",
       "a:link.sk-estimator-doc-link.fitted,\n",
       "a:visited.sk-estimator-doc-link.fitted {\n",
       "  /* fitted */\n",
       "  border: var(--sklearn-color-fitted-level-1) 1pt solid;\n",
       "  color: var(--sklearn-color-fitted-level-1);\n",
       "}\n",
       "\n",
       "/* On hover */\n",
       "div.sk-estimator:hover .sk-estimator-doc-link:hover,\n",
       ".sk-estimator-doc-link:hover,\n",
       "div.sk-label-container:hover .sk-estimator-doc-link:hover,\n",
       ".sk-estimator-doc-link:hover {\n",
       "  /* unfitted */\n",
       "  background-color: var(--sklearn-color-unfitted-level-3);\n",
       "  color: var(--sklearn-color-background);\n",
       "  text-decoration: none;\n",
       "}\n",
       "\n",
       "div.sk-estimator.fitted:hover .sk-estimator-doc-link.fitted:hover,\n",
       ".sk-estimator-doc-link.fitted:hover,\n",
       "div.sk-label-container:hover .sk-estimator-doc-link.fitted:hover,\n",
       ".sk-estimator-doc-link.fitted:hover {\n",
       "  /* fitted */\n",
       "  background-color: var(--sklearn-color-fitted-level-3);\n",
       "  color: var(--sklearn-color-background);\n",
       "  text-decoration: none;\n",
       "}\n",
       "\n",
       "/* Span, style for the box shown on hovering the info icon */\n",
       ".sk-estimator-doc-link span {\n",
       "  display: none;\n",
       "  z-index: 9999;\n",
       "  position: relative;\n",
       "  font-weight: normal;\n",
       "  right: .2ex;\n",
       "  padding: .5ex;\n",
       "  margin: .5ex;\n",
       "  width: min-content;\n",
       "  min-width: 20ex;\n",
       "  max-width: 50ex;\n",
       "  color: var(--sklearn-color-text);\n",
       "  box-shadow: 2pt 2pt 4pt #999;\n",
       "  /* unfitted */\n",
       "  background: var(--sklearn-color-unfitted-level-0);\n",
       "  border: .5pt solid var(--sklearn-color-unfitted-level-3);\n",
       "}\n",
       "\n",
       ".sk-estimator-doc-link.fitted span {\n",
       "  /* fitted */\n",
       "  background: var(--sklearn-color-fitted-level-0);\n",
       "  border: var(--sklearn-color-fitted-level-3);\n",
       "}\n",
       "\n",
       ".sk-estimator-doc-link:hover span {\n",
       "  display: block;\n",
       "}\n",
       "\n",
       "/* \"?\"-specific style due to the `<a>` HTML tag */\n",
       "\n",
       "#sk-container-id-2 a.estimator_doc_link {\n",
       "  float: right;\n",
       "  font-size: 1rem;\n",
       "  line-height: 1em;\n",
       "  font-family: monospace;\n",
       "  background-color: var(--sklearn-color-background);\n",
       "  border-radius: 1rem;\n",
       "  height: 1rem;\n",
       "  width: 1rem;\n",
       "  text-decoration: none;\n",
       "  /* unfitted */\n",
       "  color: var(--sklearn-color-unfitted-level-1);\n",
       "  border: var(--sklearn-color-unfitted-level-1) 1pt solid;\n",
       "}\n",
       "\n",
       "#sk-container-id-2 a.estimator_doc_link.fitted {\n",
       "  /* fitted */\n",
       "  border: var(--sklearn-color-fitted-level-1) 1pt solid;\n",
       "  color: var(--sklearn-color-fitted-level-1);\n",
       "}\n",
       "\n",
       "/* On hover */\n",
       "#sk-container-id-2 a.estimator_doc_link:hover {\n",
       "  /* unfitted */\n",
       "  background-color: var(--sklearn-color-unfitted-level-3);\n",
       "  color: var(--sklearn-color-background);\n",
       "  text-decoration: none;\n",
       "}\n",
       "\n",
       "#sk-container-id-2 a.estimator_doc_link.fitted:hover {\n",
       "  /* fitted */\n",
       "  background-color: var(--sklearn-color-fitted-level-3);\n",
       "}\n",
       "</style><div id=\"sk-container-id-2\" class=\"sk-top-container\"><div class=\"sk-text-repr-fallback\"><pre>Pipeline(steps=[(&#x27;standardscaler&#x27;, StandardScaler()),\n",
       "                (&#x27;kneighborsregressor&#x27;, KNeighborsRegressor(n_neighbors=10))])</pre><b>In a Jupyter environment, please rerun this cell to show the HTML representation or trust the notebook. <br />On GitHub, the HTML representation is unable to render, please try loading this page with nbviewer.org.</b></div><div class=\"sk-container\" hidden><div class=\"sk-item sk-dashed-wrapped\"><div class=\"sk-label-container\"><div class=\"sk-label fitted sk-toggleable\"><input class=\"sk-toggleable__control sk-hidden--visually\" id=\"sk-estimator-id-4\" type=\"checkbox\" ><label for=\"sk-estimator-id-4\" class=\"sk-toggleable__label fitted sk-toggleable__label-arrow\"><div><div>Pipeline</div></div><div><a class=\"sk-estimator-doc-link fitted\" rel=\"noreferrer\" target=\"_blank\" href=\"https://scikit-learn.org/1.6/modules/generated/sklearn.pipeline.Pipeline.html\">?<span>Documentation for Pipeline</span></a><span class=\"sk-estimator-doc-link fitted\">i<span>Fitted</span></span></div></label><div class=\"sk-toggleable__content fitted\"><pre>Pipeline(steps=[(&#x27;standardscaler&#x27;, StandardScaler()),\n",
       "                (&#x27;kneighborsregressor&#x27;, KNeighborsRegressor(n_neighbors=10))])</pre></div> </div></div><div class=\"sk-serial\"><div class=\"sk-item\"><div class=\"sk-estimator fitted sk-toggleable\"><input class=\"sk-toggleable__control sk-hidden--visually\" id=\"sk-estimator-id-5\" type=\"checkbox\" ><label for=\"sk-estimator-id-5\" class=\"sk-toggleable__label fitted sk-toggleable__label-arrow\"><div><div>StandardScaler</div></div><div><a class=\"sk-estimator-doc-link fitted\" rel=\"noreferrer\" target=\"_blank\" href=\"https://scikit-learn.org/1.6/modules/generated/sklearn.preprocessing.StandardScaler.html\">?<span>Documentation for StandardScaler</span></a></div></label><div class=\"sk-toggleable__content fitted\"><pre>StandardScaler()</pre></div> </div></div><div class=\"sk-item\"><div class=\"sk-estimator fitted sk-toggleable\"><input class=\"sk-toggleable__control sk-hidden--visually\" id=\"sk-estimator-id-6\" type=\"checkbox\" ><label for=\"sk-estimator-id-6\" class=\"sk-toggleable__label fitted sk-toggleable__label-arrow\"><div><div>KNeighborsRegressor</div></div><div><a class=\"sk-estimator-doc-link fitted\" rel=\"noreferrer\" target=\"_blank\" href=\"https://scikit-learn.org/1.6/modules/generated/sklearn.neighbors.KNeighborsRegressor.html\">?<span>Documentation for KNeighborsRegressor</span></a></div></label><div class=\"sk-toggleable__content fitted\"><pre>KNeighborsRegressor(n_neighbors=10)</pre></div> </div></div></div></div></div></div>"
      ],
      "text/plain": [
       "Pipeline(steps=[('standardscaler', StandardScaler()),\n",
       "                ('kneighborsregressor', KNeighborsRegressor(n_neighbors=10))])"
      ]
     },
     "execution_count": 20,
     "metadata": {},
     "output_type": "execute_result"
    }
   ],
   "source": [
    "std_clf.fit(splits[0],np.ravel(splits[2]))\n",
    "\n",
    "#<xml xmlns=\"https://developers.google.com/blockly/xml\"><variables><variable id=\"`P)`+jl|;h{.[r}{78q6\">std_clf</variable><variable id=\"Zhzp)s*VL?V@ES3(j:*b\">np</variable><variable id=\"_ut$e0PL4OMi4o1MXTpw\">splits</variable></variables><block type=\"varDoMethod\" id=\"Z)$q-zn.KTC{+^l-wH6u\" x=\"-34\" y=\"159\"><mutation items=\"2\"></mutation><field name=\"VAR\" id=\"`P)`+jl|;h{.[r}{78q6\">std_clf</field><field name=\"MEMBER\">fit</field><data>std_clf:fit</data><value name=\"ADD0\"><block type=\"lists_getIndex\" id=\"C#,#1*rEm+]qEx?L1x[L\"><mutation statement=\"false\" at=\"true\"></mutation><field name=\"MODE\">GET</field><field name=\"WHERE\">FROM_START</field><value name=\"VALUE\"><block type=\"variables_get\" id=\"b_Sz{9#d7d=ystO|k?l_\"><field name=\"VAR\" id=\"_ut$e0PL4OMi4o1MXTpw\">splits</field></block></value><value name=\"AT\"><block type=\"math_number\" id=\":s{r1~S,,@.CSh#9`$R;\"><field name=\"NUM\">1</field></block></value></block></value><value name=\"ADD1\"><block type=\"varDoMethod\" id=\"zYBlZ,!^P^%Ib5R@Ch.H\"><mutation items=\"1\"></mutation><field name=\"VAR\" id=\"Zhzp)s*VL?V@ES3(j:*b\">np</field><field name=\"MEMBER\">ravel</field><data>np:ravel</data><value name=\"ADD0\"><block type=\"lists_getIndex\" id=\"^)UBt0jM;BnGmWeG7pw*\"><mutation statement=\"false\" at=\"true\"></mutation><field name=\"MODE\">GET</field><field name=\"WHERE\">FROM_START</field><value name=\"VALUE\"><block type=\"variables_get\" id=\"4Vo!*g]qQ=D}XtD2i39/\"><field name=\"VAR\" id=\"_ut$e0PL4OMi4o1MXTpw\">splits</field></block></value><value name=\"AT\"><block type=\"math_number\" id=\"RysCD3.C27sBxztz(T}2\"><field name=\"NUM\">3</field></block></value></block></value></block></value></block></xml>"
   ]
  },
  {
   "cell_type": "markdown",
   "metadata": {},
   "source": [
    "Predict the mpg using the test data."
   ]
  },
  {
   "cell_type": "code",
   "execution_count": 22,
   "metadata": {
    "user_blocks": [
     "variables_set",
     "varDoMethod",
     "lists_getIndex",
     "variables_get",
     "math_number",
     "variables_get"
    ],
    "user_blocks_xml": "<xml xmlns=\"https://developers.google.com/blockly/xml\"><variables><variable id=\"5lkT$zi8W,`TXDny?Cv7\">predictions</variable><variable id=\"`P)`+jl|;h{.[r}{78q6\">std_clf</variable><variable id=\"_ut$e0PL4OMi4o1MXTpw\">splits</variable></variables><block type=\"variables_set\" id=\"NHw$/HH988vNLbZgn)CM\" x=\"-54\" y=\"190\"><field name=\"VAR\" id=\"5lkT$zi8W,`TXDny?Cv7\">predictions</field><value name=\"VALUE\"><block type=\"varDoMethod\" id=\"N}3ds6:i%0MtTA:(2im4\"><mutation items=\"1\"></mutation><field name=\"VAR\" id=\"`P)`+jl|;h{.[r}{78q6\">std_clf</field><field name=\"MEMBER\">predict</field><data>std_clf:predict</data><value name=\"ADD0\"><block type=\"lists_getIndex\" id=\"@lpyN+:CEcPQ#Q:Svm|9\"><mutation statement=\"false\" at=\"true\"></mutation><field name=\"MODE\">GET</field><field name=\"WHERE\">FROM_START</field><value name=\"VALUE\"><block type=\"variables_get\" id=\"ng))4fZyb@U1|eswo1}:\"><field name=\"VAR\" id=\"_ut$e0PL4OMi4o1MXTpw\">splits</field></block></value><value name=\"AT\"><block type=\"math_number\" id=\"Lo)w=2LL|Tf-L/gkeTdT\"><field name=\"NUM\">2</field></block></value></block></value></block></value></block><block type=\"variables_get\" id=\"hEVH$Cl8Tw9^=,@Ir([y\" x=\"-52\" y=\"280\"><field name=\"VAR\" id=\"5lkT$zi8W,`TXDny?Cv7\">predictions</field></block></xml>",
    "user_code_from_blocks": "predictions = std_clf.predict(splits[1])\n\npredictions\n"
   },
   "outputs": [
    {
     "data": {
      "text/plain": [
       "array([28.2 , 15.8 , 18.2 , 35.4 , 19.2 , 28.2 , 35.62, 16.71, 13.  ,\n",
       "       20.36, 12.3 , 12.9 , 28.73, 35.59, 27.53, 15.99, 25.94, 34.18,\n",
       "       33.15, 27.51, 13.6 , 25.45, 15.2 , 32.45, 14.2 , 18.6 , 24.2 ,\n",
       "       14.3 , 17.52, 33.39, 16.85, 27.5 , 19.35, 19.8 , 13.8 , 34.86,\n",
       "       31.65, 24.4 , 23.35, 34.26, 31.72, 27.3 , 24.8 , 30.8 , 23.6 ,\n",
       "       23.05, 17.35, 36.88, 18.7 , 19.95, 22.24, 16.41, 26.52, 32.73,\n",
       "       19.99, 17.55, 25.6 , 24.8 , 19.45, 20.74, 23.9 , 19.35, 17.83,\n",
       "       13.3 , 32.89, 18.3 , 23.8 , 25.24, 19.61, 14.  , 19.75, 23.7 ,\n",
       "       14.8 , 29.26, 13.1 , 35.83, 28.77, 32.12, 13.8 ])"
      ]
     },
     "execution_count": 22,
     "metadata": {},
     "output_type": "execute_result"
    }
   ],
   "source": [
    "predictions = std_clf.predict(splits[1])\n",
    "\n",
    "predictions\n",
    "\n",
    "#<xml xmlns=\"https://developers.google.com/blockly/xml\"><variables><variable id=\"5lkT$zi8W,`TXDny?Cv7\">predictions</variable><variable id=\"`P)`+jl|;h{.[r}{78q6\">std_clf</variable><variable id=\"_ut$e0PL4OMi4o1MXTpw\">splits</variable></variables><block type=\"variables_set\" id=\"NHw$/HH988vNLbZgn)CM\" x=\"-54\" y=\"190\"><field name=\"VAR\" id=\"5lkT$zi8W,`TXDny?Cv7\">predictions</field><value name=\"VALUE\"><block type=\"varDoMethod\" id=\"N}3ds6:i%0MtTA:(2im4\"><mutation items=\"1\"></mutation><field name=\"VAR\" id=\"`P)`+jl|;h{.[r}{78q6\">std_clf</field><field name=\"MEMBER\">predict</field><data>std_clf:predict</data><value name=\"ADD0\"><block type=\"lists_getIndex\" id=\"@lpyN+:CEcPQ#Q:Svm|9\"><mutation statement=\"false\" at=\"true\"></mutation><field name=\"MODE\">GET</field><field name=\"WHERE\">FROM_START</field><value name=\"VALUE\"><block type=\"variables_get\" id=\"ng))4fZyb@U1|eswo1}:\"><field name=\"VAR\" id=\"_ut$e0PL4OMi4o1MXTpw\">splits</field></block></value><value name=\"AT\"><block type=\"math_number\" id=\"Lo)w=2LL|Tf-L/gkeTdT\"><field name=\"NUM\">2</field></block></value></block></value></block></value></block><block type=\"variables_get\" id=\"hEVH$Cl8Tw9^=,@Ir([y\" x=\"-52\" y=\"280\"><field name=\"VAR\" id=\"5lkT$zi8W,`TXDny?Cv7\">predictions</field></block></xml>"
   ]
  },
  {
   "cell_type": "markdown",
   "metadata": {},
   "source": [
    "## Assessing the model"
   ]
  },
  {
   "cell_type": "markdown",
   "metadata": {},
   "source": [
    "Calculate the RMSE of the predictions."
   ]
  },
  {
   "cell_type": "code",
   "execution_count": 24,
   "metadata": {
    "user_blocks": [
     "math_single",
     "varDoMethod",
     "lists_getIndex",
     "variables_get",
     "math_number",
     "variables_get"
    ],
    "user_blocks_xml": "<xml xmlns=\"https://developers.google.com/blockly/xml\"><variables><variable id=\")}+w@N9iB/j=:+PLkMv8\">metrics</variable><variable id=\"5lkT$zi8W,`TXDny?Cv7\">predictions</variable><variable id=\"_ut$e0PL4OMi4o1MXTpw\">splits</variable></variables><block type=\"math_single\" id=\"K+~AfTut!=kX_{{*?zjq\" x=\"-102\" y=\"160\"><field name=\"OP\">ROOT</field><value name=\"NUM\"><block type=\"varDoMethod\" id=\"dtb+F,1WedaH`AXMNxY[\"><mutation items=\"2\"></mutation><field name=\"VAR\" id=\")}+w@N9iB/j=:+PLkMv8\">metrics</field><field name=\"MEMBER\">mean_squared_error</field><data>metrics:mean_squared_error</data><value name=\"ADD0\"><block type=\"lists_getIndex\" id=\"%Q5nelLnQN_U[o);kAqv\"><mutation statement=\"false\" at=\"true\"></mutation><field name=\"MODE\">GET</field><field name=\"WHERE\">FROM_START</field><value name=\"VALUE\"><block type=\"variables_get\" id=\"eCZagv7%IlQ;!+X*/wn7\"><field name=\"VAR\" id=\"_ut$e0PL4OMi4o1MXTpw\">splits</field></block></value><value name=\"AT\"><block type=\"math_number\" id=\"+UoB2X],lB*~xVCJOMRM\"><field name=\"NUM\">4</field></block></value></block></value><value name=\"ADD1\"><block type=\"variables_get\" id=\"Y`5[z@^QpYeXO!b/zuki\"><field name=\"VAR\" id=\"5lkT$zi8W,`TXDny?Cv7\">predictions</field></block></value></block></value></block></xml>",
    "user_code_from_blocks": "\nimport math\n\n\nmath.sqrt(metrics.mean_squared_error(splits[3],predictions))\n"
   },
   "outputs": [
    {
     "data": {
      "text/plain": [
       "2.678127297718466"
      ]
     },
     "execution_count": 24,
     "metadata": {},
     "output_type": "execute_result"
    }
   ],
   "source": [
    "\n",
    "import math\n",
    "\n",
    "\n",
    "math.sqrt(metrics.mean_squared_error(splits[3],predictions))\n",
    "\n",
    "#<xml xmlns=\"https://developers.google.com/blockly/xml\"><variables><variable id=\")}+w@N9iB/j=:+PLkMv8\">metrics</variable><variable id=\"5lkT$zi8W,`TXDny?Cv7\">predictions</variable><variable id=\"_ut$e0PL4OMi4o1MXTpw\">splits</variable></variables><block type=\"math_single\" id=\"K+~AfTut!=kX_{{*?zjq\" x=\"-102\" y=\"160\"><field name=\"OP\">ROOT</field><value name=\"NUM\"><block type=\"varDoMethod\" id=\"dtb+F,1WedaH`AXMNxY[\"><mutation items=\"2\"></mutation><field name=\"VAR\" id=\")}+w@N9iB/j=:+PLkMv8\">metrics</field><field name=\"MEMBER\">mean_squared_error</field><data>metrics:mean_squared_error</data><value name=\"ADD0\"><block type=\"lists_getIndex\" id=\"%Q5nelLnQN_U[o);kAqv\"><mutation statement=\"false\" at=\"true\"></mutation><field name=\"MODE\">GET</field><field name=\"WHERE\">FROM_START</field><value name=\"VALUE\"><block type=\"variables_get\" id=\"eCZagv7%IlQ;!+X*/wn7\"><field name=\"VAR\" id=\"_ut$e0PL4OMi4o1MXTpw\">splits</field></block></value><value name=\"AT\"><block type=\"math_number\" id=\"+UoB2X],lB*~xVCJOMRM\"><field name=\"NUM\">4</field></block></value></block></value><value name=\"ADD1\"><block type=\"variables_get\" id=\"Y`5[z@^QpYeXO!b/zuki\"><field name=\"VAR\" id=\"5lkT$zi8W,`TXDny?Cv7\">predictions</field></block></value></block></value></block></xml>"
   ]
  },
  {
   "cell_type": "markdown",
   "metadata": {},
   "source": [
    "**QUESTION:**\n",
    "\n",
    "What was your rmse?\n",
    "If you redo your splits and retrain the model, does it change?\n",
    "Why?"
   ]
  },
  {
   "cell_type": "markdown",
   "metadata": {},
   "source": [
    "**ANSWER: (click here to edit)**\n",
    "\n",
    "*2.57 ; it changes every time; it changes because the splits give us different data each time and sometimes the train/test are more similar, by chance, which makes the rmse lower/better*\n",
    "\n",
    "<hr>"
   ]
  },
  {
   "cell_type": "markdown",
   "metadata": {},
   "source": [
    "## Finding the optimal K"
   ]
  },
  {
   "cell_type": "markdown",
   "metadata": {},
   "source": [
    "Find the optimal K for the model by trying K=1, 10, 25, 50, 100, and 250 in a loop."
   ]
  },
  {
   "cell_type": "code",
   "execution_count": 26,
   "metadata": {
    "user_blocks": [
     "controls_forEach",
     "lists_create_with",
     "math_number",
     "math_number",
     "math_number",
     "math_number",
     "math_number",
     "math_number",
     "variables_set",
     "varDoMethod",
     "varCreateObject",
     "varCreateObject",
     "dummyOutputCodeBlock",
     "valueNoOutputCodeBlock",
     "varDoMethod",
     "lists_getIndex",
     "variables_get",
     "math_number",
     "varDoMethod",
     "lists_getIndex",
     "variables_get",
     "math_number",
     "variables_set",
     "varDoMethod",
     "lists_getIndex",
     "variables_get",
     "math_number",
     "variables_set",
     "math_single",
     "varDoMethod",
     "lists_getIndex",
     "variables_get",
     "math_number",
     "variables_get",
     "text_print",
     "text_join",
     "variables_get",
     "text",
     "variables_get"
    ],
    "user_blocks_xml": "<xml xmlns=\"https://developers.google.com/blockly/xml\"><variables><variable id=\"nr%W_%EA(*n$_f,PuH#c\">j</variable><variable id=\"`P)`+jl|;h{.[r}{78q6\">std_clf</variable><variable id=\"=z9KfSBWpoDS,oj-?yx,\">pipe</variable><variable id=\".T`xqZHAu7r0$MQ4s=Yg\">pp</variable><variable id=\"MvUG^P$o3=I*6/67?Rk:\">neighbors</variable><variable id=\"5lkT$zi8W,`TXDny?Cv7\">predictions</variable><variable id=\"Zhzp)s*VL?V@ES3(j:*b\">np</variable><variable id=\"RN+myW;vx){}Q0LuFA9y\">rmse</variable><variable id=\"_ut$e0PL4OMi4o1MXTpw\">splits</variable><variable id=\")}+w@N9iB/j=:+PLkMv8\">metrics</variable></variables><block type=\"controls_forEach\" id=\"MbWYZ/u3Q#+3*u`TM}ce\" x=\"-33\" y=\"25\"><field name=\"VAR\" id=\"nr%W_%EA(*n$_f,PuH#c\">j</field><value name=\"LIST\"><block type=\"lists_create_with\" id=\"Q6_EXa41T:y(.uy[pm.V\"><mutation items=\"6\"></mutation><value name=\"ADD0\"><block type=\"math_number\" id=\"+BJ@yT0IgJORgO^/))c~\"><field name=\"NUM\">1</field></block></value><value name=\"ADD1\"><block type=\"math_number\" id=\".~r[qy7$p-Jy_g:ACHYr\"><field name=\"NUM\">10</field></block></value><value name=\"ADD2\"><block type=\"math_number\" id=\"w!m`o}C;PB7OhYP5ZTq~\"><field name=\"NUM\">25</field></block></value><value name=\"ADD3\"><block type=\"math_number\" id=\"?!EK)M.j{u~@|;ytL|nd\"><field name=\"NUM\">50</field></block></value><value name=\"ADD4\"><block type=\"math_number\" id=\"cLtaU]#w-;S(sUq8pw/l\"><field name=\"NUM\">100</field></block></value><value name=\"ADD5\"><block type=\"math_number\" id=\"910qY[[4~4nziBPT;K+G\"><field name=\"NUM\">250</field></block></value></block></value><statement name=\"DO\"><block type=\"variables_set\" id=\"8APEX{xGs3Qz/$NzTFrY\"><field name=\"VAR\" id=\"`P)`+jl|;h{.[r}{78q6\">std_clf</field><value name=\"VALUE\"><block type=\"varDoMethod\" id=\"W=ep`rJjDXvsAV^R+NIG\"><mutation items=\"2\"></mutation><field name=\"VAR\" id=\"=z9KfSBWpoDS,oj-?yx,\">pipe</field><field name=\"MEMBER\">make_pipeline</field><data>pipe:make_pipeline</data><value name=\"ADD0\"><block type=\"varCreateObject\" id=\"ME+Z@t~BnN}LL22r%Hxt\"><mutation items=\"1\"></mutation><field name=\"VAR\" id=\".T`xqZHAu7r0$MQ4s=Yg\">pp</field><field name=\"MEMBER\">StandardScaler</field><data>pp:StandardScaler</data></block></value><value name=\"ADD1\"><block type=\"varCreateObject\" id=\"p=kmgsx6gSLD(RSPi]We\"><mutation items=\"1\"></mutation><field name=\"VAR\" id=\"MvUG^P$o3=I*6/67?Rk:\">neighbors</field><field name=\"MEMBER\">KNeighborsRegressor</field><data>neighbors:KNeighborsRegressor</data><value name=\"ADD0\"><block type=\"dummyOutputCodeBlock\" id=\"4*MO9`pDvGbjv^%|]#Jm\"><field name=\"CODE\">n_neighbors = j</field></block></value></block></value></block></value><next><block type=\"valueNoOutputCodeBlock\" id=\"b2$eeB}vA+APG9EY4RvG\"><field name=\"CODE\"></field><value name=\"INPUT\"><block type=\"varDoMethod\" id=\"!a#R5q~=+4G.fWQ-a:Ai\"><mutation items=\"2\"></mutation><field name=\"VAR\" id=\"`P)`+jl|;h{.[r}{78q6\">std_clf</field><field name=\"MEMBER\">fit</field><data>std_clf:fit</data><value name=\"ADD0\"><block type=\"lists_getIndex\" id=\"Bg)U?tUT/i!BuqI+~78i\"><mutation statement=\"false\" at=\"true\"></mutation><field name=\"MODE\">GET</field><field name=\"WHERE\">FROM_START</field><value name=\"VALUE\"><block type=\"variables_get\" id=\"J0_:T[7!I[/pre=^gqIw\"><field name=\"VAR\" id=\"_ut$e0PL4OMi4o1MXTpw\">splits</field></block></value><value name=\"AT\"><block type=\"math_number\" id=\"Jt|3]Id8E7gD7O}{bmrW\"><field name=\"NUM\">1</field></block></value></block></value><value name=\"ADD1\"><block type=\"varDoMethod\" id=\"7!WF{br/dCPJd;YQ:(Ik\"><mutation items=\"1\"></mutation><field name=\"VAR\" id=\"Zhzp)s*VL?V@ES3(j:*b\">np</field><field name=\"MEMBER\">ravel</field><data>np:ravel</data><value name=\"ADD0\"><block type=\"lists_getIndex\" id=\"p9_vm4JY1L*#.U$2H~(3\"><mutation statement=\"false\" at=\"true\"></mutation><field name=\"MODE\">GET</field><field name=\"WHERE\">FROM_START</field><value name=\"VALUE\"><block type=\"variables_get\" id=\"Ix.0Sy(FQ_=FtQZ`E7YO\"><field name=\"VAR\" id=\"_ut$e0PL4OMi4o1MXTpw\">splits</field></block></value><value name=\"AT\"><block type=\"math_number\" id=\"R!St?-]QDZB.6:gA5w9[\"><field name=\"NUM\">3</field></block></value></block></value></block></value></block></value><next><block type=\"variables_set\" id=\"}aopG5Di|aBV}PCsFRt|\"><field name=\"VAR\" id=\"5lkT$zi8W,`TXDny?Cv7\">predictions</field><value name=\"VALUE\"><block type=\"varDoMethod\" id=\"{!ML%F.iI.(gk.yKaKAo\"><mutation items=\"1\"></mutation><field name=\"VAR\" id=\"`P)`+jl|;h{.[r}{78q6\">std_clf</field><field name=\"MEMBER\">predict</field><data>std_clf:predict</data><value name=\"ADD0\"><block type=\"lists_getIndex\" id=\"NnMds!lCkgRZMy3GES4A\"><mutation statement=\"false\" at=\"true\"></mutation><field name=\"MODE\">GET</field><field name=\"WHERE\">FROM_START</field><value name=\"VALUE\"><block type=\"variables_get\" id=\"u{3q7m[%l/#e^qWs(A+$\"><field name=\"VAR\" id=\"_ut$e0PL4OMi4o1MXTpw\">splits</field></block></value><value name=\"AT\"><block type=\"math_number\" id=\"J=#ZnMxhAvm4we#*n[1u\"><field name=\"NUM\">2</field></block></value></block></value></block></value><next><block type=\"variables_set\" id=\"]Ea4cP;)eg*?FYSg,Hut\"><field name=\"VAR\" id=\"RN+myW;vx){}Q0LuFA9y\">rmse</field><value name=\"VALUE\"><block type=\"math_single\" id=\"Zj7qwunxC88s#@FHZp;o\"><field name=\"OP\">ROOT</field><value name=\"NUM\"><block type=\"varDoMethod\" id=\"7qLvGJ/o$}+](kkcy*!s\"><mutation items=\"2\"></mutation><field name=\"VAR\" id=\")}+w@N9iB/j=:+PLkMv8\">metrics</field><field name=\"MEMBER\">mean_squared_error</field><data>metrics:mean_squared_error</data><value name=\"ADD0\"><block type=\"lists_getIndex\" id=\"~=g?~X5=@%yq(ykF,@vT\"><mutation statement=\"false\" at=\"true\"></mutation><field name=\"MODE\">GET</field><field name=\"WHERE\">FROM_START</field><value name=\"VALUE\"><block type=\"variables_get\" id=\"p^5+}-qjm4#-sUjITW:U\"><field name=\"VAR\" id=\"_ut$e0PL4OMi4o1MXTpw\">splits</field></block></value><value name=\"AT\"><block type=\"math_number\" id=\"p+QpL(p9Fvb81#)=M#AO\"><field name=\"NUM\">4</field></block></value></block></value><value name=\"ADD1\"><block type=\"variables_get\" id=\"JlQHE,X|BqgbRt62iHR}\"><field name=\"VAR\" id=\"5lkT$zi8W,`TXDny?Cv7\">predictions</field></block></value></block></value></block></value><next><block type=\"text_print\" id=\"vG7/v1s~ddKS,]{?){9j\"><value name=\"TEXT\"><shadow type=\"text\" id=\"m]M`(:U/i~j@n/SHk!aE\"><field name=\"TEXT\">abc</field></shadow><block type=\"text_join\" id=\";i@2WV=j)URh;Nq30iJE\"><mutation items=\"3\"></mutation><value name=\"ADD0\"><block type=\"variables_get\" id=\"79Ugt/dg#lCaHOD+ufw=\"><field name=\"VAR\" id=\"nr%W_%EA(*n$_f,PuH#c\">j</field></block></value><value name=\"ADD1\"><block type=\"text\" id=\"2fUR/Sw-q*p=QW,%x7!;\"><field name=\"TEXT\">:</field></block></value><value name=\"ADD2\"><block type=\"variables_get\" id=\"Hz-2Ry[Go)mlv?{#UdM6\"><field name=\"VAR\" id=\"RN+myW;vx){}Q0LuFA9y\">rmse</field></block></value></block></value></block></next></block></next></block></next></block></next></block></statement></block></xml>",
    "user_code_from_blocks": "\nimport math\n\n\nfor j in [1, 10, 25, 50, 100, 250]:\n  std_clf = pipe.make_pipeline(pp.StandardScaler(),neighbors.KNeighborsRegressor(n_neighbors = j))\n  (std_clf.fit(splits[0],np.ravel(splits[2])))\n  predictions = std_clf.predict(splits[1])\n  rmse = math.sqrt(metrics.mean_squared_error(splits[3],predictions))\n  print(''.join([str(x) for x in [j, ':', rmse]]))\n"
   },
   "outputs": [
    {
     "name": "stdout",
     "output_type": "stream",
     "text": [
      "1:3.142924543087903\n",
      "10:2.678127297718466\n",
      "25:2.932544926652521\n",
      "50:3.277692975326751\n",
      "100:3.953268972587151\n",
      "250:6.306040123523928\n"
     ]
    }
   ],
   "source": [
    "\n",
    "import math\n",
    "\n",
    "\n",
    "for j in [1, 10, 25, 50, 100, 250]:\n",
    "  std_clf = pipe.make_pipeline(pp.StandardScaler(),neighbors.KNeighborsRegressor(n_neighbors = j))\n",
    "  (std_clf.fit(splits[0],np.ravel(splits[2])))\n",
    "  predictions = std_clf.predict(splits[1])\n",
    "  rmse = math.sqrt(metrics.mean_squared_error(splits[3],predictions))\n",
    "  print(''.join([str(x) for x in [j, ':', rmse]]))\n",
    "\n",
    "#<xml xmlns=\"https://developers.google.com/blockly/xml\"><variables><variable id=\"nr%W_%EA(*n$_f,PuH#c\">j</variable><variable id=\"`P)`+jl|;h{.[r}{78q6\">std_clf</variable><variable id=\"=z9KfSBWpoDS,oj-?yx,\">pipe</variable><variable id=\".T`xqZHAu7r0$MQ4s=Yg\">pp</variable><variable id=\"MvUG^P$o3=I*6/67?Rk:\">neighbors</variable><variable id=\"5lkT$zi8W,`TXDny?Cv7\">predictions</variable><variable id=\"Zhzp)s*VL?V@ES3(j:*b\">np</variable><variable id=\"RN+myW;vx){}Q0LuFA9y\">rmse</variable><variable id=\"_ut$e0PL4OMi4o1MXTpw\">splits</variable><variable id=\")}+w@N9iB/j=:+PLkMv8\">metrics</variable></variables><block type=\"controls_forEach\" id=\"MbWYZ/u3Q#+3*u`TM}ce\" x=\"-33\" y=\"25\"><field name=\"VAR\" id=\"nr%W_%EA(*n$_f,PuH#c\">j</field><value name=\"LIST\"><block type=\"lists_create_with\" id=\"Q6_EXa41T:y(.uy[pm.V\"><mutation items=\"6\"></mutation><value name=\"ADD0\"><block type=\"math_number\" id=\"+BJ@yT0IgJORgO^/))c~\"><field name=\"NUM\">1</field></block></value><value name=\"ADD1\"><block type=\"math_number\" id=\".~r[qy7$p-Jy_g:ACHYr\"><field name=\"NUM\">10</field></block></value><value name=\"ADD2\"><block type=\"math_number\" id=\"w!m`o}C;PB7OhYP5ZTq~\"><field name=\"NUM\">25</field></block></value><value name=\"ADD3\"><block type=\"math_number\" id=\"?!EK)M.j{u~@|;ytL|nd\"><field name=\"NUM\">50</field></block></value><value name=\"ADD4\"><block type=\"math_number\" id=\"cLtaU]#w-;S(sUq8pw/l\"><field name=\"NUM\">100</field></block></value><value name=\"ADD5\"><block type=\"math_number\" id=\"910qY[[4~4nziBPT;K+G\"><field name=\"NUM\">250</field></block></value></block></value><statement name=\"DO\"><block type=\"variables_set\" id=\"8APEX{xGs3Qz/$NzTFrY\"><field name=\"VAR\" id=\"`P)`+jl|;h{.[r}{78q6\">std_clf</field><value name=\"VALUE\"><block type=\"varDoMethod\" id=\"W=ep`rJjDXvsAV^R+NIG\"><mutation items=\"2\"></mutation><field name=\"VAR\" id=\"=z9KfSBWpoDS,oj-?yx,\">pipe</field><field name=\"MEMBER\">make_pipeline</field><data>pipe:make_pipeline</data><value name=\"ADD0\"><block type=\"varCreateObject\" id=\"ME+Z@t~BnN}LL22r%Hxt\"><mutation items=\"1\"></mutation><field name=\"VAR\" id=\".T`xqZHAu7r0$MQ4s=Yg\">pp</field><field name=\"MEMBER\">StandardScaler</field><data>pp:StandardScaler</data></block></value><value name=\"ADD1\"><block type=\"varCreateObject\" id=\"p=kmgsx6gSLD(RSPi]We\"><mutation items=\"1\"></mutation><field name=\"VAR\" id=\"MvUG^P$o3=I*6/67?Rk:\">neighbors</field><field name=\"MEMBER\">KNeighborsRegressor</field><data>neighbors:KNeighborsRegressor</data><value name=\"ADD0\"><block type=\"dummyOutputCodeBlock\" id=\"4*MO9`pDvGbjv^%|]#Jm\"><field name=\"CODE\">n_neighbors = j</field></block></value></block></value></block></value><next><block type=\"valueNoOutputCodeBlock\" id=\"b2$eeB}vA+APG9EY4RvG\"><field name=\"CODE\"></field><value name=\"INPUT\"><block type=\"varDoMethod\" id=\"!a#R5q~=+4G.fWQ-a:Ai\"><mutation items=\"2\"></mutation><field name=\"VAR\" id=\"`P)`+jl|;h{.[r}{78q6\">std_clf</field><field name=\"MEMBER\">fit</field><data>std_clf:fit</data><value name=\"ADD0\"><block type=\"lists_getIndex\" id=\"Bg)U?tUT/i!BuqI+~78i\"><mutation statement=\"false\" at=\"true\"></mutation><field name=\"MODE\">GET</field><field name=\"WHERE\">FROM_START</field><value name=\"VALUE\"><block type=\"variables_get\" id=\"J0_:T[7!I[/pre=^gqIw\"><field name=\"VAR\" id=\"_ut$e0PL4OMi4o1MXTpw\">splits</field></block></value><value name=\"AT\"><block type=\"math_number\" id=\"Jt|3]Id8E7gD7O}{bmrW\"><field name=\"NUM\">1</field></block></value></block></value><value name=\"ADD1\"><block type=\"varDoMethod\" id=\"7!WF{br/dCPJd;YQ:(Ik\"><mutation items=\"1\"></mutation><field name=\"VAR\" id=\"Zhzp)s*VL?V@ES3(j:*b\">np</field><field name=\"MEMBER\">ravel</field><data>np:ravel</data><value name=\"ADD0\"><block type=\"lists_getIndex\" id=\"p9_vm4JY1L*#.U$2H~(3\"><mutation statement=\"false\" at=\"true\"></mutation><field name=\"MODE\">GET</field><field name=\"WHERE\">FROM_START</field><value name=\"VALUE\"><block type=\"variables_get\" id=\"Ix.0Sy(FQ_=FtQZ`E7YO\"><field name=\"VAR\" id=\"_ut$e0PL4OMi4o1MXTpw\">splits</field></block></value><value name=\"AT\"><block type=\"math_number\" id=\"R!St?-]QDZB.6:gA5w9[\"><field name=\"NUM\">3</field></block></value></block></value></block></value></block></value><next><block type=\"variables_set\" id=\"}aopG5Di|aBV}PCsFRt|\"><field name=\"VAR\" id=\"5lkT$zi8W,`TXDny?Cv7\">predictions</field><value name=\"VALUE\"><block type=\"varDoMethod\" id=\"{!ML%F.iI.(gk.yKaKAo\"><mutation items=\"1\"></mutation><field name=\"VAR\" id=\"`P)`+jl|;h{.[r}{78q6\">std_clf</field><field name=\"MEMBER\">predict</field><data>std_clf:predict</data><value name=\"ADD0\"><block type=\"lists_getIndex\" id=\"NnMds!lCkgRZMy3GES4A\"><mutation statement=\"false\" at=\"true\"></mutation><field name=\"MODE\">GET</field><field name=\"WHERE\">FROM_START</field><value name=\"VALUE\"><block type=\"variables_get\" id=\"u{3q7m[%l/#e^qWs(A+$\"><field name=\"VAR\" id=\"_ut$e0PL4OMi4o1MXTpw\">splits</field></block></value><value name=\"AT\"><block type=\"math_number\" id=\"J=#ZnMxhAvm4we#*n[1u\"><field name=\"NUM\">2</field></block></value></block></value></block></value><next><block type=\"variables_set\" id=\"]Ea4cP;)eg*?FYSg,Hut\"><field name=\"VAR\" id=\"RN+myW;vx){}Q0LuFA9y\">rmse</field><value name=\"VALUE\"><block type=\"math_single\" id=\"Zj7qwunxC88s#@FHZp;o\"><field name=\"OP\">ROOT</field><value name=\"NUM\"><block type=\"varDoMethod\" id=\"7qLvGJ/o$}+](kkcy*!s\"><mutation items=\"2\"></mutation><field name=\"VAR\" id=\")}+w@N9iB/j=:+PLkMv8\">metrics</field><field name=\"MEMBER\">mean_squared_error</field><data>metrics:mean_squared_error</data><value name=\"ADD0\"><block type=\"lists_getIndex\" id=\"~=g?~X5=@%yq(ykF,@vT\"><mutation statement=\"false\" at=\"true\"></mutation><field name=\"MODE\">GET</field><field name=\"WHERE\">FROM_START</field><value name=\"VALUE\"><block type=\"variables_get\" id=\"p^5+}-qjm4#-sUjITW:U\"><field name=\"VAR\" id=\"_ut$e0PL4OMi4o1MXTpw\">splits</field></block></value><value name=\"AT\"><block type=\"math_number\" id=\"p+QpL(p9Fvb81#)=M#AO\"><field name=\"NUM\">4</field></block></value></block></value><value name=\"ADD1\"><block type=\"variables_get\" id=\"JlQHE,X|BqgbRt62iHR}\"><field name=\"VAR\" id=\"5lkT$zi8W,`TXDny?Cv7\">predictions</field></block></value></block></value></block></value><next><block type=\"text_print\" id=\"vG7/v1s~ddKS,]{?){9j\"><value name=\"TEXT\"><shadow type=\"text\" id=\"m]M`(:U/i~j@n/SHk!aE\"><field name=\"TEXT\">abc</field></shadow><block type=\"text_join\" id=\";i@2WV=j)URh;Nq30iJE\"><mutation items=\"3\"></mutation><value name=\"ADD0\"><block type=\"variables_get\" id=\"79Ugt/dg#lCaHOD+ufw=\"><field name=\"VAR\" id=\"nr%W_%EA(*n$_f,PuH#c\">j</field></block></value><value name=\"ADD1\"><block type=\"text\" id=\"2fUR/Sw-q*p=QW,%x7!;\"><field name=\"TEXT\">:</field></block></value><value name=\"ADD2\"><block type=\"variables_get\" id=\"Hz-2Ry[Go)mlv?{#UdM6\"><field name=\"VAR\" id=\"RN+myW;vx){}Q0LuFA9y\">rmse</field></block></value></block></value></block></next></block></next></block></next></block></next></block></statement></block></xml>"
   ]
  },
  {
   "cell_type": "markdown",
   "metadata": {},
   "source": [
    "**QUESTION:**\n",
    "\n",
    "What was your optimal K?"
   ]
  },
  {
   "cell_type": "markdown",
   "metadata": {},
   "source": [
    "**ANSWER: (click here to edit)**\n",
    "\n",
    "10\n",
    "\n",
    "<hr>"
   ]
  },
  {
   "cell_type": "markdown",
   "metadata": {},
   "source": [
    "## Plot the predictions for different values of K"
   ]
  },
  {
   "cell_type": "markdown",
   "metadata": {},
   "source": [
    "**This is very challenging and you might not finish!**\n",
    "\n",
    "First import plotly.graph_objects and create an empty figure."
   ]
  },
  {
   "cell_type": "code",
   "execution_count": 28,
   "metadata": {
    "user_blocks": [
     "importAs",
     "variables_set",
     "varCreateObject"
    ],
    "user_blocks_xml": "<xml xmlns=\"https://developers.google.com/blockly/xml\"><variables><variable id=\"`iml3^SQ8#}M{aSRdsjz\">go</variable><variable id=\"@U5l^JIp,}.H=ECCW?@g\">fig</variable></variables><block type=\"importAs\" id=\"GUc5k[3F^kaH{ibSnb$o\" x=\"46\" y=\"107\"><field name=\"libraryName\">plotly.graph_objects</field><field name=\"VAR\" id=\"`iml3^SQ8#}M{aSRdsjz\">go</field><next><block type=\"variables_set\" id=\"YRwvIfDCNvs=}BMmqLL~\"><field name=\"VAR\" id=\"@U5l^JIp,}.H=ECCW?@g\">fig</field><value name=\"VALUE\"><block type=\"varCreateObject\" id=\"(Mgw,PH[[Pi;j6VEvjza\"><mutation items=\"1\"></mutation><field name=\"VAR\" id=\"`iml3^SQ8#}M{aSRdsjz\">go</field><field name=\"MEMBER\">Figure</field><data>go:Figure</data></block></value></block></next></block></xml>",
    "user_code_from_blocks": "import plotly.graph_objects as go\nfig = go.Figure()\n"
   },
   "outputs": [],
   "source": [
    "import plotly.graph_objects as go\n",
    "fig = go.Figure()\n",
    "\n",
    "#<xml xmlns=\"https://developers.google.com/blockly/xml\"><variables><variable id=\"`iml3^SQ8#}M{aSRdsjz\">go</variable><variable id=\"@U5l^JIp,}.H=ECCW?@g\">fig</variable></variables><block type=\"importAs\" id=\"GUc5k[3F^kaH{ibSnb$o\" x=\"46\" y=\"107\"><field name=\"libraryName\">plotly.graph_objects</field><field name=\"VAR\" id=\"`iml3^SQ8#}M{aSRdsjz\">go</field><next><block type=\"variables_set\" id=\"YRwvIfDCNvs=}BMmqLL~\"><field name=\"VAR\" id=\"@U5l^JIp,}.H=ECCW?@g\">fig</field><value name=\"VALUE\"><block type=\"varCreateObject\" id=\"(Mgw,PH[[Pi;j6VEvjza\"><mutation items=\"1\"></mutation><field name=\"VAR\" id=\"`iml3^SQ8#}M{aSRdsjz\">go</field><field name=\"MEMBER\">Figure</field><data>go:Figure</data></block></value></block></next></block></xml>"
   ]
  },
  {
   "cell_type": "markdown",
   "metadata": {},
   "source": [
    "Copy your loop above pasted it below.\n",
    "\n",
    "Then copy your plot blocks where you plotted the data and predictions from the last session and put it inside the loop (adding below the last statement in the loop each time).\n",
    "\n",
    "For your `x=` variable, use `acceleration`.\n",
    "\n",
    "Then add one last block at the bottom of the loop:\n",
    "\n",
    "- Empty freestyle followed by `with fig do show using` (change `fig` to whatever you named your figure variable)\n",
    "\n",
    "This will produce a plot for each of your different levels of K.\n",
    "\n",
    "**Be careful with copy/paste errors. See hints for copying blocks between notebooks on #help.**"
   ]
  },
  {
   "cell_type": "code",
   "execution_count": 30,
   "metadata": {
    "user_blocks": [
     "controls_forEach",
     "lists_create_with",
     "math_number",
     "math_number",
     "math_number",
     "math_number",
     "math_number",
     "math_number",
     "variables_set",
     "varDoMethod",
     "varCreateObject",
     "varCreateObject",
     "dummyOutputCodeBlock",
     "valueNoOutputCodeBlock",
     "varDoMethod",
     "lists_getIndex",
     "variables_get",
     "math_number",
     "varDoMethod",
     "lists_getIndex",
     "variables_get",
     "math_number",
     "variables_set",
     "varDoMethod",
     "lists_getIndex",
     "variables_get",
     "math_number",
     "variables_set",
     "math_single",
     "varDoMethod",
     "lists_getIndex",
     "variables_get",
     "math_number",
     "variables_get",
     "variables_set",
     "lists_getIndex",
     "variables_get",
     "math_number",
     "variables_set",
     "indexer",
     "lists_create_with",
     "text",
     "variables_set",
     "varCreateObject",
     "valueNoOutputCodeBlock",
     "varDoMethod",
     "valueOutputCodeBlock",
     "varDoMethod",
     "variables_get",
     "valueOutputCodeBlock",
     "varDoMethod",
     "lists_getIndex",
     "variables_get",
     "math_number",
     "dummyOutputCodeBlock",
     "dummyOutputCodeBlock",
     "dummyOutputCodeBlock",
     "valueNoOutputCodeBlock",
     "varDoMethod",
     "valueOutputCodeBlock",
     "varDoMethod",
     "variables_get",
     "valueOutputCodeBlock",
     "varDoMethod",
     "variables_get",
     "dummyOutputCodeBlock",
     "dummyOutputCodeBlock",
     "dummyOutputCodeBlock",
     "valueNoOutputCodeBlock",
     "varDoMethod"
    ],
    "user_blocks_xml": "<xml xmlns=\"https://developers.google.com/blockly/xml\"><variables><variable id=\"nr%W_%EA(*n$_f,PuH#c\">j</variable><variable id=\"`P)`+jl|;h{.[r}{78q6\">std_clf</variable><variable id=\"=z9KfSBWpoDS,oj-?yx,\">pipe</variable><variable id=\".T`xqZHAu7r0$MQ4s=Yg\">pp</variable><variable id=\"MvUG^P$o3=I*6/67?Rk:\">neighbors</variable><variable id=\"5lkT$zi8W,`TXDny?Cv7\">predictions</variable><variable id=\"Zhzp)s*VL?V@ES3(j:*b\">np</variable><variable id=\"RN+myW;vx){}Q0LuFA9y\">rmse</variable><variable id=\"_ut$e0PL4OMi4o1MXTpw\">splits</variable><variable id=\"fe.98]:,bU@x*=}zaJ1/\">Xtest</variable><variable id=\")}+w@N9iB/j=:+PLkMv8\">metrics</variable><variable id=\"rVUZld`HfW,n/PC{X!9-\">lstat</variable><variable id=\"@U5l^JIp,}.H=ECCW?@g\">fig</variable><variable id=\"`iml3^SQ8#}M{aSRdsjz\">go</variable></variables><block type=\"controls_forEach\" id=\"MbWYZ/u3Q#+3*u`TM}ce\" x=\"46\" y=\"100\"><field name=\"VAR\" id=\"nr%W_%EA(*n$_f,PuH#c\">j</field><value name=\"LIST\"><block type=\"lists_create_with\" id=\"Q6_EXa41T:y(.uy[pm.V\"><mutation items=\"6\"></mutation><value name=\"ADD0\"><block type=\"math_number\" id=\"+BJ@yT0IgJORgO^/))c~\"><field name=\"NUM\">1</field></block></value><value name=\"ADD1\"><block type=\"math_number\" id=\".~r[qy7$p-Jy_g:ACHYr\"><field name=\"NUM\">10</field></block></value><value name=\"ADD2\"><block type=\"math_number\" id=\"w!m`o}C;PB7OhYP5ZTq~\"><field name=\"NUM\">25</field></block></value><value name=\"ADD3\"><block type=\"math_number\" id=\"?!EK)M.j{u~@|;ytL|nd\"><field name=\"NUM\">50</field></block></value><value name=\"ADD4\"><block type=\"math_number\" id=\"cLtaU]#w-;S(sUq8pw/l\"><field name=\"NUM\">100</field></block></value><value name=\"ADD5\"><block type=\"math_number\" id=\"910qY[[4~4nziBPT;K+G\"><field name=\"NUM\">250</field></block></value></block></value><statement name=\"DO\"><block type=\"variables_set\" id=\"8APEX{xGs3Qz/$NzTFrY\"><field name=\"VAR\" id=\"`P)`+jl|;h{.[r}{78q6\">std_clf</field><value name=\"VALUE\"><block type=\"varDoMethod\" id=\"W=ep`rJjDXvsAV^R+NIG\"><mutation items=\"2\"></mutation><field name=\"VAR\" id=\"=z9KfSBWpoDS,oj-?yx,\">pipe</field><field name=\"MEMBER\">make_pipeline</field><data>pipe:make_pipeline</data><value name=\"ADD0\"><block type=\"varCreateObject\" id=\"ME+Z@t~BnN}LL22r%Hxt\"><mutation items=\"1\"></mutation><field name=\"VAR\" id=\".T`xqZHAu7r0$MQ4s=Yg\">pp</field><field name=\"MEMBER\">StandardScaler</field><data>pp:StandardScaler</data></block></value><value name=\"ADD1\"><block type=\"varCreateObject\" id=\"p=kmgsx6gSLD(RSPi]We\"><mutation items=\"1\"></mutation><field name=\"VAR\" id=\"MvUG^P$o3=I*6/67?Rk:\">neighbors</field><field name=\"MEMBER\">KNeighborsRegressor</field><data>neighbors:KNeighborsRegressor</data><value name=\"ADD0\"><block type=\"dummyOutputCodeBlock\" id=\"4*MO9`pDvGbjv^%|]#Jm\"><field name=\"CODE\">n_neighbors = j</field></block></value></block></value></block></value><next><block type=\"valueNoOutputCodeBlock\" id=\"b2$eeB}vA+APG9EY4RvG\"><field name=\"CODE\"></field><value name=\"INPUT\"><block type=\"varDoMethod\" id=\"!a#R5q~=+4G.fWQ-a:Ai\"><mutation items=\"2\"></mutation><field name=\"VAR\" id=\"`P)`+jl|;h{.[r}{78q6\">std_clf</field><field name=\"MEMBER\">fit</field><data>std_clf:fit</data><value name=\"ADD0\"><block type=\"lists_getIndex\" id=\"Bg)U?tUT/i!BuqI+~78i\"><mutation statement=\"false\" at=\"true\"></mutation><field name=\"MODE\">GET</field><field name=\"WHERE\">FROM_START</field><value name=\"VALUE\"><block type=\"variables_get\" id=\"J0_:T[7!I[/pre=^gqIw\"><field name=\"VAR\" id=\"_ut$e0PL4OMi4o1MXTpw\">splits</field></block></value><value name=\"AT\"><block type=\"math_number\" id=\"Jt|3]Id8E7gD7O}{bmrW\"><field name=\"NUM\">1</field></block></value></block></value><value name=\"ADD1\"><block type=\"varDoMethod\" id=\"7!WF{br/dCPJd;YQ:(Ik\"><mutation items=\"1\"></mutation><field name=\"VAR\" id=\"Zhzp)s*VL?V@ES3(j:*b\">np</field><field name=\"MEMBER\">ravel</field><data>np:ravel</data><value name=\"ADD0\"><block type=\"lists_getIndex\" id=\"p9_vm4JY1L*#.U$2H~(3\"><mutation statement=\"false\" at=\"true\"></mutation><field name=\"MODE\">GET</field><field name=\"WHERE\">FROM_START</field><value name=\"VALUE\"><block type=\"variables_get\" id=\"Ix.0Sy(FQ_=FtQZ`E7YO\"><field name=\"VAR\" id=\"_ut$e0PL4OMi4o1MXTpw\">splits</field></block></value><value name=\"AT\"><block type=\"math_number\" id=\"R!St?-]QDZB.6:gA5w9[\"><field name=\"NUM\">3</field></block></value></block></value></block></value></block></value><next><block type=\"variables_set\" id=\"}aopG5Di|aBV}PCsFRt|\"><field name=\"VAR\" id=\"5lkT$zi8W,`TXDny?Cv7\">predictions</field><value name=\"VALUE\"><block type=\"varDoMethod\" id=\"{!ML%F.iI.(gk.yKaKAo\"><mutation items=\"1\"></mutation><field name=\"VAR\" id=\"`P)`+jl|;h{.[r}{78q6\">std_clf</field><field name=\"MEMBER\">predict</field><data>std_clf:predict</data><value name=\"ADD0\"><block type=\"lists_getIndex\" id=\"NnMds!lCkgRZMy3GES4A\"><mutation statement=\"false\" at=\"true\"></mutation><field name=\"MODE\">GET</field><field name=\"WHERE\">FROM_START</field><value name=\"VALUE\"><block type=\"variables_get\" id=\"u{3q7m[%l/#e^qWs(A+$\"><field name=\"VAR\" id=\"_ut$e0PL4OMi4o1MXTpw\">splits</field></block></value><value name=\"AT\"><block type=\"math_number\" id=\"J=#ZnMxhAvm4we#*n[1u\"><field name=\"NUM\">2</field></block></value></block></value></block></value><next><block type=\"variables_set\" id=\"]Ea4cP;)eg*?FYSg,Hut\"><field name=\"VAR\" id=\"RN+myW;vx){}Q0LuFA9y\">rmse</field><value name=\"VALUE\"><block type=\"math_single\" id=\"Zj7qwunxC88s#@FHZp;o\"><field name=\"OP\">ROOT</field><value name=\"NUM\"><block type=\"varDoMethod\" id=\"7qLvGJ/o$}+](kkcy*!s\"><mutation items=\"2\"></mutation><field name=\"VAR\" id=\")}+w@N9iB/j=:+PLkMv8\">metrics</field><field name=\"MEMBER\">mean_squared_error</field><data>metrics:mean_squared_error</data><value name=\"ADD0\"><block type=\"lists_getIndex\" id=\"~=g?~X5=@%yq(ykF,@vT\"><mutation statement=\"false\" at=\"true\"></mutation><field name=\"MODE\">GET</field><field name=\"WHERE\">FROM_START</field><value name=\"VALUE\"><block type=\"variables_get\" id=\"p^5+}-qjm4#-sUjITW:U\"><field name=\"VAR\" id=\"_ut$e0PL4OMi4o1MXTpw\">splits</field></block></value><value name=\"AT\"><block type=\"math_number\" id=\"p+QpL(p9Fvb81#)=M#AO\"><field name=\"NUM\">4</field></block></value></block></value><value name=\"ADD1\"><block type=\"variables_get\" id=\"JlQHE,X|BqgbRt62iHR}\"><field name=\"VAR\" id=\"5lkT$zi8W,`TXDny?Cv7\">predictions</field></block></value></block></value></block></value><next><block type=\"variables_set\" id=\"}GTn}Q9,G*xaf0J#m.P+\"><field name=\"VAR\" id=\"fe.98]:,bU@x*=}zaJ1/\">Xtest</field><value name=\"VALUE\"><block type=\"lists_getIndex\" id=\"LpEy)}~^*_Nv6R+9Tw8o\"><mutation statement=\"false\" at=\"true\"></mutation><field name=\"MODE\">GET</field><field name=\"WHERE\">FROM_START</field><value name=\"VALUE\"><block type=\"variables_get\" id=\"Z.7:EF^#6m)oIBBRX5y0\"><field name=\"VAR\" id=\"_ut$e0PL4OMi4o1MXTpw\">splits</field></block></value><value name=\"AT\"><block type=\"math_number\" id=\"yFr,LJ/1)CB$arw;EcAf\"><field name=\"NUM\">2</field></block></value></block></value><next><block type=\"variables_set\" id=\"E(-/u.}}rE]{N_3{Vu?d\"><field name=\"VAR\" id=\"rVUZld`HfW,n/PC{X!9-\">lstat</field><value name=\"VALUE\"><block type=\"indexer\" id=\"ag#-9SqC~GB(TlKfkbZ`\"><field name=\"VAR\" id=\"fe.98]:,bU@x*=}zaJ1/\">Xtest</field><value name=\"INDEX\"><block type=\"lists_create_with\" id=\"n4,FKV=^albEXXw!YbkU\"><mutation items=\"1\"></mutation><value name=\"ADD0\"><block type=\"text\" id=\"`A-j$xY[rlgo%5Beee:@\"><field name=\"TEXT\">acceleration</field></block></value></block></value></block></value><next><block type=\"variables_set\" id=\"8m1y-]+)piOjziJ$8mJU\"><field name=\"VAR\" id=\"@U5l^JIp,}.H=ECCW?@g\">fig</field><value name=\"VALUE\"><block type=\"varCreateObject\" id=\"@B1nGYL3XWr!5d)uKndx\"><mutation items=\"1\"></mutation><field name=\"VAR\" id=\"`iml3^SQ8#}M{aSRdsjz\">go</field><field name=\"MEMBER\">Figure</field><data>go:Figure</data></block></value><next><block type=\"valueNoOutputCodeBlock\" id=\"cJ[;o12D|PbQ1taRm$$(\"><field name=\"CODE\"></field><value name=\"INPUT\"><block type=\"varDoMethod\" id=\"=I}N1hrc%ohlFaQ{Bg9[\"><mutation items=\"5\"></mutation><field name=\"VAR\" id=\"@U5l^JIp,}.H=ECCW?@g\">fig</field><field name=\"MEMBER\">add_scatter</field><data>fig:add_scatter</data><value name=\"ADD0\"><block type=\"valueOutputCodeBlock\" id=\"GzOu,jb7j1y7Gi+Ww,nz\"><field name=\"CODE\">x=</field><value name=\"INPUT\"><block type=\"varDoMethod\" id=\"RZq;ySQ.#PpKy`F@%B,v\"><mutation items=\"1\"></mutation><field name=\"VAR\" id=\"Zhzp)s*VL?V@ES3(j:*b\">np</field><field name=\"MEMBER\">ravel</field><data>np:ravel</data><value name=\"ADD0\"><block type=\"variables_get\" id=\"o.V]E6C-PTjwZpsDw+9R\"><field name=\"VAR\" id=\"rVUZld`HfW,n/PC{X!9-\">lstat</field></block></value></block></value></block></value><value name=\"ADD1\"><block type=\"valueOutputCodeBlock\" id=\"38X2;2m|S$D#Nyk/{)tA\"><field name=\"CODE\">y=</field><value name=\"INPUT\"><block type=\"varDoMethod\" id=\"%$sb,zqtcn}no4-26/.p\"><mutation items=\"1\"></mutation><field name=\"VAR\" id=\"Zhzp)s*VL?V@ES3(j:*b\">np</field><field name=\"MEMBER\">ravel</field><data>np:ravel</data><value name=\"ADD0\"><block type=\"lists_getIndex\" id=\"b|YGLq}0yyc#cybsaGUq\"><mutation statement=\"false\" at=\"true\"></mutation><field name=\"MODE\">GET</field><field name=\"WHERE\">FROM_START</field><value name=\"VALUE\"><block type=\"variables_get\" id=\"YB@u00`!A11SK#[yHNFl\"><field name=\"VAR\" id=\"_ut$e0PL4OMi4o1MXTpw\">splits</field></block></value><value name=\"AT\"><block type=\"math_number\" id=\"+~)jaNq?!fkjQN`c/Fjo\"><field name=\"NUM\">4</field></block></value></block></value></block></value></block></value><value name=\"ADD2\"><block type=\"dummyOutputCodeBlock\" id=\"5=f=,lWa)JjUqtFZ{_BX\"><field name=\"CODE\">mode=\"markers\"</field></block></value><value name=\"ADD3\"><block type=\"dummyOutputCodeBlock\" id=\"GJn+onXp(BOtQ$GNMl/1\"><field name=\"CODE\">name=\"observed\" </field></block></value><value name=\"ADD4\"><block type=\"dummyOutputCodeBlock\" id=\"2m%fYG4,!=378N%BV%6z\"><field name=\"CODE\">line=dict(color='royalblue')</field></block></value></block></value><next><block type=\"valueNoOutputCodeBlock\" id=\"zhUYu.4^VDw,@~4{/%!1\"><field name=\"CODE\"></field><value name=\"INPUT\"><block type=\"varDoMethod\" id=\"Vr`hq?JU`Y7P0v57?OYZ\"><mutation items=\"5\"></mutation><field name=\"VAR\" id=\"@U5l^JIp,}.H=ECCW?@g\">fig</field><field name=\"MEMBER\">add_scatter</field><data>fig:add_scatter</data><value name=\"ADD0\"><block type=\"valueOutputCodeBlock\" id=\"8K-ZX`@=yNiNsNFQfOn*\"><field name=\"CODE\">x=</field><value name=\"INPUT\"><block type=\"varDoMethod\" id=\",CMi4bm1hLU_=(96R~RI\"><mutation items=\"1\"></mutation><field name=\"VAR\" id=\"Zhzp)s*VL?V@ES3(j:*b\">np</field><field name=\"MEMBER\">ravel</field><data>np:ravel</data><value name=\"ADD0\"><block type=\"variables_get\" id=\"$^M/]P5Fw#gOIkkUNM#P\"><field name=\"VAR\" id=\"rVUZld`HfW,n/PC{X!9-\">lstat</field></block></value></block></value></block></value><value name=\"ADD1\"><block type=\"valueOutputCodeBlock\" id=\"iK0B/(F)%.T;(t3bz8:[\"><field name=\"CODE\">y=</field><value name=\"INPUT\"><block type=\"varDoMethod\" id=\"qtq?EjkX0P1X1jXXTb,n\"><mutation items=\"1\"></mutation><field name=\"VAR\" id=\"Zhzp)s*VL?V@ES3(j:*b\">np</field><field name=\"MEMBER\">ravel</field><data>np:ravel</data><value name=\"ADD0\"><block type=\"variables_get\" id=\"5Z:%1U+MUOXv14yZB+h?\"><field name=\"VAR\" id=\"5lkT$zi8W,`TXDny?Cv7\">predictions</field></block></value></block></value></block></value><value name=\"ADD2\"><block type=\"dummyOutputCodeBlock\" id=\"-3Mp(X`N=6s~l[Osko|s\"><field name=\"CODE\">mode=\"markers\"</field></block></value><value name=\"ADD3\"><block type=\"dummyOutputCodeBlock\" id=\"Wx`Pma.$`Hi~v=Qmj3AF\"><field name=\"CODE\">name=\"predicted\" </field></block></value><value name=\"ADD4\"><block type=\"dummyOutputCodeBlock\" id=\"-7l}r-x$czChXC9xrdnT\"><field name=\"CODE\">line=dict(color='orange')</field></block></value></block></value><next><block type=\"valueNoOutputCodeBlock\" id=\"!U}8]:1sKNtLT|1CSkS`\"><field name=\"CODE\"></field><value name=\"INPUT\"><block type=\"varDoMethod\" id=\"o+#9DaOam![G}o3Th.?W\"><mutation items=\"1\"></mutation><field name=\"VAR\" id=\"@U5l^JIp,}.H=ECCW?@g\">fig</field><field name=\"MEMBER\">show</field><data>fig:show</data></block></value></block></next></block></next></block></next></block></next></block></next></block></next></block></next></block></next></block></next></block></statement></block></xml>",
    "user_code_from_blocks": "\nimport math\n\n\nfor j in [1, 10, 25, 50, 100, 250]:\n  std_clf = pipe.make_pipeline(pp.StandardScaler(),neighbors.KNeighborsRegressor(n_neighbors = j))\n  (std_clf.fit(splits[0],np.ravel(splits[2])))\n  predictions = std_clf.predict(splits[1])\n  rmse = math.sqrt(metrics.mean_squared_error(splits[3],predictions))\n  Xtest = splits[1]\n  lstat = Xtest[['acceleration']]\n  fig = go.Figure()\n  (fig.add_scatter(x= (np.ravel(lstat)),y= (np.ravel(splits[3])),mode=\"markers\",name=\"observed\",line=dict(color='royalblue')))\n  (fig.add_scatter(x= (np.ravel(lstat)),y= (np.ravel(predictions)),mode=\"markers\",name=\"predicted\",line=dict(color='orange')))\n  (fig.show())\n"
   },
   "outputs": [
    {
     "data": {
      "application/vnd.plotly.v1+json": {
       "config": {
        "plotlyServerURL": "https://plot.ly"
       },
       "data": [
        {
         "line": {
          "color": "royalblue"
         },
         "mode": "markers",
         "name": "observed",
         "type": "scatter",
         "x": {
          "bdata": "AAAAAACAM0DNzMzMzMwmQAAAAAAAAC5AAAAAAAAALUAAAAAAAAAwQJqZmZmZmS5AMzMzMzMzM0CamZmZmZkpQAAAAAAAACdAMzMzMzMzLkAAAAAAAAAuQAAAAAAAACdAmpmZmZkZNkAAAAAAAAAwQJqZmZmZmStAZmZmZmZmKkCamZmZmZkvQJqZmZmZmTJAZmZmZmZmMEAAAAAAAIA3QAAAAAAAACpAmpmZmZmZMUAAAAAAAAAjQM3MzMzMzC1AAAAAAAAAL0AAAAAAAAArQAAAAAAAACtAAAAAAAAALUAAAAAAAAA1QM3MzMzMzCxAAAAAAAAAKkAAAAAAAAAvQAAAAAAAADBAAAAAAAAAMEAAAAAAAAAkQGZmZmZmZjNAAAAAAACAMEAAAAAAAAAtQAAAAAAAACtAZmZmZmZmLkCamZmZmZkvQAAAAAAAAC9AAAAAAACAMUAAAAAAAAAtQAAAAAAAAC1AAAAAAAAALUAAAAAAAAAxQGZmZmZmZjNAAAAAAAAAL0AAAAAAAIAwQGZmZmZmZjBAZmZmZmZmJkCamZmZmRkyQJqZmZmZmS5AzczMzMzMMUDNzMzMzMwqQAAAAAAAgDNAAAAAAACAMUAAAAAAAAAxQDMzMzMzMzJAAAAAAAAAMUAAAAAAAAAuQGZmZmZmZjFAAAAAAAAALEBmZmZmZmYtQAAAAAAAADFAZmZmZmZmL0AAAAAAAAArQGZmZmZm5jBAAAAAAAAAKkAAAAAAAAAwQAAAAAAAADFAAAAAAAAAKUAAAAAAAAAqQAAAAAAAAChAzczMzMxMMkAzMzMzMzMrQGZmZmZmZi1AAAAAAAAAK0A=",
          "dtype": "f8"
         },
         "y": {
          "bdata": "AAAAAAAAPUAAAAAAAAAvQAAAAAAAADNAAAAAAAAAQkAAAAAAAAA1QAAAAAAAADtAzczMzMzMP0AzMzMzMzM0QAAAAAAAAChAmpmZmZkZMkAAAAAAAAAkQAAAAAAAAChAAAAAAACAOEDNzMzMzAxBQDMzMzMzMzhAAAAAAAAAKkAAAAAAAIA5QDMzMzMzs0NAzczMzMwMQkAAAAAAAAA3QAAAAAAAACpAzczMzMzMN0AAAAAAAAAuQJqZmZmZWUFAAAAAAAAALEAAAAAAAAAyQAAAAAAAADNAAAAAAAAALEAAAAAAAAAuQM3MzMzMDEJAAAAAAACAMkAAAAAAAAA6QAAAAAAAADNAAAAAAAAAM0AAAAAAAAAsQGZmZmZmZkBAAAAAAAAAP0AAAAAAAAA7QAAAAAAAADlAmpmZmZkZQEBmZmZmZiZBQAAAAAAAADhAAAAAAAAAOUBmZmZmZuY+QAAAAAAAADJAAAAAAAAANkAAAAAAAAAwQAAAAAAAgEJAAAAAAAAAMkAAAAAAAAA0QAAAAAAAADlAmpmZmZkZMkBmZmZmZmY6QM3MzMzMzD1AAAAAAACAMUCamZmZmZkxQAAAAAAAAD5AAAAAAAAAOUAAAAAAAAAzQM3MzMzMzDNAAAAAAAAAOUAAAAAAAAA1QAAAAAAAADdAAAAAAAAAJkAAAAAAAABDQAAAAAAAAC5AmpmZmZmZNUAAAAAAAIA1QAAAAAAAgDRAAAAAAAAALEAAAAAAAAA0QAAAAAAAADdAAAAAAAAALkAAAAAAAABCQAAAAAAAACpAmpmZmZmZP0AAAAAAAIA6QAAAAAAAwERAAAAAAAAAKEA=",
          "dtype": "f8"
         }
        },
        {
         "line": {
          "color": "orange"
         },
         "mode": "markers",
         "name": "predicted",
         "type": "scatter",
         "x": {
          "bdata": "AAAAAACAM0DNzMzMzMwmQAAAAAAAAC5AAAAAAAAALUAAAAAAAAAwQJqZmZmZmS5AMzMzMzMzM0CamZmZmZkpQAAAAAAAACdAMzMzMzMzLkAAAAAAAAAuQAAAAAAAACdAmpmZmZkZNkAAAAAAAAAwQJqZmZmZmStAZmZmZmZmKkCamZmZmZkvQJqZmZmZmTJAZmZmZmZmMEAAAAAAAIA3QAAAAAAAACpAmpmZmZmZMUAAAAAAAAAjQM3MzMzMzC1AAAAAAAAAL0AAAAAAAAArQAAAAAAAACtAAAAAAAAALUAAAAAAAAA1QM3MzMzMzCxAAAAAAAAAKkAAAAAAAAAvQAAAAAAAADBAAAAAAAAAMEAAAAAAAAAkQGZmZmZmZjNAAAAAAACAMEAAAAAAAAAtQAAAAAAAACtAZmZmZmZmLkCamZmZmZkvQAAAAAAAAC9AAAAAAACAMUAAAAAAAAAtQAAAAAAAAC1AAAAAAAAALUAAAAAAAAAxQGZmZmZmZjNAAAAAAAAAL0AAAAAAAIAwQGZmZmZmZjBAZmZmZmZmJkCamZmZmRkyQJqZmZmZmS5AzczMzMzMMUDNzMzMzMwqQAAAAAAAgDNAAAAAAACAMUAAAAAAAAAxQDMzMzMzMzJAAAAAAAAAMUAAAAAAAAAuQGZmZmZmZjFAAAAAAAAALEBmZmZmZmYtQAAAAAAAADFAZmZmZmZmL0AAAAAAAAArQGZmZmZm5jBAAAAAAAAAKkAAAAAAAAAwQAAAAAAAADFAAAAAAAAAKUAAAAAAAAAqQAAAAAAAAChAzczMzMxMMkAzMzMzMzMrQGZmZmZmZi1AAAAAAAAAK0A=",
          "dtype": "f8"
         },
         "y": {
          "bdata": "AAAAAAAAOkAAAAAAAIAwQAAAAAAAADFAAAAAAAAAQkAAAAAAAAA1QAAAAAAAADxAZmZmZmZmREAzMzMzMzMzQAAAAAAAACpAAAAAAACANUAAAAAAAAAmQAAAAAAAACpAAAAAAAAAPUAAAAAAAABDQGZmZmZmZjlAAAAAAAAAMEAAAAAAAIA4QAAAAAAAgD9AAAAAAAAAPkAAAAAAAAA6QAAAAAAAAChAzczMzMxMNkAAAAAAAAAuQM3MzMzMDEBAAAAAAAAALEAAAAAAAAAzQAAAAAAAADJAAAAAAAAAMEAAAAAAAAAyQJqZmZmZ2UFAAAAAAACAMEAAAAAAAAA/QAAAAAAAADJAAAAAAAAANkAAAAAAAAAuQAAAAAAAgD9AAAAAAACAQEAAAAAAAAA7QAAAAAAAADhAmpmZmZnZQEBmZmZmZqZCQAAAAAAAAD9AAAAAAAAANkAAAAAAAAA+QAAAAAAAADNAAAAAAAAAN0AAAAAAAAAyQGZmZmZmZkRAAAAAAAAAMUAAAAAAAAA3QDMzMzMzMzRAMzMzMzMzM0DNzMzMzEw2QGZmZmZmpkJAAAAAAACANkBmZmZmZmYzQAAAAAAAADtAAAAAAAAANkAAAAAAAIA2QAAAAAAAgDRAAAAAAAAANUAAAAAAAAA2QAAAAAAAADFAAAAAAAAAKkAzMzMzMzNBQAAAAAAAADBAzczMzMxMNEAAAAAAAIA7QAAAAAAAgDFAAAAAAAAALkAAAAAAAAA2QAAAAAAAADlAAAAAAAAALkAAAAAAAAA+QAAAAAAAACxAzczMzMxMP0AAAAAAAAA5QGZmZmZmpkJAAAAAAAAAKkA=",
          "dtype": "f8"
         }
        }
       ],
       "layout": {
        "template": {
         "data": {
          "bar": [
           {
            "error_x": {
             "color": "#2a3f5f"
            },
            "error_y": {
             "color": "#2a3f5f"
            },
            "marker": {
             "line": {
              "color": "#E5ECF6",
              "width": 0.5
             },
             "pattern": {
              "fillmode": "overlay",
              "size": 10,
              "solidity": 0.2
             }
            },
            "type": "bar"
           }
          ],
          "barpolar": [
           {
            "marker": {
             "line": {
              "color": "#E5ECF6",
              "width": 0.5
             },
             "pattern": {
              "fillmode": "overlay",
              "size": 10,
              "solidity": 0.2
             }
            },
            "type": "barpolar"
           }
          ],
          "carpet": [
           {
            "aaxis": {
             "endlinecolor": "#2a3f5f",
             "gridcolor": "white",
             "linecolor": "white",
             "minorgridcolor": "white",
             "startlinecolor": "#2a3f5f"
            },
            "baxis": {
             "endlinecolor": "#2a3f5f",
             "gridcolor": "white",
             "linecolor": "white",
             "minorgridcolor": "white",
             "startlinecolor": "#2a3f5f"
            },
            "type": "carpet"
           }
          ],
          "choropleth": [
           {
            "colorbar": {
             "outlinewidth": 0,
             "ticks": ""
            },
            "type": "choropleth"
           }
          ],
          "contour": [
           {
            "colorbar": {
             "outlinewidth": 0,
             "ticks": ""
            },
            "colorscale": [
             [
              0,
              "#0d0887"
             ],
             [
              0.1111111111111111,
              "#46039f"
             ],
             [
              0.2222222222222222,
              "#7201a8"
             ],
             [
              0.3333333333333333,
              "#9c179e"
             ],
             [
              0.4444444444444444,
              "#bd3786"
             ],
             [
              0.5555555555555556,
              "#d8576b"
             ],
             [
              0.6666666666666666,
              "#ed7953"
             ],
             [
              0.7777777777777778,
              "#fb9f3a"
             ],
             [
              0.8888888888888888,
              "#fdca26"
             ],
             [
              1,
              "#f0f921"
             ]
            ],
            "type": "contour"
           }
          ],
          "contourcarpet": [
           {
            "colorbar": {
             "outlinewidth": 0,
             "ticks": ""
            },
            "type": "contourcarpet"
           }
          ],
          "heatmap": [
           {
            "colorbar": {
             "outlinewidth": 0,
             "ticks": ""
            },
            "colorscale": [
             [
              0,
              "#0d0887"
             ],
             [
              0.1111111111111111,
              "#46039f"
             ],
             [
              0.2222222222222222,
              "#7201a8"
             ],
             [
              0.3333333333333333,
              "#9c179e"
             ],
             [
              0.4444444444444444,
              "#bd3786"
             ],
             [
              0.5555555555555556,
              "#d8576b"
             ],
             [
              0.6666666666666666,
              "#ed7953"
             ],
             [
              0.7777777777777778,
              "#fb9f3a"
             ],
             [
              0.8888888888888888,
              "#fdca26"
             ],
             [
              1,
              "#f0f921"
             ]
            ],
            "type": "heatmap"
           }
          ],
          "histogram": [
           {
            "marker": {
             "pattern": {
              "fillmode": "overlay",
              "size": 10,
              "solidity": 0.2
             }
            },
            "type": "histogram"
           }
          ],
          "histogram2d": [
           {
            "colorbar": {
             "outlinewidth": 0,
             "ticks": ""
            },
            "colorscale": [
             [
              0,
              "#0d0887"
             ],
             [
              0.1111111111111111,
              "#46039f"
             ],
             [
              0.2222222222222222,
              "#7201a8"
             ],
             [
              0.3333333333333333,
              "#9c179e"
             ],
             [
              0.4444444444444444,
              "#bd3786"
             ],
             [
              0.5555555555555556,
              "#d8576b"
             ],
             [
              0.6666666666666666,
              "#ed7953"
             ],
             [
              0.7777777777777778,
              "#fb9f3a"
             ],
             [
              0.8888888888888888,
              "#fdca26"
             ],
             [
              1,
              "#f0f921"
             ]
            ],
            "type": "histogram2d"
           }
          ],
          "histogram2dcontour": [
           {
            "colorbar": {
             "outlinewidth": 0,
             "ticks": ""
            },
            "colorscale": [
             [
              0,
              "#0d0887"
             ],
             [
              0.1111111111111111,
              "#46039f"
             ],
             [
              0.2222222222222222,
              "#7201a8"
             ],
             [
              0.3333333333333333,
              "#9c179e"
             ],
             [
              0.4444444444444444,
              "#bd3786"
             ],
             [
              0.5555555555555556,
              "#d8576b"
             ],
             [
              0.6666666666666666,
              "#ed7953"
             ],
             [
              0.7777777777777778,
              "#fb9f3a"
             ],
             [
              0.8888888888888888,
              "#fdca26"
             ],
             [
              1,
              "#f0f921"
             ]
            ],
            "type": "histogram2dcontour"
           }
          ],
          "mesh3d": [
           {
            "colorbar": {
             "outlinewidth": 0,
             "ticks": ""
            },
            "type": "mesh3d"
           }
          ],
          "parcoords": [
           {
            "line": {
             "colorbar": {
              "outlinewidth": 0,
              "ticks": ""
             }
            },
            "type": "parcoords"
           }
          ],
          "pie": [
           {
            "automargin": true,
            "type": "pie"
           }
          ],
          "scatter": [
           {
            "fillpattern": {
             "fillmode": "overlay",
             "size": 10,
             "solidity": 0.2
            },
            "type": "scatter"
           }
          ],
          "scatter3d": [
           {
            "line": {
             "colorbar": {
              "outlinewidth": 0,
              "ticks": ""
             }
            },
            "marker": {
             "colorbar": {
              "outlinewidth": 0,
              "ticks": ""
             }
            },
            "type": "scatter3d"
           }
          ],
          "scattercarpet": [
           {
            "marker": {
             "colorbar": {
              "outlinewidth": 0,
              "ticks": ""
             }
            },
            "type": "scattercarpet"
           }
          ],
          "scattergeo": [
           {
            "marker": {
             "colorbar": {
              "outlinewidth": 0,
              "ticks": ""
             }
            },
            "type": "scattergeo"
           }
          ],
          "scattergl": [
           {
            "marker": {
             "colorbar": {
              "outlinewidth": 0,
              "ticks": ""
             }
            },
            "type": "scattergl"
           }
          ],
          "scattermap": [
           {
            "marker": {
             "colorbar": {
              "outlinewidth": 0,
              "ticks": ""
             }
            },
            "type": "scattermap"
           }
          ],
          "scattermapbox": [
           {
            "marker": {
             "colorbar": {
              "outlinewidth": 0,
              "ticks": ""
             }
            },
            "type": "scattermapbox"
           }
          ],
          "scatterpolar": [
           {
            "marker": {
             "colorbar": {
              "outlinewidth": 0,
              "ticks": ""
             }
            },
            "type": "scatterpolar"
           }
          ],
          "scatterpolargl": [
           {
            "marker": {
             "colorbar": {
              "outlinewidth": 0,
              "ticks": ""
             }
            },
            "type": "scatterpolargl"
           }
          ],
          "scatterternary": [
           {
            "marker": {
             "colorbar": {
              "outlinewidth": 0,
              "ticks": ""
             }
            },
            "type": "scatterternary"
           }
          ],
          "surface": [
           {
            "colorbar": {
             "outlinewidth": 0,
             "ticks": ""
            },
            "colorscale": [
             [
              0,
              "#0d0887"
             ],
             [
              0.1111111111111111,
              "#46039f"
             ],
             [
              0.2222222222222222,
              "#7201a8"
             ],
             [
              0.3333333333333333,
              "#9c179e"
             ],
             [
              0.4444444444444444,
              "#bd3786"
             ],
             [
              0.5555555555555556,
              "#d8576b"
             ],
             [
              0.6666666666666666,
              "#ed7953"
             ],
             [
              0.7777777777777778,
              "#fb9f3a"
             ],
             [
              0.8888888888888888,
              "#fdca26"
             ],
             [
              1,
              "#f0f921"
             ]
            ],
            "type": "surface"
           }
          ],
          "table": [
           {
            "cells": {
             "fill": {
              "color": "#EBF0F8"
             },
             "line": {
              "color": "white"
             }
            },
            "header": {
             "fill": {
              "color": "#C8D4E3"
             },
             "line": {
              "color": "white"
             }
            },
            "type": "table"
           }
          ]
         },
         "layout": {
          "annotationdefaults": {
           "arrowcolor": "#2a3f5f",
           "arrowhead": 0,
           "arrowwidth": 1
          },
          "autotypenumbers": "strict",
          "coloraxis": {
           "colorbar": {
            "outlinewidth": 0,
            "ticks": ""
           }
          },
          "colorscale": {
           "diverging": [
            [
             0,
             "#8e0152"
            ],
            [
             0.1,
             "#c51b7d"
            ],
            [
             0.2,
             "#de77ae"
            ],
            [
             0.3,
             "#f1b6da"
            ],
            [
             0.4,
             "#fde0ef"
            ],
            [
             0.5,
             "#f7f7f7"
            ],
            [
             0.6,
             "#e6f5d0"
            ],
            [
             0.7,
             "#b8e186"
            ],
            [
             0.8,
             "#7fbc41"
            ],
            [
             0.9,
             "#4d9221"
            ],
            [
             1,
             "#276419"
            ]
           ],
           "sequential": [
            [
             0,
             "#0d0887"
            ],
            [
             0.1111111111111111,
             "#46039f"
            ],
            [
             0.2222222222222222,
             "#7201a8"
            ],
            [
             0.3333333333333333,
             "#9c179e"
            ],
            [
             0.4444444444444444,
             "#bd3786"
            ],
            [
             0.5555555555555556,
             "#d8576b"
            ],
            [
             0.6666666666666666,
             "#ed7953"
            ],
            [
             0.7777777777777778,
             "#fb9f3a"
            ],
            [
             0.8888888888888888,
             "#fdca26"
            ],
            [
             1,
             "#f0f921"
            ]
           ],
           "sequentialminus": [
            [
             0,
             "#0d0887"
            ],
            [
             0.1111111111111111,
             "#46039f"
            ],
            [
             0.2222222222222222,
             "#7201a8"
            ],
            [
             0.3333333333333333,
             "#9c179e"
            ],
            [
             0.4444444444444444,
             "#bd3786"
            ],
            [
             0.5555555555555556,
             "#d8576b"
            ],
            [
             0.6666666666666666,
             "#ed7953"
            ],
            [
             0.7777777777777778,
             "#fb9f3a"
            ],
            [
             0.8888888888888888,
             "#fdca26"
            ],
            [
             1,
             "#f0f921"
            ]
           ]
          },
          "colorway": [
           "#636efa",
           "#EF553B",
           "#00cc96",
           "#ab63fa",
           "#FFA15A",
           "#19d3f3",
           "#FF6692",
           "#B6E880",
           "#FF97FF",
           "#FECB52"
          ],
          "font": {
           "color": "#2a3f5f"
          },
          "geo": {
           "bgcolor": "white",
           "lakecolor": "white",
           "landcolor": "#E5ECF6",
           "showlakes": true,
           "showland": true,
           "subunitcolor": "white"
          },
          "hoverlabel": {
           "align": "left"
          },
          "hovermode": "closest",
          "mapbox": {
           "style": "light"
          },
          "paper_bgcolor": "white",
          "plot_bgcolor": "#E5ECF6",
          "polar": {
           "angularaxis": {
            "gridcolor": "white",
            "linecolor": "white",
            "ticks": ""
           },
           "bgcolor": "#E5ECF6",
           "radialaxis": {
            "gridcolor": "white",
            "linecolor": "white",
            "ticks": ""
           }
          },
          "scene": {
           "xaxis": {
            "backgroundcolor": "#E5ECF6",
            "gridcolor": "white",
            "gridwidth": 2,
            "linecolor": "white",
            "showbackground": true,
            "ticks": "",
            "zerolinecolor": "white"
           },
           "yaxis": {
            "backgroundcolor": "#E5ECF6",
            "gridcolor": "white",
            "gridwidth": 2,
            "linecolor": "white",
            "showbackground": true,
            "ticks": "",
            "zerolinecolor": "white"
           },
           "zaxis": {
            "backgroundcolor": "#E5ECF6",
            "gridcolor": "white",
            "gridwidth": 2,
            "linecolor": "white",
            "showbackground": true,
            "ticks": "",
            "zerolinecolor": "white"
           }
          },
          "shapedefaults": {
           "line": {
            "color": "#2a3f5f"
           }
          },
          "ternary": {
           "aaxis": {
            "gridcolor": "white",
            "linecolor": "white",
            "ticks": ""
           },
           "baxis": {
            "gridcolor": "white",
            "linecolor": "white",
            "ticks": ""
           },
           "bgcolor": "#E5ECF6",
           "caxis": {
            "gridcolor": "white",
            "linecolor": "white",
            "ticks": ""
           }
          },
          "title": {
           "x": 0.05
          },
          "xaxis": {
           "automargin": true,
           "gridcolor": "white",
           "linecolor": "white",
           "ticks": "",
           "title": {
            "standoff": 15
           },
           "zerolinecolor": "white",
           "zerolinewidth": 2
          },
          "yaxis": {
           "automargin": true,
           "gridcolor": "white",
           "linecolor": "white",
           "ticks": "",
           "title": {
            "standoff": 15
           },
           "zerolinecolor": "white",
           "zerolinewidth": 2
          }
         }
        }
       }
      },
      "image/png": "[encoded data removed]"
     },
     "metadata": {},
     "output_type": "display_data"
    },
    {
     "data": {
      "application/vnd.plotly.v1+json": {
       "config": {
        "plotlyServerURL": "https://plot.ly"
       },
       "data": [
        {
         "line": {
          "color": "royalblue"
         },
         "mode": "markers",
         "name": "observed",
         "type": "scatter",
         "x": {
          "bdata": "AAAAAACAM0DNzMzMzMwmQAAAAAAAAC5AAAAAAAAALUAAAAAAAAAwQJqZmZmZmS5AMzMzMzMzM0CamZmZmZkpQAAAAAAAACdAMzMzMzMzLkAAAAAAAAAuQAAAAAAAACdAmpmZmZkZNkAAAAAAAAAwQJqZmZmZmStAZmZmZmZmKkCamZmZmZkvQJqZmZmZmTJAZmZmZmZmMEAAAAAAAIA3QAAAAAAAACpAmpmZmZmZMUAAAAAAAAAjQM3MzMzMzC1AAAAAAAAAL0AAAAAAAAArQAAAAAAAACtAAAAAAAAALUAAAAAAAAA1QM3MzMzMzCxAAAAAAAAAKkAAAAAAAAAvQAAAAAAAADBAAAAAAAAAMEAAAAAAAAAkQGZmZmZmZjNAAAAAAACAMEAAAAAAAAAtQAAAAAAAACtAZmZmZmZmLkCamZmZmZkvQAAAAAAAAC9AAAAAAACAMUAAAAAAAAAtQAAAAAAAAC1AAAAAAAAALUAAAAAAAAAxQGZmZmZmZjNAAAAAAAAAL0AAAAAAAIAwQGZmZmZmZjBAZmZmZmZmJkCamZmZmRkyQJqZmZmZmS5AzczMzMzMMUDNzMzMzMwqQAAAAAAAgDNAAAAAAACAMUAAAAAAAAAxQDMzMzMzMzJAAAAAAAAAMUAAAAAAAAAuQGZmZmZmZjFAAAAAAAAALEBmZmZmZmYtQAAAAAAAADFAZmZmZmZmL0AAAAAAAAArQGZmZmZm5jBAAAAAAAAAKkAAAAAAAAAwQAAAAAAAADFAAAAAAAAAKUAAAAAAAAAqQAAAAAAAAChAzczMzMxMMkAzMzMzMzMrQGZmZmZmZi1AAAAAAAAAK0A=",
          "dtype": "f8"
         },
         "y": {
          "bdata": "AAAAAAAAPUAAAAAAAAAvQAAAAAAAADNAAAAAAAAAQkAAAAAAAAA1QAAAAAAAADtAzczMzMzMP0AzMzMzMzM0QAAAAAAAAChAmpmZmZkZMkAAAAAAAAAkQAAAAAAAAChAAAAAAACAOEDNzMzMzAxBQDMzMzMzMzhAAAAAAAAAKkAAAAAAAIA5QDMzMzMzs0NAzczMzMwMQkAAAAAAAAA3QAAAAAAAACpAzczMzMzMN0AAAAAAAAAuQJqZmZmZWUFAAAAAAAAALEAAAAAAAAAyQAAAAAAAADNAAAAAAAAALEAAAAAAAAAuQM3MzMzMDEJAAAAAAACAMkAAAAAAAAA6QAAAAAAAADNAAAAAAAAAM0AAAAAAAAAsQGZmZmZmZkBAAAAAAAAAP0AAAAAAAAA7QAAAAAAAADlAmpmZmZkZQEBmZmZmZiZBQAAAAAAAADhAAAAAAAAAOUBmZmZmZuY+QAAAAAAAADJAAAAAAAAANkAAAAAAAAAwQAAAAAAAgEJAAAAAAAAAMkAAAAAAAAA0QAAAAAAAADlAmpmZmZkZMkBmZmZmZmY6QM3MzMzMzD1AAAAAAACAMUCamZmZmZkxQAAAAAAAAD5AAAAAAAAAOUAAAAAAAAAzQM3MzMzMzDNAAAAAAAAAOUAAAAAAAAA1QAAAAAAAADdAAAAAAAAAJkAAAAAAAABDQAAAAAAAAC5AmpmZmZmZNUAAAAAAAIA1QAAAAAAAgDRAAAAAAAAALEAAAAAAAAA0QAAAAAAAADdAAAAAAAAALkAAAAAAAABCQAAAAAAAACpAmpmZmZmZP0AAAAAAAIA6QAAAAAAAwERAAAAAAAAAKEA=",
          "dtype": "f8"
         }
        },
        {
         "line": {
          "color": "orange"
         },
         "mode": "markers",
         "name": "predicted",
         "type": "scatter",
         "x": {
          "bdata": "AAAAAACAM0DNzMzMzMwmQAAAAAAAAC5AAAAAAAAALUAAAAAAAAAwQJqZmZmZmS5AMzMzMzMzM0CamZmZmZkpQAAAAAAAACdAMzMzMzMzLkAAAAAAAAAuQAAAAAAAACdAmpmZmZkZNkAAAAAAAAAwQJqZmZmZmStAZmZmZmZmKkCamZmZmZkvQJqZmZmZmTJAZmZmZmZmMEAAAAAAAIA3QAAAAAAAACpAmpmZmZmZMUAAAAAAAAAjQM3MzMzMzC1AAAAAAAAAL0AAAAAAAAArQAAAAAAAACtAAAAAAAAALUAAAAAAAAA1QM3MzMzMzCxAAAAAAAAAKkAAAAAAAAAvQAAAAAAAADBAAAAAAAAAMEAAAAAAAAAkQGZmZmZmZjNAAAAAAACAMEAAAAAAAAAtQAAAAAAAACtAZmZmZmZmLkCamZmZmZkvQAAAAAAAAC9AAAAAAACAMUAAAAAAAAAtQAAAAAAAAC1AAAAAAAAALUAAAAAAAAAxQGZmZmZmZjNAAAAAAAAAL0AAAAAAAIAwQGZmZmZmZjBAZmZmZmZmJkCamZmZmRkyQJqZmZmZmS5AzczMzMzMMUDNzMzMzMwqQAAAAAAAgDNAAAAAAACAMUAAAAAAAAAxQDMzMzMzMzJAAAAAAAAAMUAAAAAAAAAuQGZmZmZmZjFAAAAAAAAALEBmZmZmZmYtQAAAAAAAADFAZmZmZmZmL0AAAAAAAAArQGZmZmZm5jBAAAAAAAAAKkAAAAAAAAAwQAAAAAAAADFAAAAAAAAAKUAAAAAAAAAqQAAAAAAAAChAzczMzMxMMkAzMzMzMzMrQGZmZmZmZi1AAAAAAAAAK0A=",
          "dtype": "f8"
         },
         "y": {
          "bdata": "MzMzMzMzPECamZmZmZkvQDMzMzMzMzJANDMzMzOzQUAzMzMzMzMzQDMzMzMzMzxAj8L1KFzPQUD2KFyPwrUwQAAAAAAAACpAXI/C9ShcNECamZmZmZkoQM3MzMzMzClAexSuR+G6PEDrUbgehctBQEbhehSuhztAexSuR+H6L0BwPQrXo/A5QNajcD0KF0FAMzMzMzOTQEDD9Shcj4I7QDMzMzMzMytANDMzMzNzOUBmZmZmZmYuQJqZmZmZOUBAZmZmZmZmLECamZmZmZkyQDMzMzMzMzhAmpmZmZmZLECF61G4HoUxQFK4HoXrsUBAmpmZmZnZMEAAAAAAAIA7QJqZmZmZWTNAzczMzMzMM0CamZmZmZkrQK5H4XoUbkFAZmZmZmamP0BmZmZmZmY4QJqZmZmZWTdA4noUrkchQUC6HoXrUbg/QM3MzMzMTDtAzczMzMzMOEDNzMzMzMw+QJqZmZmZmTdAzczMzMwMN0CamZmZmVkxQHE9CtejcEJAMzMzMzOzMkAzMzMzM/MzQD4K16NwPTZAKVyPwvVoMECF61G4HoU6QD4K16NwXUBAPgrXo3D9M0DNzMzMzIwxQJqZmZmZmTlAzczMzMzMOEAzMzMzM3MzQD0K16NwvTRAZmZmZmbmN0CamZmZmVkzQBWuR+F61DFAmpmZmZmZKkBSuB6F63FAQM3MzMzMTDJAzczMzMzMN0A9CtejcD05QFyPwvUonDNAAAAAAAAALEAAAAAAAMAzQDMzMzMzszdAmpmZmZmZLUDC9Shcj0I9QDMzMzMzMypACtejcD3qQUCF61G4HsU8QI/C9ShcD0BAmpmZmZmZK0A=",
          "dtype": "f8"
         }
        }
       ],
       "layout": {
        "template": {
         "data": {
          "bar": [
           {
            "error_x": {
             "color": "#2a3f5f"
            },
            "error_y": {
             "color": "#2a3f5f"
            },
            "marker": {
             "line": {
              "color": "#E5ECF6",
              "width": 0.5
             },
             "pattern": {
              "fillmode": "overlay",
              "size": 10,
              "solidity": 0.2
             }
            },
            "type": "bar"
           }
          ],
          "barpolar": [
           {
            "marker": {
             "line": {
              "color": "#E5ECF6",
              "width": 0.5
             },
             "pattern": {
              "fillmode": "overlay",
              "size": 10,
              "solidity": 0.2
             }
            },
            "type": "barpolar"
           }
          ],
          "carpet": [
           {
            "aaxis": {
             "endlinecolor": "#2a3f5f",
             "gridcolor": "white",
             "linecolor": "white",
             "minorgridcolor": "white",
             "startlinecolor": "#2a3f5f"
            },
            "baxis": {
             "endlinecolor": "#2a3f5f",
             "gridcolor": "white",
             "linecolor": "white",
             "minorgridcolor": "white",
             "startlinecolor": "#2a3f5f"
            },
            "type": "carpet"
           }
          ],
          "choropleth": [
           {
            "colorbar": {
             "outlinewidth": 0,
             "ticks": ""
            },
            "type": "choropleth"
           }
          ],
          "contour": [
           {
            "colorbar": {
             "outlinewidth": 0,
             "ticks": ""
            },
            "colorscale": [
             [
              0,
              "#0d0887"
             ],
             [
              0.1111111111111111,
              "#46039f"
             ],
             [
              0.2222222222222222,
              "#7201a8"
             ],
             [
              0.3333333333333333,
              "#9c179e"
             ],
             [
              0.4444444444444444,
              "#bd3786"
             ],
             [
              0.5555555555555556,
              "#d8576b"
             ],
             [
              0.6666666666666666,
              "#ed7953"
             ],
             [
              0.7777777777777778,
              "#fb9f3a"
             ],
             [
              0.8888888888888888,
              "#fdca26"
             ],
             [
              1,
              "#f0f921"
             ]
            ],
            "type": "contour"
           }
          ],
          "contourcarpet": [
           {
            "colorbar": {
             "outlinewidth": 0,
             "ticks": ""
            },
            "type": "contourcarpet"
           }
          ],
          "heatmap": [
           {
            "colorbar": {
             "outlinewidth": 0,
             "ticks": ""
            },
            "colorscale": [
             [
              0,
              "#0d0887"
             ],
             [
              0.1111111111111111,
              "#46039f"
             ],
             [
              0.2222222222222222,
              "#7201a8"
             ],
             [
              0.3333333333333333,
              "#9c179e"
             ],
             [
              0.4444444444444444,
              "#bd3786"
             ],
             [
              0.5555555555555556,
              "#d8576b"
             ],
             [
              0.6666666666666666,
              "#ed7953"
             ],
             [
              0.7777777777777778,
              "#fb9f3a"
             ],
             [
              0.8888888888888888,
              "#fdca26"
             ],
             [
              1,
              "#f0f921"
             ]
            ],
            "type": "heatmap"
           }
          ],
          "histogram": [
           {
            "marker": {
             "pattern": {
              "fillmode": "overlay",
              "size": 10,
              "solidity": 0.2
             }
            },
            "type": "histogram"
           }
          ],
          "histogram2d": [
           {
            "colorbar": {
             "outlinewidth": 0,
             "ticks": ""
            },
            "colorscale": [
             [
              0,
              "#0d0887"
             ],
             [
              0.1111111111111111,
              "#46039f"
             ],
             [
              0.2222222222222222,
              "#7201a8"
             ],
             [
              0.3333333333333333,
              "#9c179e"
             ],
             [
              0.4444444444444444,
              "#bd3786"
             ],
             [
              0.5555555555555556,
              "#d8576b"
             ],
             [
              0.6666666666666666,
              "#ed7953"
             ],
             [
              0.7777777777777778,
              "#fb9f3a"
             ],
             [
              0.8888888888888888,
              "#fdca26"
             ],
             [
              1,
              "#f0f921"
             ]
            ],
            "type": "histogram2d"
           }
          ],
          "histogram2dcontour": [
           {
            "colorbar": {
             "outlinewidth": 0,
             "ticks": ""
            },
            "colorscale": [
             [
              0,
              "#0d0887"
             ],
             [
              0.1111111111111111,
              "#46039f"
             ],
             [
              0.2222222222222222,
              "#7201a8"
             ],
             [
              0.3333333333333333,
              "#9c179e"
             ],
             [
              0.4444444444444444,
              "#bd3786"
             ],
             [
              0.5555555555555556,
              "#d8576b"
             ],
             [
              0.6666666666666666,
              "#ed7953"
             ],
             [
              0.7777777777777778,
              "#fb9f3a"
             ],
             [
              0.8888888888888888,
              "#fdca26"
             ],
             [
              1,
              "#f0f921"
             ]
            ],
            "type": "histogram2dcontour"
           }
          ],
          "mesh3d": [
           {
            "colorbar": {
             "outlinewidth": 0,
             "ticks": ""
            },
            "type": "mesh3d"
           }
          ],
          "parcoords": [
           {
            "line": {
             "colorbar": {
              "outlinewidth": 0,
              "ticks": ""
             }
            },
            "type": "parcoords"
           }
          ],
          "pie": [
           {
            "automargin": true,
            "type": "pie"
           }
          ],
          "scatter": [
           {
            "fillpattern": {
             "fillmode": "overlay",
             "size": 10,
             "solidity": 0.2
            },
            "type": "scatter"
           }
          ],
          "scatter3d": [
           {
            "line": {
             "colorbar": {
              "outlinewidth": 0,
              "ticks": ""
             }
            },
            "marker": {
             "colorbar": {
              "outlinewidth": 0,
              "ticks": ""
             }
            },
            "type": "scatter3d"
           }
          ],
          "scattercarpet": [
           {
            "marker": {
             "colorbar": {
              "outlinewidth": 0,
              "ticks": ""
             }
            },
            "type": "scattercarpet"
           }
          ],
          "scattergeo": [
           {
            "marker": {
             "colorbar": {
              "outlinewidth": 0,
              "ticks": ""
             }
            },
            "type": "scattergeo"
           }
          ],
          "scattergl": [
           {
            "marker": {
             "colorbar": {
              "outlinewidth": 0,
              "ticks": ""
             }
            },
            "type": "scattergl"
           }
          ],
          "scattermap": [
           {
            "marker": {
             "colorbar": {
              "outlinewidth": 0,
              "ticks": ""
             }
            },
            "type": "scattermap"
           }
          ],
          "scattermapbox": [
           {
            "marker": {
             "colorbar": {
              "outlinewidth": 0,
              "ticks": ""
             }
            },
            "type": "scattermapbox"
           }
          ],
          "scatterpolar": [
           {
            "marker": {
             "colorbar": {
              "outlinewidth": 0,
              "ticks": ""
             }
            },
            "type": "scatterpolar"
           }
          ],
          "scatterpolargl": [
           {
            "marker": {
             "colorbar": {
              "outlinewidth": 0,
              "ticks": ""
             }
            },
            "type": "scatterpolargl"
           }
          ],
          "scatterternary": [
           {
            "marker": {
             "colorbar": {
              "outlinewidth": 0,
              "ticks": ""
             }
            },
            "type": "scatterternary"
           }
          ],
          "surface": [
           {
            "colorbar": {
             "outlinewidth": 0,
             "ticks": ""
            },
            "colorscale": [
             [
              0,
              "#0d0887"
             ],
             [
              0.1111111111111111,
              "#46039f"
             ],
             [
              0.2222222222222222,
              "#7201a8"
             ],
             [
              0.3333333333333333,
              "#9c179e"
             ],
             [
              0.4444444444444444,
              "#bd3786"
             ],
             [
              0.5555555555555556,
              "#d8576b"
             ],
             [
              0.6666666666666666,
              "#ed7953"
             ],
             [
              0.7777777777777778,
              "#fb9f3a"
             ],
             [
              0.8888888888888888,
              "#fdca26"
             ],
             [
              1,
              "#f0f921"
             ]
            ],
            "type": "surface"
           }
          ],
          "table": [
           {
            "cells": {
             "fill": {
              "color": "#EBF0F8"
             },
             "line": {
              "color": "white"
             }
            },
            "header": {
             "fill": {
              "color": "#C8D4E3"
             },
             "line": {
              "color": "white"
             }
            },
            "type": "table"
           }
          ]
         },
         "layout": {
          "annotationdefaults": {
           "arrowcolor": "#2a3f5f",
           "arrowhead": 0,
           "arrowwidth": 1
          },
          "autotypenumbers": "strict",
          "coloraxis": {
           "colorbar": {
            "outlinewidth": 0,
            "ticks": ""
           }
          },
          "colorscale": {
           "diverging": [
            [
             0,
             "#8e0152"
            ],
            [
             0.1,
             "#c51b7d"
            ],
            [
             0.2,
             "#de77ae"
            ],
            [
             0.3,
             "#f1b6da"
            ],
            [
             0.4,
             "#fde0ef"
            ],
            [
             0.5,
             "#f7f7f7"
            ],
            [
             0.6,
             "#e6f5d0"
            ],
            [
             0.7,
             "#b8e186"
            ],
            [
             0.8,
             "#7fbc41"
            ],
            [
             0.9,
             "#4d9221"
            ],
            [
             1,
             "#276419"
            ]
           ],
           "sequential": [
            [
             0,
             "#0d0887"
            ],
            [
             0.1111111111111111,
             "#46039f"
            ],
            [
             0.2222222222222222,
             "#7201a8"
            ],
            [
             0.3333333333333333,
             "#9c179e"
            ],
            [
             0.4444444444444444,
             "#bd3786"
            ],
            [
             0.5555555555555556,
             "#d8576b"
            ],
            [
             0.6666666666666666,
             "#ed7953"
            ],
            [
             0.7777777777777778,
             "#fb9f3a"
            ],
            [
             0.8888888888888888,
             "#fdca26"
            ],
            [
             1,
             "#f0f921"
            ]
           ],
           "sequentialminus": [
            [
             0,
             "#0d0887"
            ],
            [
             0.1111111111111111,
             "#46039f"
            ],
            [
             0.2222222222222222,
             "#7201a8"
            ],
            [
             0.3333333333333333,
             "#9c179e"
            ],
            [
             0.4444444444444444,
             "#bd3786"
            ],
            [
             0.5555555555555556,
             "#d8576b"
            ],
            [
             0.6666666666666666,
             "#ed7953"
            ],
            [
             0.7777777777777778,
             "#fb9f3a"
            ],
            [
             0.8888888888888888,
             "#fdca26"
            ],
            [
             1,
             "#f0f921"
            ]
           ]
          },
          "colorway": [
           "#636efa",
           "#EF553B",
           "#00cc96",
           "#ab63fa",
           "#FFA15A",
           "#19d3f3",
           "#FF6692",
           "#B6E880",
           "#FF97FF",
           "#FECB52"
          ],
          "font": {
           "color": "#2a3f5f"
          },
          "geo": {
           "bgcolor": "white",
           "lakecolor": "white",
           "landcolor": "#E5ECF6",
           "showlakes": true,
           "showland": true,
           "subunitcolor": "white"
          },
          "hoverlabel": {
           "align": "left"
          },
          "hovermode": "closest",
          "mapbox": {
           "style": "light"
          },
          "paper_bgcolor": "white",
          "plot_bgcolor": "#E5ECF6",
          "polar": {
           "angularaxis": {
            "gridcolor": "white",
            "linecolor": "white",
            "ticks": ""
           },
           "bgcolor": "#E5ECF6",
           "radialaxis": {
            "gridcolor": "white",
            "linecolor": "white",
            "ticks": ""
           }
          },
          "scene": {
           "xaxis": {
            "backgroundcolor": "#E5ECF6",
            "gridcolor": "white",
            "gridwidth": 2,
            "linecolor": "white",
            "showbackground": true,
            "ticks": "",
            "zerolinecolor": "white"
           },
           "yaxis": {
            "backgroundcolor": "#E5ECF6",
            "gridcolor": "white",
            "gridwidth": 2,
            "linecolor": "white",
            "showbackground": true,
            "ticks": "",
            "zerolinecolor": "white"
           },
           "zaxis": {
            "backgroundcolor": "#E5ECF6",
            "gridcolor": "white",
            "gridwidth": 2,
            "linecolor": "white",
            "showbackground": true,
            "ticks": "",
            "zerolinecolor": "white"
           }
          },
          "shapedefaults": {
           "line": {
            "color": "#2a3f5f"
           }
          },
          "ternary": {
           "aaxis": {
            "gridcolor": "white",
            "linecolor": "white",
            "ticks": ""
           },
           "baxis": {
            "gridcolor": "white",
            "linecolor": "white",
            "ticks": ""
           },
           "bgcolor": "#E5ECF6",
           "caxis": {
            "gridcolor": "white",
            "linecolor": "white",
            "ticks": ""
           }
          },
          "title": {
           "x": 0.05
          },
          "xaxis": {
           "automargin": true,
           "gridcolor": "white",
           "linecolor": "white",
           "ticks": "",
           "title": {
            "standoff": 15
           },
           "zerolinecolor": "white",
           "zerolinewidth": 2
          },
          "yaxis": {
           "automargin": true,
           "gridcolor": "white",
           "linecolor": "white",
           "ticks": "",
           "title": {
            "standoff": 15
           },
           "zerolinecolor": "white",
           "zerolinewidth": 2
          }
         }
        }
       }
      },
      "image/png": "[encoded data removed]"
     },
     "metadata": {},
     "output_type": "display_data"
    },
    {
     "data": {
      "application/vnd.plotly.v1+json": {
       "config": {
        "plotlyServerURL": "https://plot.ly"
       },
       "data": [
        {
         "line": {
          "color": "royalblue"
         },
         "mode": "markers",
         "name": "observed",
         "type": "scatter",
         "x": {
          "bdata": "AAAAAACAM0DNzMzMzMwmQAAAAAAAAC5AAAAAAAAALUAAAAAAAAAwQJqZmZmZmS5AMzMzMzMzM0CamZmZmZkpQAAAAAAAACdAMzMzMzMzLkAAAAAAAAAuQAAAAAAAACdAmpmZmZkZNkAAAAAAAAAwQJqZmZmZmStAZmZmZmZmKkCamZmZmZkvQJqZmZmZmTJAZmZmZmZmMEAAAAAAAIA3QAAAAAAAACpAmpmZmZmZMUAAAAAAAAAjQM3MzMzMzC1AAAAAAAAAL0AAAAAAAAArQAAAAAAAACtAAAAAAAAALUAAAAAAAAA1QM3MzMzMzCxAAAAAAAAAKkAAAAAAAAAvQAAAAAAAADBAAAAAAAAAMEAAAAAAAAAkQGZmZmZmZjNAAAAAAACAMEAAAAAAAAAtQAAAAAAAACtAZmZmZmZmLkCamZmZmZkvQAAAAAAAAC9AAAAAAACAMUAAAAAAAAAtQAAAAAAAAC1AAAAAAAAALUAAAAAAAAAxQGZmZmZmZjNAAAAAAAAAL0AAAAAAAIAwQGZmZmZmZjBAZmZmZmZmJkCamZmZmRkyQJqZmZmZmS5AzczMzMzMMUDNzMzMzMwqQAAAAAAAgDNAAAAAAACAMUAAAAAAAAAxQDMzMzMzMzJAAAAAAAAAMUAAAAAAAAAuQGZmZmZmZjFAAAAAAAAALEBmZmZmZmYtQAAAAAAAADFAZmZmZmZmL0AAAAAAAAArQGZmZmZm5jBAAAAAAAAAKkAAAAAAAAAwQAAAAAAAADFAAAAAAAAAKUAAAAAAAAAqQAAAAAAAAChAzczMzMxMMkAzMzMzMzMrQGZmZmZmZi1AAAAAAAAAK0A=",
          "dtype": "f8"
         },
         "y": {
          "bdata": "AAAAAAAAPUAAAAAAAAAvQAAAAAAAADNAAAAAAAAAQkAAAAAAAAA1QAAAAAAAADtAzczMzMzMP0AzMzMzMzM0QAAAAAAAAChAmpmZmZkZMkAAAAAAAAAkQAAAAAAAAChAAAAAAACAOEDNzMzMzAxBQDMzMzMzMzhAAAAAAAAAKkAAAAAAAIA5QDMzMzMzs0NAzczMzMwMQkAAAAAAAAA3QAAAAAAAACpAzczMzMzMN0AAAAAAAAAuQJqZmZmZWUFAAAAAAAAALEAAAAAAAAAyQAAAAAAAADNAAAAAAAAALEAAAAAAAAAuQM3MzMzMDEJAAAAAAACAMkAAAAAAAAA6QAAAAAAAADNAAAAAAAAAM0AAAAAAAAAsQGZmZmZmZkBAAAAAAAAAP0AAAAAAAAA7QAAAAAAAADlAmpmZmZkZQEBmZmZmZiZBQAAAAAAAADhAAAAAAAAAOUBmZmZmZuY+QAAAAAAAADJAAAAAAAAANkAAAAAAAAAwQAAAAAAAgEJAAAAAAAAAMkAAAAAAAAA0QAAAAAAAADlAmpmZmZkZMkBmZmZmZmY6QM3MzMzMzD1AAAAAAACAMUCamZmZmZkxQAAAAAAAAD5AAAAAAAAAOUAAAAAAAAAzQM3MzMzMzDNAAAAAAAAAOUAAAAAAAAA1QAAAAAAAADdAAAAAAAAAJkAAAAAAAABDQAAAAAAAAC5AmpmZmZmZNUAAAAAAAIA1QAAAAAAAgDRAAAAAAAAALEAAAAAAAAA0QAAAAAAAADdAAAAAAAAALkAAAAAAAABCQAAAAAAAACpAmpmZmZmZP0AAAAAAAIA6QAAAAAAAwERAAAAAAAAAKEA=",
          "dtype": "f8"
         }
        },
        {
         "line": {
          "color": "orange"
         },
         "mode": "markers",
         "name": "predicted",
         "type": "scatter",
         "x": {
          "bdata": "AAAAAACAM0DNzMzMzMwmQAAAAAAAAC5AAAAAAAAALUAAAAAAAAAwQJqZmZmZmS5AMzMzMzMzM0CamZmZmZkpQAAAAAAAACdAMzMzMzMzLkAAAAAAAAAuQAAAAAAAACdAmpmZmZkZNkAAAAAAAAAwQJqZmZmZmStAZmZmZmZmKkCamZmZmZkvQJqZmZmZmTJAZmZmZmZmMEAAAAAAAIA3QAAAAAAAACpAmpmZmZmZMUAAAAAAAAAjQM3MzMzMzC1AAAAAAAAAL0AAAAAAAAArQAAAAAAAACtAAAAAAAAALUAAAAAAAAA1QM3MzMzMzCxAAAAAAAAAKkAAAAAAAAAvQAAAAAAAADBAAAAAAAAAMEAAAAAAAAAkQGZmZmZmZjNAAAAAAACAMEAAAAAAAAAtQAAAAAAAACtAZmZmZmZmLkCamZmZmZkvQAAAAAAAAC9AAAAAAACAMUAAAAAAAAAtQAAAAAAAAC1AAAAAAAAALUAAAAAAAAAxQGZmZmZmZjNAAAAAAAAAL0AAAAAAAIAwQGZmZmZmZjBAZmZmZmZmJkCamZmZmRkyQJqZmZmZmS5AzczMzMzMMUDNzMzMzMwqQAAAAAAAgDNAAAAAAACAMUAAAAAAAAAxQDMzMzMzMzJAAAAAAAAAMUAAAAAAAAAuQGZmZmZmZjFAAAAAAAAALEBmZmZmZmYtQAAAAAAAADFAZmZmZmZmL0AAAAAAAAArQGZmZmZm5jBAAAAAAAAAKkAAAAAAAAAwQAAAAAAAADFAAAAAAAAAKUAAAAAAAAAqQAAAAAAAAChAzczMzMxMMkAzMzMzMzMrQGZmZmZmZi1AAAAAAAAAK0A=",
          "dtype": "f8"
         },
         "y": {
          "bdata": "8tJNYhDYO0Boke18PzUuQBSuR+F6FDNAHVpkO99PQECF61G4HoU0QLgehetRODtAN4lBYOUQQUAxCKwcWmQwQDMzMzMzMytAhxbZzvfTM0BmZmZmZmYqQIXrUbgehSpAiUFg5dCiPEDjpZvEILBBQPYoXI/C9TpA+FPjpZvELkCS7Xw/Nd47QN0kBoGVw0BAc2iR7Xz/QEAUrkfhehQ8QJqZmZmZmStAPQrXo3C9OkAzMzMzMzMtQNv5fmq8dD5A16NwPQrXLEAfhetRuJ4yQBSuR+F6FDlApHA9CtejLEC/nxov3SQzQKFFtvP91D5ABFYOLbIdMEC28/3UeOk7QNnO91PjJTNAXI/C9ShcM0Bcj8L1KFwrQEw3iUFg5UBAlkOLbOf7PECF61G4HoU5QNR46SYxCDlArkfhehRuQEBSuB6F69E/QKRwPQrXozpAUrgehetROECDwMqhRbY9QOF6FK5HYThARbbz/dT4OEDy0k1iENgyQESLbOf7aUFAPQrXo3A9M0Aj2/l+ajwzQC7dJAaBlTdA6Pup8dJNMECUGARWDq07QJZDi2znO0FArRxaZDvfMkAxCKwcWmQwQHE9CtejcDpAexSuR+F6OEBcj8L1KFwzQAMrhxbZzjRAMzMzMzMzOUAfhetRuJ4zQFg5tMh2PjFAhetRuB6FK0DKoUW28/0+QD0K16NwvTJAVA4tsp1vOUB0kxgEVo46QKrx0k1ikDNAzczMzMzMLEDsUbgehWszQNEi2/l+ajlAj8L1KFyPLEAcWmQ73889QArXo3A9CitApHA9CtdjQUDz/dR46aY8QKAaL90kxkBArkfhehSuK0A=",
          "dtype": "f8"
         }
        }
       ],
       "layout": {
        "template": {
         "data": {
          "bar": [
           {
            "error_x": {
             "color": "#2a3f5f"
            },
            "error_y": {
             "color": "#2a3f5f"
            },
            "marker": {
             "line": {
              "color": "#E5ECF6",
              "width": 0.5
             },
             "pattern": {
              "fillmode": "overlay",
              "size": 10,
              "solidity": 0.2
             }
            },
            "type": "bar"
           }
          ],
          "barpolar": [
           {
            "marker": {
             "line": {
              "color": "#E5ECF6",
              "width": 0.5
             },
             "pattern": {
              "fillmode": "overlay",
              "size": 10,
              "solidity": 0.2
             }
            },
            "type": "barpolar"
           }
          ],
          "carpet": [
           {
            "aaxis": {
             "endlinecolor": "#2a3f5f",
             "gridcolor": "white",
             "linecolor": "white",
             "minorgridcolor": "white",
             "startlinecolor": "#2a3f5f"
            },
            "baxis": {
             "endlinecolor": "#2a3f5f",
             "gridcolor": "white",
             "linecolor": "white",
             "minorgridcolor": "white",
             "startlinecolor": "#2a3f5f"
            },
            "type": "carpet"
           }
          ],
          "choropleth": [
           {
            "colorbar": {
             "outlinewidth": 0,
             "ticks": ""
            },
            "type": "choropleth"
           }
          ],
          "contour": [
           {
            "colorbar": {
             "outlinewidth": 0,
             "ticks": ""
            },
            "colorscale": [
             [
              0,
              "#0d0887"
             ],
             [
              0.1111111111111111,
              "#46039f"
             ],
             [
              0.2222222222222222,
              "#7201a8"
             ],
             [
              0.3333333333333333,
              "#9c179e"
             ],
             [
              0.4444444444444444,
              "#bd3786"
             ],
             [
              0.5555555555555556,
              "#d8576b"
             ],
             [
              0.6666666666666666,
              "#ed7953"
             ],
             [
              0.7777777777777778,
              "#fb9f3a"
             ],
             [
              0.8888888888888888,
              "#fdca26"
             ],
             [
              1,
              "#f0f921"
             ]
            ],
            "type": "contour"
           }
          ],
          "contourcarpet": [
           {
            "colorbar": {
             "outlinewidth": 0,
             "ticks": ""
            },
            "type": "contourcarpet"
           }
          ],
          "heatmap": [
           {
            "colorbar": {
             "outlinewidth": 0,
             "ticks": ""
            },
            "colorscale": [
             [
              0,
              "#0d0887"
             ],
             [
              0.1111111111111111,
              "#46039f"
             ],
             [
              0.2222222222222222,
              "#7201a8"
             ],
             [
              0.3333333333333333,
              "#9c179e"
             ],
             [
              0.4444444444444444,
              "#bd3786"
             ],
             [
              0.5555555555555556,
              "#d8576b"
             ],
             [
              0.6666666666666666,
              "#ed7953"
             ],
             [
              0.7777777777777778,
              "#fb9f3a"
             ],
             [
              0.8888888888888888,
              "#fdca26"
             ],
             [
              1,
              "#f0f921"
             ]
            ],
            "type": "heatmap"
           }
          ],
          "histogram": [
           {
            "marker": {
             "pattern": {
              "fillmode": "overlay",
              "size": 10,
              "solidity": 0.2
             }
            },
            "type": "histogram"
           }
          ],
          "histogram2d": [
           {
            "colorbar": {
             "outlinewidth": 0,
             "ticks": ""
            },
            "colorscale": [
             [
              0,
              "#0d0887"
             ],
             [
              0.1111111111111111,
              "#46039f"
             ],
             [
              0.2222222222222222,
              "#7201a8"
             ],
             [
              0.3333333333333333,
              "#9c179e"
             ],
             [
              0.4444444444444444,
              "#bd3786"
             ],
             [
              0.5555555555555556,
              "#d8576b"
             ],
             [
              0.6666666666666666,
              "#ed7953"
             ],
             [
              0.7777777777777778,
              "#fb9f3a"
             ],
             [
              0.8888888888888888,
              "#fdca26"
             ],
             [
              1,
              "#f0f921"
             ]
            ],
            "type": "histogram2d"
           }
          ],
          "histogram2dcontour": [
           {
            "colorbar": {
             "outlinewidth": 0,
             "ticks": ""
            },
            "colorscale": [
             [
              0,
              "#0d0887"
             ],
             [
              0.1111111111111111,
              "#46039f"
             ],
             [
              0.2222222222222222,
              "#7201a8"
             ],
             [
              0.3333333333333333,
              "#9c179e"
             ],
             [
              0.4444444444444444,
              "#bd3786"
             ],
             [
              0.5555555555555556,
              "#d8576b"
             ],
             [
              0.6666666666666666,
              "#ed7953"
             ],
             [
              0.7777777777777778,
              "#fb9f3a"
             ],
             [
              0.8888888888888888,
              "#fdca26"
             ],
             [
              1,
              "#f0f921"
             ]
            ],
            "type": "histogram2dcontour"
           }
          ],
          "mesh3d": [
           {
            "colorbar": {
             "outlinewidth": 0,
             "ticks": ""
            },
            "type": "mesh3d"
           }
          ],
          "parcoords": [
           {
            "line": {
             "colorbar": {
              "outlinewidth": 0,
              "ticks": ""
             }
            },
            "type": "parcoords"
           }
          ],
          "pie": [
           {
            "automargin": true,
            "type": "pie"
           }
          ],
          "scatter": [
           {
            "fillpattern": {
             "fillmode": "overlay",
             "size": 10,
             "solidity": 0.2
            },
            "type": "scatter"
           }
          ],
          "scatter3d": [
           {
            "line": {
             "colorbar": {
              "outlinewidth": 0,
              "ticks": ""
             }
            },
            "marker": {
             "colorbar": {
              "outlinewidth": 0,
              "ticks": ""
             }
            },
            "type": "scatter3d"
           }
          ],
          "scattercarpet": [
           {
            "marker": {
             "colorbar": {
              "outlinewidth": 0,
              "ticks": ""
             }
            },
            "type": "scattercarpet"
           }
          ],
          "scattergeo": [
           {
            "marker": {
             "colorbar": {
              "outlinewidth": 0,
              "ticks": ""
             }
            },
            "type": "scattergeo"
           }
          ],
          "scattergl": [
           {
            "marker": {
             "colorbar": {
              "outlinewidth": 0,
              "ticks": ""
             }
            },
            "type": "scattergl"
           }
          ],
          "scattermap": [
           {
            "marker": {
             "colorbar": {
              "outlinewidth": 0,
              "ticks": ""
             }
            },
            "type": "scattermap"
           }
          ],
          "scattermapbox": [
           {
            "marker": {
             "colorbar": {
              "outlinewidth": 0,
              "ticks": ""
             }
            },
            "type": "scattermapbox"
           }
          ],
          "scatterpolar": [
           {
            "marker": {
             "colorbar": {
              "outlinewidth": 0,
              "ticks": ""
             }
            },
            "type": "scatterpolar"
           }
          ],
          "scatterpolargl": [
           {
            "marker": {
             "colorbar": {
              "outlinewidth": 0,
              "ticks": ""
             }
            },
            "type": "scatterpolargl"
           }
          ],
          "scatterternary": [
           {
            "marker": {
             "colorbar": {
              "outlinewidth": 0,
              "ticks": ""
             }
            },
            "type": "scatterternary"
           }
          ],
          "surface": [
           {
            "colorbar": {
             "outlinewidth": 0,
             "ticks": ""
            },
            "colorscale": [
             [
              0,
              "#0d0887"
             ],
             [
              0.1111111111111111,
              "#46039f"
             ],
             [
              0.2222222222222222,
              "#7201a8"
             ],
             [
              0.3333333333333333,
              "#9c179e"
             ],
             [
              0.4444444444444444,
              "#bd3786"
             ],
             [
              0.5555555555555556,
              "#d8576b"
             ],
             [
              0.6666666666666666,
              "#ed7953"
             ],
             [
              0.7777777777777778,
              "#fb9f3a"
             ],
             [
              0.8888888888888888,
              "#fdca26"
             ],
             [
              1,
              "#f0f921"
             ]
            ],
            "type": "surface"
           }
          ],
          "table": [
           {
            "cells": {
             "fill": {
              "color": "#EBF0F8"
             },
             "line": {
              "color": "white"
             }
            },
            "header": {
             "fill": {
              "color": "#C8D4E3"
             },
             "line": {
              "color": "white"
             }
            },
            "type": "table"
           }
          ]
         },
         "layout": {
          "annotationdefaults": {
           "arrowcolor": "#2a3f5f",
           "arrowhead": 0,
           "arrowwidth": 1
          },
          "autotypenumbers": "strict",
          "coloraxis": {
           "colorbar": {
            "outlinewidth": 0,
            "ticks": ""
           }
          },
          "colorscale": {
           "diverging": [
            [
             0,
             "#8e0152"
            ],
            [
             0.1,
             "#c51b7d"
            ],
            [
             0.2,
             "#de77ae"
            ],
            [
             0.3,
             "#f1b6da"
            ],
            [
             0.4,
             "#fde0ef"
            ],
            [
             0.5,
             "#f7f7f7"
            ],
            [
             0.6,
             "#e6f5d0"
            ],
            [
             0.7,
             "#b8e186"
            ],
            [
             0.8,
             "#7fbc41"
            ],
            [
             0.9,
             "#4d9221"
            ],
            [
             1,
             "#276419"
            ]
           ],
           "sequential": [
            [
             0,
             "#0d0887"
            ],
            [
             0.1111111111111111,
             "#46039f"
            ],
            [
             0.2222222222222222,
             "#7201a8"
            ],
            [
             0.3333333333333333,
             "#9c179e"
            ],
            [
             0.4444444444444444,
             "#bd3786"
            ],
            [
             0.5555555555555556,
             "#d8576b"
            ],
            [
             0.6666666666666666,
             "#ed7953"
            ],
            [
             0.7777777777777778,
             "#fb9f3a"
            ],
            [
             0.8888888888888888,
             "#fdca26"
            ],
            [
             1,
             "#f0f921"
            ]
           ],
           "sequentialminus": [
            [
             0,
             "#0d0887"
            ],
            [
             0.1111111111111111,
             "#46039f"
            ],
            [
             0.2222222222222222,
             "#7201a8"
            ],
            [
             0.3333333333333333,
             "#9c179e"
            ],
            [
             0.4444444444444444,
             "#bd3786"
            ],
            [
             0.5555555555555556,
             "#d8576b"
            ],
            [
             0.6666666666666666,
             "#ed7953"
            ],
            [
             0.7777777777777778,
             "#fb9f3a"
            ],
            [
             0.8888888888888888,
             "#fdca26"
            ],
            [
             1,
             "#f0f921"
            ]
           ]
          },
          "colorway": [
           "#636efa",
           "#EF553B",
           "#00cc96",
           "#ab63fa",
           "#FFA15A",
           "#19d3f3",
           "#FF6692",
           "#B6E880",
           "#FF97FF",
           "#FECB52"
          ],
          "font": {
           "color": "#2a3f5f"
          },
          "geo": {
           "bgcolor": "white",
           "lakecolor": "white",
           "landcolor": "#E5ECF6",
           "showlakes": true,
           "showland": true,
           "subunitcolor": "white"
          },
          "hoverlabel": {
           "align": "left"
          },
          "hovermode": "closest",
          "mapbox": {
           "style": "light"
          },
          "paper_bgcolor": "white",
          "plot_bgcolor": "#E5ECF6",
          "polar": {
           "angularaxis": {
            "gridcolor": "white",
            "linecolor": "white",
            "ticks": ""
           },
           "bgcolor": "#E5ECF6",
           "radialaxis": {
            "gridcolor": "white",
            "linecolor": "white",
            "ticks": ""
           }
          },
          "scene": {
           "xaxis": {
            "backgroundcolor": "#E5ECF6",
            "gridcolor": "white",
            "gridwidth": 2,
            "linecolor": "white",
            "showbackground": true,
            "ticks": "",
            "zerolinecolor": "white"
           },
           "yaxis": {
            "backgroundcolor": "#E5ECF6",
            "gridcolor": "white",
            "gridwidth": 2,
            "linecolor": "white",
            "showbackground": true,
            "ticks": "",
            "zerolinecolor": "white"
           },
           "zaxis": {
            "backgroundcolor": "#E5ECF6",
            "gridcolor": "white",
            "gridwidth": 2,
            "linecolor": "white",
            "showbackground": true,
            "ticks": "",
            "zerolinecolor": "white"
           }
          },
          "shapedefaults": {
           "line": {
            "color": "#2a3f5f"
           }
          },
          "ternary": {
           "aaxis": {
            "gridcolor": "white",
            "linecolor": "white",
            "ticks": ""
           },
           "baxis": {
            "gridcolor": "white",
            "linecolor": "white",
            "ticks": ""
           },
           "bgcolor": "#E5ECF6",
           "caxis": {
            "gridcolor": "white",
            "linecolor": "white",
            "ticks": ""
           }
          },
          "title": {
           "x": 0.05
          },
          "xaxis": {
           "automargin": true,
           "gridcolor": "white",
           "linecolor": "white",
           "ticks": "",
           "title": {
            "standoff": 15
           },
           "zerolinecolor": "white",
           "zerolinewidth": 2
          },
          "yaxis": {
           "automargin": true,
           "gridcolor": "white",
           "linecolor": "white",
           "ticks": "",
           "title": {
            "standoff": 15
           },
           "zerolinecolor": "white",
           "zerolinewidth": 2
          }
         }
        }
       }
      },
      "image/png": "[encoded data removed]"
     },
     "metadata": {},
     "output_type": "display_data"
    },
    {
     "data": {
      "application/vnd.plotly.v1+json": {
       "config": {
        "plotlyServerURL": "https://plot.ly"
       },
       "data": [
        {
         "line": {
          "color": "royalblue"
         },
         "mode": "markers",
         "name": "observed",
         "type": "scatter",
         "x": {
          "bdata": "AAAAAACAM0DNzMzMzMwmQAAAAAAAAC5AAAAAAAAALUAAAAAAAAAwQJqZmZmZmS5AMzMzMzMzM0CamZmZmZkpQAAAAAAAACdAMzMzMzMzLkAAAAAAAAAuQAAAAAAAACdAmpmZmZkZNkAAAAAAAAAwQJqZmZmZmStAZmZmZmZmKkCamZmZmZkvQJqZmZmZmTJAZmZmZmZmMEAAAAAAAIA3QAAAAAAAACpAmpmZmZmZMUAAAAAAAAAjQM3MzMzMzC1AAAAAAAAAL0AAAAAAAAArQAAAAAAAACtAAAAAAAAALUAAAAAAAAA1QM3MzMzMzCxAAAAAAAAAKkAAAAAAAAAvQAAAAAAAADBAAAAAAAAAMEAAAAAAAAAkQGZmZmZmZjNAAAAAAACAMEAAAAAAAAAtQAAAAAAAACtAZmZmZmZmLkCamZmZmZkvQAAAAAAAAC9AAAAAAACAMUAAAAAAAAAtQAAAAAAAAC1AAAAAAAAALUAAAAAAAAAxQGZmZmZmZjNAAAAAAAAAL0AAAAAAAIAwQGZmZmZmZjBAZmZmZmZmJkCamZmZmRkyQJqZmZmZmS5AzczMzMzMMUDNzMzMzMwqQAAAAAAAgDNAAAAAAACAMUAAAAAAAAAxQDMzMzMzMzJAAAAAAAAAMUAAAAAAAAAuQGZmZmZmZjFAAAAAAAAALEBmZmZmZmYtQAAAAAAAADFAZmZmZmZmL0AAAAAAAAArQGZmZmZm5jBAAAAAAAAAKkAAAAAAAAAwQAAAAAAAADFAAAAAAAAAKUAAAAAAAAAqQAAAAAAAAChAzczMzMxMMkAzMzMzMzMrQGZmZmZmZi1AAAAAAAAAK0A=",
          "dtype": "f8"
         },
         "y": {
          "bdata": "AAAAAAAAPUAAAAAAAAAvQAAAAAAAADNAAAAAAAAAQkAAAAAAAAA1QAAAAAAAADtAzczMzMzMP0AzMzMzMzM0QAAAAAAAAChAmpmZmZkZMkAAAAAAAAAkQAAAAAAAAChAAAAAAACAOEDNzMzMzAxBQDMzMzMzMzhAAAAAAAAAKkAAAAAAAIA5QDMzMzMzs0NAzczMzMwMQkAAAAAAAAA3QAAAAAAAACpAzczMzMzMN0AAAAAAAAAuQJqZmZmZWUFAAAAAAAAALEAAAAAAAAAyQAAAAAAAADNAAAAAAAAALEAAAAAAAAAuQM3MzMzMDEJAAAAAAACAMkAAAAAAAAA6QAAAAAAAADNAAAAAAAAAM0AAAAAAAAAsQGZmZmZmZkBAAAAAAAAAP0AAAAAAAAA7QAAAAAAAADlAmpmZmZkZQEBmZmZmZiZBQAAAAAAAADhAAAAAAAAAOUBmZmZmZuY+QAAAAAAAADJAAAAAAAAANkAAAAAAAAAwQAAAAAAAgEJAAAAAAAAAMkAAAAAAAAA0QAAAAAAAADlAmpmZmZkZMkBmZmZmZmY6QM3MzMzMzD1AAAAAAACAMUCamZmZmZkxQAAAAAAAAD5AAAAAAAAAOUAAAAAAAAAzQM3MzMzMzDNAAAAAAAAAOUAAAAAAAAA1QAAAAAAAADdAAAAAAAAAJkAAAAAAAABDQAAAAAAAAC5AmpmZmZmZNUAAAAAAAIA1QAAAAAAAgDRAAAAAAAAALEAAAAAAAAA0QAAAAAAAADdAAAAAAAAALkAAAAAAAABCQAAAAAAAACpAmpmZmZmZP0AAAAAAAIA6QAAAAAAAwERAAAAAAAAAKEA=",
          "dtype": "f8"
         }
        },
        {
         "line": {
          "color": "orange"
         },
         "mode": "markers",
         "name": "predicted",
         "type": "scatter",
         "x": {
          "bdata": "AAAAAACAM0DNzMzMzMwmQAAAAAAAAC5AAAAAAAAALUAAAAAAAAAwQJqZmZmZmS5AMzMzMzMzM0CamZmZmZkpQAAAAAAAACdAMzMzMzMzLkAAAAAAAAAuQAAAAAAAACdAmpmZmZkZNkAAAAAAAAAwQJqZmZmZmStAZmZmZmZmKkCamZmZmZkvQJqZmZmZmTJAZmZmZmZmMEAAAAAAAIA3QAAAAAAAACpAmpmZmZmZMUAAAAAAAAAjQM3MzMzMzC1AAAAAAAAAL0AAAAAAAAArQAAAAAAAACtAAAAAAAAALUAAAAAAAAA1QM3MzMzMzCxAAAAAAAAAKkAAAAAAAAAvQAAAAAAAADBAAAAAAAAAMEAAAAAAAAAkQGZmZmZmZjNAAAAAAACAMEAAAAAAAAAtQAAAAAAAACtAZmZmZmZmLkCamZmZmZkvQAAAAAAAAC9AAAAAAACAMUAAAAAAAAAtQAAAAAAAAC1AAAAAAAAALUAAAAAAAAAxQGZmZmZmZjNAAAAAAAAAL0AAAAAAAIAwQGZmZmZmZjBAZmZmZmZmJkCamZmZmRkyQJqZmZmZmS5AzczMzMzMMUDNzMzMzMwqQAAAAAAAgDNAAAAAAACAMUAAAAAAAAAxQDMzMzMzMzJAAAAAAAAAMUAAAAAAAAAuQGZmZmZmZjFAAAAAAAAALEBmZmZmZmYtQAAAAAAAADFAZmZmZmZmL0AAAAAAAAArQGZmZmZm5jBAAAAAAAAAKkAAAAAAAAAwQAAAAAAAADFAAAAAAAAAKUAAAAAAAAAqQAAAAAAAAChAzczMzMxMMkAzMzMzMzMrQGZmZmZmZi1AAAAAAAAAK0A=",
          "dtype": "f8"
         },
         "y": {
          "bdata": "QDVeuknMO0AAAAAAAIAtQDMzMzMzczJAMQisHFokQEC4HoXrUTg1QC7dJAaBlTtAppvEILCSQEBOYhBYObQvQFyPwvUo3CtAj8L1KFyPM0Bcj8L1KNwrQFyPwvUo3CtAE4PAyqEFPECPwvUoXI9AQEA1XrpJzDxAf2q8dJMYLkB46SYxCKw6QCPb+X5qPEBAObTIdr4/QEBI4XoUroc8QGZmZmZmZixAI9v5fmo8OkB7FK5H4XosQIXrUbgexT1AgGq8dJMYLkAtsp3vp0YyQEA1XrpJDDpAZDvfT40XLkCq8dJNYhA0QIXrUbgexT1AH4XrUbieLkDSTWIQWLk7QBFYObTItjNAy6FFtvM9M0CkcD0K1yMsQDMzMzMzk0BAGy/dJAYBPUB2vp8aL106QCqHFtnOtzlAmpmZmZlZQEAqXI/C9UhAQOj7qfHSDTtAPQrXo3C9OEAAAAAAAEA9QEFg5dAimzhACKwcWmR7OUAnMQisHJoyQBBYObTI1kBAFK5H4XpUM0A4iUFg5dAzQLgehetR+DdACKwcWmR7MEAW2c73UyM7QCuHFtnOt0BAPQrXo3B9M0AnMQisHJowQKwcWmQ73zpAhetRuB4FOUB9PzVeukkzQIYW2c73EzZA6SYxCKzcOEDy0k1iEJgzQDEIrBxaZDFAYOXQItt5LECuR+F6FK49QMuhRbbz/TJArkfhehRuOkB0kxgEVg48QGiR7Xw/dTNACtejcD2KLEB7FK5H4bozQEFg5dAiGzlAlkOLbOd7LUCTGARWDi09QD0K16NwvStAGi/dJAZhQEBsvHSTGEQ7QLTIdr6fWj9AUrgehetRLEA=",
          "dtype": "f8"
         }
        }
       ],
       "layout": {
        "template": {
         "data": {
          "bar": [
           {
            "error_x": {
             "color": "#2a3f5f"
            },
            "error_y": {
             "color": "#2a3f5f"
            },
            "marker": {
             "line": {
              "color": "#E5ECF6",
              "width": 0.5
             },
             "pattern": {
              "fillmode": "overlay",
              "size": 10,
              "solidity": 0.2
             }
            },
            "type": "bar"
           }
          ],
          "barpolar": [
           {
            "marker": {
             "line": {
              "color": "#E5ECF6",
              "width": 0.5
             },
             "pattern": {
              "fillmode": "overlay",
              "size": 10,
              "solidity": 0.2
             }
            },
            "type": "barpolar"
           }
          ],
          "carpet": [
           {
            "aaxis": {
             "endlinecolor": "#2a3f5f",
             "gridcolor": "white",
             "linecolor": "white",
             "minorgridcolor": "white",
             "startlinecolor": "#2a3f5f"
            },
            "baxis": {
             "endlinecolor": "#2a3f5f",
             "gridcolor": "white",
             "linecolor": "white",
             "minorgridcolor": "white",
             "startlinecolor": "#2a3f5f"
            },
            "type": "carpet"
           }
          ],
          "choropleth": [
           {
            "colorbar": {
             "outlinewidth": 0,
             "ticks": ""
            },
            "type": "choropleth"
           }
          ],
          "contour": [
           {
            "colorbar": {
             "outlinewidth": 0,
             "ticks": ""
            },
            "colorscale": [
             [
              0,
              "#0d0887"
             ],
             [
              0.1111111111111111,
              "#46039f"
             ],
             [
              0.2222222222222222,
              "#7201a8"
             ],
             [
              0.3333333333333333,
              "#9c179e"
             ],
             [
              0.4444444444444444,
              "#bd3786"
             ],
             [
              0.5555555555555556,
              "#d8576b"
             ],
             [
              0.6666666666666666,
              "#ed7953"
             ],
             [
              0.7777777777777778,
              "#fb9f3a"
             ],
             [
              0.8888888888888888,
              "#fdca26"
             ],
             [
              1,
              "#f0f921"
             ]
            ],
            "type": "contour"
           }
          ],
          "contourcarpet": [
           {
            "colorbar": {
             "outlinewidth": 0,
             "ticks": ""
            },
            "type": "contourcarpet"
           }
          ],
          "heatmap": [
           {
            "colorbar": {
             "outlinewidth": 0,
             "ticks": ""
            },
            "colorscale": [
             [
              0,
              "#0d0887"
             ],
             [
              0.1111111111111111,
              "#46039f"
             ],
             [
              0.2222222222222222,
              "#7201a8"
             ],
             [
              0.3333333333333333,
              "#9c179e"
             ],
             [
              0.4444444444444444,
              "#bd3786"
             ],
             [
              0.5555555555555556,
              "#d8576b"
             ],
             [
              0.6666666666666666,
              "#ed7953"
             ],
             [
              0.7777777777777778,
              "#fb9f3a"
             ],
             [
              0.8888888888888888,
              "#fdca26"
             ],
             [
              1,
              "#f0f921"
             ]
            ],
            "type": "heatmap"
           }
          ],
          "histogram": [
           {
            "marker": {
             "pattern": {
              "fillmode": "overlay",
              "size": 10,
              "solidity": 0.2
             }
            },
            "type": "histogram"
           }
          ],
          "histogram2d": [
           {
            "colorbar": {
             "outlinewidth": 0,
             "ticks": ""
            },
            "colorscale": [
             [
              0,
              "#0d0887"
             ],
             [
              0.1111111111111111,
              "#46039f"
             ],
             [
              0.2222222222222222,
              "#7201a8"
             ],
             [
              0.3333333333333333,
              "#9c179e"
             ],
             [
              0.4444444444444444,
              "#bd3786"
             ],
             [
              0.5555555555555556,
              "#d8576b"
             ],
             [
              0.6666666666666666,
              "#ed7953"
             ],
             [
              0.7777777777777778,
              "#fb9f3a"
             ],
             [
              0.8888888888888888,
              "#fdca26"
             ],
             [
              1,
              "#f0f921"
             ]
            ],
            "type": "histogram2d"
           }
          ],
          "histogram2dcontour": [
           {
            "colorbar": {
             "outlinewidth": 0,
             "ticks": ""
            },
            "colorscale": [
             [
              0,
              "#0d0887"
             ],
             [
              0.1111111111111111,
              "#46039f"
             ],
             [
              0.2222222222222222,
              "#7201a8"
             ],
             [
              0.3333333333333333,
              "#9c179e"
             ],
             [
              0.4444444444444444,
              "#bd3786"
             ],
             [
              0.5555555555555556,
              "#d8576b"
             ],
             [
              0.6666666666666666,
              "#ed7953"
             ],
             [
              0.7777777777777778,
              "#fb9f3a"
             ],
             [
              0.8888888888888888,
              "#fdca26"
             ],
             [
              1,
              "#f0f921"
             ]
            ],
            "type": "histogram2dcontour"
           }
          ],
          "mesh3d": [
           {
            "colorbar": {
             "outlinewidth": 0,
             "ticks": ""
            },
            "type": "mesh3d"
           }
          ],
          "parcoords": [
           {
            "line": {
             "colorbar": {
              "outlinewidth": 0,
              "ticks": ""
             }
            },
            "type": "parcoords"
           }
          ],
          "pie": [
           {
            "automargin": true,
            "type": "pie"
           }
          ],
          "scatter": [
           {
            "fillpattern": {
             "fillmode": "overlay",
             "size": 10,
             "solidity": 0.2
            },
            "type": "scatter"
           }
          ],
          "scatter3d": [
           {
            "line": {
             "colorbar": {
              "outlinewidth": 0,
              "ticks": ""
             }
            },
            "marker": {
             "colorbar": {
              "outlinewidth": 0,
              "ticks": ""
             }
            },
            "type": "scatter3d"
           }
          ],
          "scattercarpet": [
           {
            "marker": {
             "colorbar": {
              "outlinewidth": 0,
              "ticks": ""
             }
            },
            "type": "scattercarpet"
           }
          ],
          "scattergeo": [
           {
            "marker": {
             "colorbar": {
              "outlinewidth": 0,
              "ticks": ""
             }
            },
            "type": "scattergeo"
           }
          ],
          "scattergl": [
           {
            "marker": {
             "colorbar": {
              "outlinewidth": 0,
              "ticks": ""
             }
            },
            "type": "scattergl"
           }
          ],
          "scattermap": [
           {
            "marker": {
             "colorbar": {
              "outlinewidth": 0,
              "ticks": ""
             }
            },
            "type": "scattermap"
           }
          ],
          "scattermapbox": [
           {
            "marker": {
             "colorbar": {
              "outlinewidth": 0,
              "ticks": ""
             }
            },
            "type": "scattermapbox"
           }
          ],
          "scatterpolar": [
           {
            "marker": {
             "colorbar": {
              "outlinewidth": 0,
              "ticks": ""
             }
            },
            "type": "scatterpolar"
           }
          ],
          "scatterpolargl": [
           {
            "marker": {
             "colorbar": {
              "outlinewidth": 0,
              "ticks": ""
             }
            },
            "type": "scatterpolargl"
           }
          ],
          "scatterternary": [
           {
            "marker": {
             "colorbar": {
              "outlinewidth": 0,
              "ticks": ""
             }
            },
            "type": "scatterternary"
           }
          ],
          "surface": [
           {
            "colorbar": {
             "outlinewidth": 0,
             "ticks": ""
            },
            "colorscale": [
             [
              0,
              "#0d0887"
             ],
             [
              0.1111111111111111,
              "#46039f"
             ],
             [
              0.2222222222222222,
              "#7201a8"
             ],
             [
              0.3333333333333333,
              "#9c179e"
             ],
             [
              0.4444444444444444,
              "#bd3786"
             ],
             [
              0.5555555555555556,
              "#d8576b"
             ],
             [
              0.6666666666666666,
              "#ed7953"
             ],
             [
              0.7777777777777778,
              "#fb9f3a"
             ],
             [
              0.8888888888888888,
              "#fdca26"
             ],
             [
              1,
              "#f0f921"
             ]
            ],
            "type": "surface"
           }
          ],
          "table": [
           {
            "cells": {
             "fill": {
              "color": "#EBF0F8"
             },
             "line": {
              "color": "white"
             }
            },
            "header": {
             "fill": {
              "color": "#C8D4E3"
             },
             "line": {
              "color": "white"
             }
            },
            "type": "table"
           }
          ]
         },
         "layout": {
          "annotationdefaults": {
           "arrowcolor": "#2a3f5f",
           "arrowhead": 0,
           "arrowwidth": 1
          },
          "autotypenumbers": "strict",
          "coloraxis": {
           "colorbar": {
            "outlinewidth": 0,
            "ticks": ""
           }
          },
          "colorscale": {
           "diverging": [
            [
             0,
             "#8e0152"
            ],
            [
             0.1,
             "#c51b7d"
            ],
            [
             0.2,
             "#de77ae"
            ],
            [
             0.3,
             "#f1b6da"
            ],
            [
             0.4,
             "#fde0ef"
            ],
            [
             0.5,
             "#f7f7f7"
            ],
            [
             0.6,
             "#e6f5d0"
            ],
            [
             0.7,
             "#b8e186"
            ],
            [
             0.8,
             "#7fbc41"
            ],
            [
             0.9,
             "#4d9221"
            ],
            [
             1,
             "#276419"
            ]
           ],
           "sequential": [
            [
             0,
             "#0d0887"
            ],
            [
             0.1111111111111111,
             "#46039f"
            ],
            [
             0.2222222222222222,
             "#7201a8"
            ],
            [
             0.3333333333333333,
             "#9c179e"
            ],
            [
             0.4444444444444444,
             "#bd3786"
            ],
            [
             0.5555555555555556,
             "#d8576b"
            ],
            [
             0.6666666666666666,
             "#ed7953"
            ],
            [
             0.7777777777777778,
             "#fb9f3a"
            ],
            [
             0.8888888888888888,
             "#fdca26"
            ],
            [
             1,
             "#f0f921"
            ]
           ],
           "sequentialminus": [
            [
             0,
             "#0d0887"
            ],
            [
             0.1111111111111111,
             "#46039f"
            ],
            [
             0.2222222222222222,
             "#7201a8"
            ],
            [
             0.3333333333333333,
             "#9c179e"
            ],
            [
             0.4444444444444444,
             "#bd3786"
            ],
            [
             0.5555555555555556,
             "#d8576b"
            ],
            [
             0.6666666666666666,
             "#ed7953"
            ],
            [
             0.7777777777777778,
             "#fb9f3a"
            ],
            [
             0.8888888888888888,
             "#fdca26"
            ],
            [
             1,
             "#f0f921"
            ]
           ]
          },
          "colorway": [
           "#636efa",
           "#EF553B",
           "#00cc96",
           "#ab63fa",
           "#FFA15A",
           "#19d3f3",
           "#FF6692",
           "#B6E880",
           "#FF97FF",
           "#FECB52"
          ],
          "font": {
           "color": "#2a3f5f"
          },
          "geo": {
           "bgcolor": "white",
           "lakecolor": "white",
           "landcolor": "#E5ECF6",
           "showlakes": true,
           "showland": true,
           "subunitcolor": "white"
          },
          "hoverlabel": {
           "align": "left"
          },
          "hovermode": "closest",
          "mapbox": {
           "style": "light"
          },
          "paper_bgcolor": "white",
          "plot_bgcolor": "#E5ECF6",
          "polar": {
           "angularaxis": {
            "gridcolor": "white",
            "linecolor": "white",
            "ticks": ""
           },
           "bgcolor": "#E5ECF6",
           "radialaxis": {
            "gridcolor": "white",
            "linecolor": "white",
            "ticks": ""
           }
          },
          "scene": {
           "xaxis": {
            "backgroundcolor": "#E5ECF6",
            "gridcolor": "white",
            "gridwidth": 2,
            "linecolor": "white",
            "showbackground": true,
            "ticks": "",
            "zerolinecolor": "white"
           },
           "yaxis": {
            "backgroundcolor": "#E5ECF6",
            "gridcolor": "white",
            "gridwidth": 2,
            "linecolor": "white",
            "showbackground": true,
            "ticks": "",
            "zerolinecolor": "white"
           },
           "zaxis": {
            "backgroundcolor": "#E5ECF6",
            "gridcolor": "white",
            "gridwidth": 2,
            "linecolor": "white",
            "showbackground": true,
            "ticks": "",
            "zerolinecolor": "white"
           }
          },
          "shapedefaults": {
           "line": {
            "color": "#2a3f5f"
           }
          },
          "ternary": {
           "aaxis": {
            "gridcolor": "white",
            "linecolor": "white",
            "ticks": ""
           },
           "baxis": {
            "gridcolor": "white",
            "linecolor": "white",
            "ticks": ""
           },
           "bgcolor": "#E5ECF6",
           "caxis": {
            "gridcolor": "white",
            "linecolor": "white",
            "ticks": ""
           }
          },
          "title": {
           "x": 0.05
          },
          "xaxis": {
           "automargin": true,
           "gridcolor": "white",
           "linecolor": "white",
           "ticks": "",
           "title": {
            "standoff": 15
           },
           "zerolinecolor": "white",
           "zerolinewidth": 2
          },
          "yaxis": {
           "automargin": true,
           "gridcolor": "white",
           "linecolor": "white",
           "ticks": "",
           "title": {
            "standoff": 15
           },
           "zerolinecolor": "white",
           "zerolinewidth": 2
          }
         }
        }
       }
      },
      "image/png": "[encoded data removed]"
     },
     "metadata": {},
     "output_type": "display_data"
    },
    {
     "data": {
      "application/vnd.plotly.v1+json": {
       "config": {
        "plotlyServerURL": "https://plot.ly"
       },
       "data": [
        {
         "line": {
          "color": "royalblue"
         },
         "mode": "markers",
         "name": "observed",
         "type": "scatter",
         "x": {
          "bdata": "AAAAAACAM0DNzMzMzMwmQAAAAAAAAC5AAAAAAAAALUAAAAAAAAAwQJqZmZmZmS5AMzMzMzMzM0CamZmZmZkpQAAAAAAAACdAMzMzMzMzLkAAAAAAAAAuQAAAAAAAACdAmpmZmZkZNkAAAAAAAAAwQJqZmZmZmStAZmZmZmZmKkCamZmZmZkvQJqZmZmZmTJAZmZmZmZmMEAAAAAAAIA3QAAAAAAAACpAmpmZmZmZMUAAAAAAAAAjQM3MzMzMzC1AAAAAAAAAL0AAAAAAAAArQAAAAAAAACtAAAAAAAAALUAAAAAAAAA1QM3MzMzMzCxAAAAAAAAAKkAAAAAAAAAvQAAAAAAAADBAAAAAAAAAMEAAAAAAAAAkQGZmZmZmZjNAAAAAAACAMEAAAAAAAAAtQAAAAAAAACtAZmZmZmZmLkCamZmZmZkvQAAAAAAAAC9AAAAAAACAMUAAAAAAAAAtQAAAAAAAAC1AAAAAAAAALUAAAAAAAAAxQGZmZmZmZjNAAAAAAAAAL0AAAAAAAIAwQGZmZmZmZjBAZmZmZmZmJkCamZmZmRkyQJqZmZmZmS5AzczMzMzMMUDNzMzMzMwqQAAAAAAAgDNAAAAAAACAMUAAAAAAAAAxQDMzMzMzMzJAAAAAAAAAMUAAAAAAAAAuQGZmZmZmZjFAAAAAAAAALEBmZmZmZmYtQAAAAAAAADFAZmZmZmZmL0AAAAAAAAArQGZmZmZm5jBAAAAAAAAAKkAAAAAAAAAwQAAAAAAAADFAAAAAAAAAKUAAAAAAAAAqQAAAAAAAAChAzczMzMxMMkAzMzMzMzMrQGZmZmZmZi1AAAAAAAAAK0A=",
          "dtype": "f8"
         },
         "y": {
          "bdata": "AAAAAAAAPUAAAAAAAAAvQAAAAAAAADNAAAAAAAAAQkAAAAAAAAA1QAAAAAAAADtAzczMzMzMP0AzMzMzMzM0QAAAAAAAAChAmpmZmZkZMkAAAAAAAAAkQAAAAAAAAChAAAAAAACAOEDNzMzMzAxBQDMzMzMzMzhAAAAAAAAAKkAAAAAAAIA5QDMzMzMzs0NAzczMzMwMQkAAAAAAAAA3QAAAAAAAACpAzczMzMzMN0AAAAAAAAAuQJqZmZmZWUFAAAAAAAAALEAAAAAAAAAyQAAAAAAAADNAAAAAAAAALEAAAAAAAAAuQM3MzMzMDEJAAAAAAACAMkAAAAAAAAA6QAAAAAAAADNAAAAAAAAAM0AAAAAAAAAsQGZmZmZmZkBAAAAAAAAAP0AAAAAAAAA7QAAAAAAAADlAmpmZmZkZQEBmZmZmZiZBQAAAAAAAADhAAAAAAAAAOUBmZmZmZuY+QAAAAAAAADJAAAAAAAAANkAAAAAAAAAwQAAAAAAAgEJAAAAAAAAAMkAAAAAAAAA0QAAAAAAAADlAmpmZmZkZMkBmZmZmZmY6QM3MzMzMzD1AAAAAAACAMUCamZmZmZkxQAAAAAAAAD5AAAAAAAAAOUAAAAAAAAAzQM3MzMzMzDNAAAAAAAAAOUAAAAAAAAA1QAAAAAAAADdAAAAAAAAAJkAAAAAAAABDQAAAAAAAAC5AmpmZmZmZNUAAAAAAAIA1QAAAAAAAgDRAAAAAAAAALEAAAAAAAAA0QAAAAAAAADdAAAAAAAAALkAAAAAAAABCQAAAAAAAACpAmpmZmZmZP0AAAAAAAIA6QAAAAAAAwERAAAAAAAAAKEA=",
          "dtype": "f8"
         }
        },
        {
         "line": {
          "color": "orange"
         },
         "mode": "markers",
         "name": "predicted",
         "type": "scatter",
         "x": {
          "bdata": "AAAAAACAM0DNzMzMzMwmQAAAAAAAAC5AAAAAAAAALUAAAAAAAAAwQJqZmZmZmS5AMzMzMzMzM0CamZmZmZkpQAAAAAAAACdAMzMzMzMzLkAAAAAAAAAuQAAAAAAAACdAmpmZmZkZNkAAAAAAAAAwQJqZmZmZmStAZmZmZmZmKkCamZmZmZkvQJqZmZmZmTJAZmZmZmZmMEAAAAAAAIA3QAAAAAAAACpAmpmZmZmZMUAAAAAAAAAjQM3MzMzMzC1AAAAAAAAAL0AAAAAAAAArQAAAAAAAACtAAAAAAAAALUAAAAAAAAA1QM3MzMzMzCxAAAAAAAAAKkAAAAAAAAAvQAAAAAAAADBAAAAAAAAAMEAAAAAAAAAkQGZmZmZmZjNAAAAAAACAMEAAAAAAAAAtQAAAAAAAACtAZmZmZmZmLkCamZmZmZkvQAAAAAAAAC9AAAAAAACAMUAAAAAAAAAtQAAAAAAAAC1AAAAAAAAALUAAAAAAAAAxQGZmZmZmZjNAAAAAAAAAL0AAAAAAAIAwQGZmZmZmZjBAZmZmZmZmJkCamZmZmRkyQJqZmZmZmS5AzczMzMzMMUDNzMzMzMwqQAAAAAAAgDNAAAAAAACAMUAAAAAAAAAxQDMzMzMzMzJAAAAAAAAAMUAAAAAAAAAuQGZmZmZmZjFAAAAAAAAALEBmZmZmZmYtQAAAAAAAADFAZmZmZmZmL0AAAAAAAAArQGZmZmZm5jBAAAAAAAAAKkAAAAAAAAAwQAAAAAAAADFAAAAAAAAAKUAAAAAAAAAqQAAAAAAAAChAzczMzMxMMkAzMzMzMzMrQGZmZmZmZi1AAAAAAAAAK0A=",
          "dtype": "f8"
         },
         "y": {
          "bdata": "AAAAAACAPECS7Xw/NZ4vQNejcD0K9zJA4HoUrkdBPkAAAAAAACA2QD0K16Nw/TtA0SLb+X6KPkAtsp3vp8YwQGQ730+N1y5AsXJoke3cM0AfhetRuJ4uQLgehetRuC5AuB6F61FYO0CR7Xw/NZ4+QIkW2c73UzxAZDvfT43XL0DTTWIQWNk5QOkmMQisHD5AQWDl0CL7PUCbxCCwcqg7QDvfT42X7i5AnO+nxkuXOUAfhetRuB4vQBOuR+F6VDxAdpMYBFbOL0D8qfHSTeIyQIXrUbgeJTxAJjEIrBzaL0D8qfHSTSI2QBKDwMqhhTtAFtnO91OjMEAfhetRuF47QPLSTWIQODVAgZVDi2zHNED6fmq8dFMvQKnx0k1ikD5AZDvfT413PUDsUbgehas7QNJNYhBYGTpARbbz/dS4PUD4U+Olm6Q+QB2F61G4HjtAAyuHFtnuOEBYObTIdt46QHaTGARW7jdAzfdT46X7OUDJdr6fGs8yQEW28/3UGD9AAAAAAABAM0CJQWDl0GI1QITAyqFFljhABoGVQ4usMEBoke18P1U6QOF6FK5HwT5A6iYxCKwcNUDLoUW28z0xQPp+arx0MztA9ihcj8L1OEDc+X5qvDQ1QOxRuB6FyzdAiUFg5dAiOUBPjZduEoM0QGDl0CLbWTFAWmQ730/NLkCq8dJNYhA9QOSlm8Qg0DNAGy/dJAYhO0C9dJMYBNY8QAisHFpk2zRAKVyPwvXoLkBuEoPAykE1QLTIdr6fGjlAJjEIrBxaL0CKbOf7qZE7QPYoXI/CtS5AEVg5tMh2PkAGgZVDiww6QFPjpZvEYD5AexSuR+G6LkA=",
          "dtype": "f8"
         }
        }
       ],
       "layout": {
        "template": {
         "data": {
          "bar": [
           {
            "error_x": {
             "color": "#2a3f5f"
            },
            "error_y": {
             "color": "#2a3f5f"
            },
            "marker": {
             "line": {
              "color": "#E5ECF6",
              "width": 0.5
             },
             "pattern": {
              "fillmode": "overlay",
              "size": 10,
              "solidity": 0.2
             }
            },
            "type": "bar"
           }
          ],
          "barpolar": [
           {
            "marker": {
             "line": {
              "color": "#E5ECF6",
              "width": 0.5
             },
             "pattern": {
              "fillmode": "overlay",
              "size": 10,
              "solidity": 0.2
             }
            },
            "type": "barpolar"
           }
          ],
          "carpet": [
           {
            "aaxis": {
             "endlinecolor": "#2a3f5f",
             "gridcolor": "white",
             "linecolor": "white",
             "minorgridcolor": "white",
             "startlinecolor": "#2a3f5f"
            },
            "baxis": {
             "endlinecolor": "#2a3f5f",
             "gridcolor": "white",
             "linecolor": "white",
             "minorgridcolor": "white",
             "startlinecolor": "#2a3f5f"
            },
            "type": "carpet"
           }
          ],
          "choropleth": [
           {
            "colorbar": {
             "outlinewidth": 0,
             "ticks": ""
            },
            "type": "choropleth"
           }
          ],
          "contour": [
           {
            "colorbar": {
             "outlinewidth": 0,
             "ticks": ""
            },
            "colorscale": [
             [
              0,
              "#0d0887"
             ],
             [
              0.1111111111111111,
              "#46039f"
             ],
             [
              0.2222222222222222,
              "#7201a8"
             ],
             [
              0.3333333333333333,
              "#9c179e"
             ],
             [
              0.4444444444444444,
              "#bd3786"
             ],
             [
              0.5555555555555556,
              "#d8576b"
             ],
             [
              0.6666666666666666,
              "#ed7953"
             ],
             [
              0.7777777777777778,
              "#fb9f3a"
             ],
             [
              0.8888888888888888,
              "#fdca26"
             ],
             [
              1,
              "#f0f921"
             ]
            ],
            "type": "contour"
           }
          ],
          "contourcarpet": [
           {
            "colorbar": {
             "outlinewidth": 0,
             "ticks": ""
            },
            "type": "contourcarpet"
           }
          ],
          "heatmap": [
           {
            "colorbar": {
             "outlinewidth": 0,
             "ticks": ""
            },
            "colorscale": [
             [
              0,
              "#0d0887"
             ],
             [
              0.1111111111111111,
              "#46039f"
             ],
             [
              0.2222222222222222,
              "#7201a8"
             ],
             [
              0.3333333333333333,
              "#9c179e"
             ],
             [
              0.4444444444444444,
              "#bd3786"
             ],
             [
              0.5555555555555556,
              "#d8576b"
             ],
             [
              0.6666666666666666,
              "#ed7953"
             ],
             [
              0.7777777777777778,
              "#fb9f3a"
             ],
             [
              0.8888888888888888,
              "#fdca26"
             ],
             [
              1,
              "#f0f921"
             ]
            ],
            "type": "heatmap"
           }
          ],
          "histogram": [
           {
            "marker": {
             "pattern": {
              "fillmode": "overlay",
              "size": 10,
              "solidity": 0.2
             }
            },
            "type": "histogram"
           }
          ],
          "histogram2d": [
           {
            "colorbar": {
             "outlinewidth": 0,
             "ticks": ""
            },
            "colorscale": [
             [
              0,
              "#0d0887"
             ],
             [
              0.1111111111111111,
              "#46039f"
             ],
             [
              0.2222222222222222,
              "#7201a8"
             ],
             [
              0.3333333333333333,
              "#9c179e"
             ],
             [
              0.4444444444444444,
              "#bd3786"
             ],
             [
              0.5555555555555556,
              "#d8576b"
             ],
             [
              0.6666666666666666,
              "#ed7953"
             ],
             [
              0.7777777777777778,
              "#fb9f3a"
             ],
             [
              0.8888888888888888,
              "#fdca26"
             ],
             [
              1,
              "#f0f921"
             ]
            ],
            "type": "histogram2d"
           }
          ],
          "histogram2dcontour": [
           {
            "colorbar": {
             "outlinewidth": 0,
             "ticks": ""
            },
            "colorscale": [
             [
              0,
              "#0d0887"
             ],
             [
              0.1111111111111111,
              "#46039f"
             ],
             [
              0.2222222222222222,
              "#7201a8"
             ],
             [
              0.3333333333333333,
              "#9c179e"
             ],
             [
              0.4444444444444444,
              "#bd3786"
             ],
             [
              0.5555555555555556,
              "#d8576b"
             ],
             [
              0.6666666666666666,
              "#ed7953"
             ],
             [
              0.7777777777777778,
              "#fb9f3a"
             ],
             [
              0.8888888888888888,
              "#fdca26"
             ],
             [
              1,
              "#f0f921"
             ]
            ],
            "type": "histogram2dcontour"
           }
          ],
          "mesh3d": [
           {
            "colorbar": {
             "outlinewidth": 0,
             "ticks": ""
            },
            "type": "mesh3d"
           }
          ],
          "parcoords": [
           {
            "line": {
             "colorbar": {
              "outlinewidth": 0,
              "ticks": ""
             }
            },
            "type": "parcoords"
           }
          ],
          "pie": [
           {
            "automargin": true,
            "type": "pie"
           }
          ],
          "scatter": [
           {
            "fillpattern": {
             "fillmode": "overlay",
             "size": 10,
             "solidity": 0.2
            },
            "type": "scatter"
           }
          ],
          "scatter3d": [
           {
            "line": {
             "colorbar": {
              "outlinewidth": 0,
              "ticks": ""
             }
            },
            "marker": {
             "colorbar": {
              "outlinewidth": 0,
              "ticks": ""
             }
            },
            "type": "scatter3d"
           }
          ],
          "scattercarpet": [
           {
            "marker": {
             "colorbar": {
              "outlinewidth": 0,
              "ticks": ""
             }
            },
            "type": "scattercarpet"
           }
          ],
          "scattergeo": [
           {
            "marker": {
             "colorbar": {
              "outlinewidth": 0,
              "ticks": ""
             }
            },
            "type": "scattergeo"
           }
          ],
          "scattergl": [
           {
            "marker": {
             "colorbar": {
              "outlinewidth": 0,
              "ticks": ""
             }
            },
            "type": "scattergl"
           }
          ],
          "scattermap": [
           {
            "marker": {
             "colorbar": {
              "outlinewidth": 0,
              "ticks": ""
             }
            },
            "type": "scattermap"
           }
          ],
          "scattermapbox": [
           {
            "marker": {
             "colorbar": {
              "outlinewidth": 0,
              "ticks": ""
             }
            },
            "type": "scattermapbox"
           }
          ],
          "scatterpolar": [
           {
            "marker": {
             "colorbar": {
              "outlinewidth": 0,
              "ticks": ""
             }
            },
            "type": "scatterpolar"
           }
          ],
          "scatterpolargl": [
           {
            "marker": {
             "colorbar": {
              "outlinewidth": 0,
              "ticks": ""
             }
            },
            "type": "scatterpolargl"
           }
          ],
          "scatterternary": [
           {
            "marker": {
             "colorbar": {
              "outlinewidth": 0,
              "ticks": ""
             }
            },
            "type": "scatterternary"
           }
          ],
          "surface": [
           {
            "colorbar": {
             "outlinewidth": 0,
             "ticks": ""
            },
            "colorscale": [
             [
              0,
              "#0d0887"
             ],
             [
              0.1111111111111111,
              "#46039f"
             ],
             [
              0.2222222222222222,
              "#7201a8"
             ],
             [
              0.3333333333333333,
              "#9c179e"
             ],
             [
              0.4444444444444444,
              "#bd3786"
             ],
             [
              0.5555555555555556,
              "#d8576b"
             ],
             [
              0.6666666666666666,
              "#ed7953"
             ],
             [
              0.7777777777777778,
              "#fb9f3a"
             ],
             [
              0.8888888888888888,
              "#fdca26"
             ],
             [
              1,
              "#f0f921"
             ]
            ],
            "type": "surface"
           }
          ],
          "table": [
           {
            "cells": {
             "fill": {
              "color": "#EBF0F8"
             },
             "line": {
              "color": "white"
             }
            },
            "header": {
             "fill": {
              "color": "#C8D4E3"
             },
             "line": {
              "color": "white"
             }
            },
            "type": "table"
           }
          ]
         },
         "layout": {
          "annotationdefaults": {
           "arrowcolor": "#2a3f5f",
           "arrowhead": 0,
           "arrowwidth": 1
          },
          "autotypenumbers": "strict",
          "coloraxis": {
           "colorbar": {
            "outlinewidth": 0,
            "ticks": ""
           }
          },
          "colorscale": {
           "diverging": [
            [
             0,
             "#8e0152"
            ],
            [
             0.1,
             "#c51b7d"
            ],
            [
             0.2,
             "#de77ae"
            ],
            [
             0.3,
             "#f1b6da"
            ],
            [
             0.4,
             "#fde0ef"
            ],
            [
             0.5,
             "#f7f7f7"
            ],
            [
             0.6,
             "#e6f5d0"
            ],
            [
             0.7,
             "#b8e186"
            ],
            [
             0.8,
             "#7fbc41"
            ],
            [
             0.9,
             "#4d9221"
            ],
            [
             1,
             "#276419"
            ]
           ],
           "sequential": [
            [
             0,
             "#0d0887"
            ],
            [
             0.1111111111111111,
             "#46039f"
            ],
            [
             0.2222222222222222,
             "#7201a8"
            ],
            [
             0.3333333333333333,
             "#9c179e"
            ],
            [
             0.4444444444444444,
             "#bd3786"
            ],
            [
             0.5555555555555556,
             "#d8576b"
            ],
            [
             0.6666666666666666,
             "#ed7953"
            ],
            [
             0.7777777777777778,
             "#fb9f3a"
            ],
            [
             0.8888888888888888,
             "#fdca26"
            ],
            [
             1,
             "#f0f921"
            ]
           ],
           "sequentialminus": [
            [
             0,
             "#0d0887"
            ],
            [
             0.1111111111111111,
             "#46039f"
            ],
            [
             0.2222222222222222,
             "#7201a8"
            ],
            [
             0.3333333333333333,
             "#9c179e"
            ],
            [
             0.4444444444444444,
             "#bd3786"
            ],
            [
             0.5555555555555556,
             "#d8576b"
            ],
            [
             0.6666666666666666,
             "#ed7953"
            ],
            [
             0.7777777777777778,
             "#fb9f3a"
            ],
            [
             0.8888888888888888,
             "#fdca26"
            ],
            [
             1,
             "#f0f921"
            ]
           ]
          },
          "colorway": [
           "#636efa",
           "#EF553B",
           "#00cc96",
           "#ab63fa",
           "#FFA15A",
           "#19d3f3",
           "#FF6692",
           "#B6E880",
           "#FF97FF",
           "#FECB52"
          ],
          "font": {
           "color": "#2a3f5f"
          },
          "geo": {
           "bgcolor": "white",
           "lakecolor": "white",
           "landcolor": "#E5ECF6",
           "showlakes": true,
           "showland": true,
           "subunitcolor": "white"
          },
          "hoverlabel": {
           "align": "left"
          },
          "hovermode": "closest",
          "mapbox": {
           "style": "light"
          },
          "paper_bgcolor": "white",
          "plot_bgcolor": "#E5ECF6",
          "polar": {
           "angularaxis": {
            "gridcolor": "white",
            "linecolor": "white",
            "ticks": ""
           },
           "bgcolor": "#E5ECF6",
           "radialaxis": {
            "gridcolor": "white",
            "linecolor": "white",
            "ticks": ""
           }
          },
          "scene": {
           "xaxis": {
            "backgroundcolor": "#E5ECF6",
            "gridcolor": "white",
            "gridwidth": 2,
            "linecolor": "white",
            "showbackground": true,
            "ticks": "",
            "zerolinecolor": "white"
           },
           "yaxis": {
            "backgroundcolor": "#E5ECF6",
            "gridcolor": "white",
            "gridwidth": 2,
            "linecolor": "white",
            "showbackground": true,
            "ticks": "",
            "zerolinecolor": "white"
           },
           "zaxis": {
            "backgroundcolor": "#E5ECF6",
            "gridcolor": "white",
            "gridwidth": 2,
            "linecolor": "white",
            "showbackground": true,
            "ticks": "",
            "zerolinecolor": "white"
           }
          },
          "shapedefaults": {
           "line": {
            "color": "#2a3f5f"
           }
          },
          "ternary": {
           "aaxis": {
            "gridcolor": "white",
            "linecolor": "white",
            "ticks": ""
           },
           "baxis": {
            "gridcolor": "white",
            "linecolor": "white",
            "ticks": ""
           },
           "bgcolor": "#E5ECF6",
           "caxis": {
            "gridcolor": "white",
            "linecolor": "white",
            "ticks": ""
           }
          },
          "title": {
           "x": 0.05
          },
          "xaxis": {
           "automargin": true,
           "gridcolor": "white",
           "linecolor": "white",
           "ticks": "",
           "title": {
            "standoff": 15
           },
           "zerolinecolor": "white",
           "zerolinewidth": 2
          },
          "yaxis": {
           "automargin": true,
           "gridcolor": "white",
           "linecolor": "white",
           "ticks": "",
           "title": {
            "standoff": 15
           },
           "zerolinecolor": "white",
           "zerolinewidth": 2
          }
         }
        }
       }
      },
      "image/png": "[encoded data removed]"
     },
     "metadata": {},
     "output_type": "display_data"
    },
    {
     "data": {
      "application/vnd.plotly.v1+json": {
       "config": {
        "plotlyServerURL": "https://plot.ly"
       },
       "data": [
        {
         "line": {
          "color": "royalblue"
         },
         "mode": "markers",
         "name": "observed",
         "type": "scatter",
         "x": {
          "bdata": "AAAAAACAM0DNzMzMzMwmQAAAAAAAAC5AAAAAAAAALUAAAAAAAAAwQJqZmZmZmS5AMzMzMzMzM0CamZmZmZkpQAAAAAAAACdAMzMzMzMzLkAAAAAAAAAuQAAAAAAAACdAmpmZmZkZNkAAAAAAAAAwQJqZmZmZmStAZmZmZmZmKkCamZmZmZkvQJqZmZmZmTJAZmZmZmZmMEAAAAAAAIA3QAAAAAAAACpAmpmZmZmZMUAAAAAAAAAjQM3MzMzMzC1AAAAAAAAAL0AAAAAAAAArQAAAAAAAACtAAAAAAAAALUAAAAAAAAA1QM3MzMzMzCxAAAAAAAAAKkAAAAAAAAAvQAAAAAAAADBAAAAAAAAAMEAAAAAAAAAkQGZmZmZmZjNAAAAAAACAMEAAAAAAAAAtQAAAAAAAACtAZmZmZmZmLkCamZmZmZkvQAAAAAAAAC9AAAAAAACAMUAAAAAAAAAtQAAAAAAAAC1AAAAAAAAALUAAAAAAAAAxQGZmZmZmZjNAAAAAAAAAL0AAAAAAAIAwQGZmZmZmZjBAZmZmZmZmJkCamZmZmRkyQJqZmZmZmS5AzczMzMzMMUDNzMzMzMwqQAAAAAAAgDNAAAAAAACAMUAAAAAAAAAxQDMzMzMzMzJAAAAAAAAAMUAAAAAAAAAuQGZmZmZmZjFAAAAAAAAALEBmZmZmZmYtQAAAAAAAADFAZmZmZmZmL0AAAAAAAAArQGZmZmZm5jBAAAAAAAAAKkAAAAAAAAAwQAAAAAAAADFAAAAAAAAAKUAAAAAAAAAqQAAAAAAAAChAzczMzMxMMkAzMzMzMzMrQGZmZmZmZi1AAAAAAAAAK0A=",
          "dtype": "f8"
         },
         "y": {
          "bdata": "AAAAAAAAPUAAAAAAAAAvQAAAAAAAADNAAAAAAAAAQkAAAAAAAAA1QAAAAAAAADtAzczMzMzMP0AzMzMzMzM0QAAAAAAAAChAmpmZmZkZMkAAAAAAAAAkQAAAAAAAAChAAAAAAACAOEDNzMzMzAxBQDMzMzMzMzhAAAAAAAAAKkAAAAAAAIA5QDMzMzMzs0NAzczMzMwMQkAAAAAAAAA3QAAAAAAAACpAzczMzMzMN0AAAAAAAAAuQJqZmZmZWUFAAAAAAAAALEAAAAAAAAAyQAAAAAAAADNAAAAAAAAALEAAAAAAAAAuQM3MzMzMDEJAAAAAAACAMkAAAAAAAAA6QAAAAAAAADNAAAAAAAAAM0AAAAAAAAAsQGZmZmZmZkBAAAAAAAAAP0AAAAAAAAA7QAAAAAAAADlAmpmZmZkZQEBmZmZmZiZBQAAAAAAAADhAAAAAAAAAOUBmZmZmZuY+QAAAAAAAADJAAAAAAAAANkAAAAAAAAAwQAAAAAAAgEJAAAAAAAAAMkAAAAAAAAA0QAAAAAAAADlAmpmZmZkZMkBmZmZmZmY6QM3MzMzMzD1AAAAAAACAMUCamZmZmZkxQAAAAAAAAD5AAAAAAAAAOUAAAAAAAAAzQM3MzMzMzDNAAAAAAAAAOUAAAAAAAAA1QAAAAAAAADdAAAAAAAAAJkAAAAAAAABDQAAAAAAAAC5AmpmZmZmZNUAAAAAAAIA1QAAAAAAAgDRAAAAAAAAALEAAAAAAAAA0QAAAAAAAADdAAAAAAAAALkAAAAAAAABCQAAAAAAAACpAmpmZmZmZP0AAAAAAAIA6QAAAAAAAwERAAAAAAAAAKEA=",
          "dtype": "f8"
         }
        },
        {
         "line": {
          "color": "orange"
         },
         "mode": "markers",
         "name": "predicted",
         "type": "scatter",
         "x": {
          "bdata": "AAAAAACAM0DNzMzMzMwmQAAAAAAAAC5AAAAAAAAALUAAAAAAAAAwQJqZmZmZmS5AMzMzMzMzM0CamZmZmZkpQAAAAAAAACdAMzMzMzMzLkAAAAAAAAAuQAAAAAAAACdAmpmZmZkZNkAAAAAAAAAwQJqZmZmZmStAZmZmZmZmKkCamZmZmZkvQJqZmZmZmTJAZmZmZmZmMEAAAAAAAIA3QAAAAAAAACpAmpmZmZmZMUAAAAAAAAAjQM3MzMzMzC1AAAAAAAAAL0AAAAAAAAArQAAAAAAAACtAAAAAAAAALUAAAAAAAAA1QM3MzMzMzCxAAAAAAAAAKkAAAAAAAAAvQAAAAAAAADBAAAAAAAAAMEAAAAAAAAAkQGZmZmZmZjNAAAAAAACAMEAAAAAAAAAtQAAAAAAAACtAZmZmZmZmLkCamZmZmZkvQAAAAAAAAC9AAAAAAACAMUAAAAAAAAAtQAAAAAAAAC1AAAAAAAAALUAAAAAAAAAxQGZmZmZmZjNAAAAAAAAAL0AAAAAAAIAwQGZmZmZmZjBAZmZmZmZmJkCamZmZmRkyQJqZmZmZmS5AzczMzMzMMUDNzMzMzMwqQAAAAAAAgDNAAAAAAACAMUAAAAAAAAAxQDMzMzMzMzJAAAAAAAAAMUAAAAAAAAAuQGZmZmZmZjFAAAAAAAAALEBmZmZmZmYtQAAAAAAAADFAZmZmZmZmL0AAAAAAAAArQGZmZmZm5jBAAAAAAAAAKkAAAAAAAAAwQAAAAAAAADFAAAAAAAAAKUAAAAAAAAAqQAAAAAAAAChAzczMzMxMMkAzMzMzMzMrQGZmZmZmZi1AAAAAAAAAK0A=",
          "dtype": "f8"
         },
         "y": {
          "bdata": "5q4l5IPeOUBIUPwYc1c1QH0/NV66iTVASL99HTjnOUAeFmpN8w43QK+UZYhj3TlAuicPC7XmOUDswDkjSns1QD2bVZ+rLTVAhXzQs1k1NkAep+hILv80QPT91HjpJjVAWRe30QDeOUBJv30dOOc5QOxztRX7SzlAc9cS8kFPNUC30QDeAsk5QLonDwu15jlA1VbsL7vnOUAyVTAqqdM5QK5H4XoULjVAuicPC7XmOUAX2c73UyM1QEi/fR045zlA4zYawFsgNUAtQxzr4nY1QCh+jLlryTlAcoqO5PIfNUAmUwWjkvo3QH4dOGdE6TlAVn2utmJ/NUBns+pztdU5QNNNYhBYuTZA4zYawFugNkAX2c73UyM1QAHeAgmK3zlAGw3gLZDgOUAwKqkT0MQ5QMdtNIC3gDlASb99HTjnOUBJv30dOOc5QGiz6nO11TlAYFRSJ6DJOUALtaZ5x+k5QGqad5yiYzlArWnecYqOOUBgB84ZUdo1QEi/fR045zlAz4jS3uDLNUCJ0t7gCxM3QHS1FfvLrjhApr3BFyaTNUBIv30dOOc5QEm/fR045zlAUGuad5wiN0As9pfdk4c1QGez6nO11TlARiV1AprIOUD3deCcESU3QJLLf0i/PTlAOUVHcvnPOUDCqKROQFM2QAK8BRIUfzVAGw3gLZAgNUBIv30dOOc5QPCnxks3STZAg57Nqs/VOUA0ETY8vdI5QKs+V1uxvzZADHGsi9soNUC8BRIUP8Y2QMTTK2UZ4jlA7MA5I0o7NUAs1JrmHac5QIv9ZffkITVASL99HTjnOUCuad5xio45QEi/fR045zlAO3DOiNIeNUA=",
          "dtype": "f8"
         }
        }
       ],
       "layout": {
        "template": {
         "data": {
          "bar": [
           {
            "error_x": {
             "color": "#2a3f5f"
            },
            "error_y": {
             "color": "#2a3f5f"
            },
            "marker": {
             "line": {
              "color": "#E5ECF6",
              "width": 0.5
             },
             "pattern": {
              "fillmode": "overlay",
              "size": 10,
              "solidity": 0.2
             }
            },
            "type": "bar"
           }
          ],
          "barpolar": [
           {
            "marker": {
             "line": {
              "color": "#E5ECF6",
              "width": 0.5
             },
             "pattern": {
              "fillmode": "overlay",
              "size": 10,
              "solidity": 0.2
             }
            },
            "type": "barpolar"
           }
          ],
          "carpet": [
           {
            "aaxis": {
             "endlinecolor": "#2a3f5f",
             "gridcolor": "white",
             "linecolor": "white",
             "minorgridcolor": "white",
             "startlinecolor": "#2a3f5f"
            },
            "baxis": {
             "endlinecolor": "#2a3f5f",
             "gridcolor": "white",
             "linecolor": "white",
             "minorgridcolor": "white",
             "startlinecolor": "#2a3f5f"
            },
            "type": "carpet"
           }
          ],
          "choropleth": [
           {
            "colorbar": {
             "outlinewidth": 0,
             "ticks": ""
            },
            "type": "choropleth"
           }
          ],
          "contour": [
           {
            "colorbar": {
             "outlinewidth": 0,
             "ticks": ""
            },
            "colorscale": [
             [
              0,
              "#0d0887"
             ],
             [
              0.1111111111111111,
              "#46039f"
             ],
             [
              0.2222222222222222,
              "#7201a8"
             ],
             [
              0.3333333333333333,
              "#9c179e"
             ],
             [
              0.4444444444444444,
              "#bd3786"
             ],
             [
              0.5555555555555556,
              "#d8576b"
             ],
             [
              0.6666666666666666,
              "#ed7953"
             ],
             [
              0.7777777777777778,
              "#fb9f3a"
             ],
             [
              0.8888888888888888,
              "#fdca26"
             ],
             [
              1,
              "#f0f921"
             ]
            ],
            "type": "contour"
           }
          ],
          "contourcarpet": [
           {
            "colorbar": {
             "outlinewidth": 0,
             "ticks": ""
            },
            "type": "contourcarpet"
           }
          ],
          "heatmap": [
           {
            "colorbar": {
             "outlinewidth": 0,
             "ticks": ""
            },
            "colorscale": [
             [
              0,
              "#0d0887"
             ],
             [
              0.1111111111111111,
              "#46039f"
             ],
             [
              0.2222222222222222,
              "#7201a8"
             ],
             [
              0.3333333333333333,
              "#9c179e"
             ],
             [
              0.4444444444444444,
              "#bd3786"
             ],
             [
              0.5555555555555556,
              "#d8576b"
             ],
             [
              0.6666666666666666,
              "#ed7953"
             ],
             [
              0.7777777777777778,
              "#fb9f3a"
             ],
             [
              0.8888888888888888,
              "#fdca26"
             ],
             [
              1,
              "#f0f921"
             ]
            ],
            "type": "heatmap"
           }
          ],
          "histogram": [
           {
            "marker": {
             "pattern": {
              "fillmode": "overlay",
              "size": 10,
              "solidity": 0.2
             }
            },
            "type": "histogram"
           }
          ],
          "histogram2d": [
           {
            "colorbar": {
             "outlinewidth": 0,
             "ticks": ""
            },
            "colorscale": [
             [
              0,
              "#0d0887"
             ],
             [
              0.1111111111111111,
              "#46039f"
             ],
             [
              0.2222222222222222,
              "#7201a8"
             ],
             [
              0.3333333333333333,
              "#9c179e"
             ],
             [
              0.4444444444444444,
              "#bd3786"
             ],
             [
              0.5555555555555556,
              "#d8576b"
             ],
             [
              0.6666666666666666,
              "#ed7953"
             ],
             [
              0.7777777777777778,
              "#fb9f3a"
             ],
             [
              0.8888888888888888,
              "#fdca26"
             ],
             [
              1,
              "#f0f921"
             ]
            ],
            "type": "histogram2d"
           }
          ],
          "histogram2dcontour": [
           {
            "colorbar": {
             "outlinewidth": 0,
             "ticks": ""
            },
            "colorscale": [
             [
              0,
              "#0d0887"
             ],
             [
              0.1111111111111111,
              "#46039f"
             ],
             [
              0.2222222222222222,
              "#7201a8"
             ],
             [
              0.3333333333333333,
              "#9c179e"
             ],
             [
              0.4444444444444444,
              "#bd3786"
             ],
             [
              0.5555555555555556,
              "#d8576b"
             ],
             [
              0.6666666666666666,
              "#ed7953"
             ],
             [
              0.7777777777777778,
              "#fb9f3a"
             ],
             [
              0.8888888888888888,
              "#fdca26"
             ],
             [
              1,
              "#f0f921"
             ]
            ],
            "type": "histogram2dcontour"
           }
          ],
          "mesh3d": [
           {
            "colorbar": {
             "outlinewidth": 0,
             "ticks": ""
            },
            "type": "mesh3d"
           }
          ],
          "parcoords": [
           {
            "line": {
             "colorbar": {
              "outlinewidth": 0,
              "ticks": ""
             }
            },
            "type": "parcoords"
           }
          ],
          "pie": [
           {
            "automargin": true,
            "type": "pie"
           }
          ],
          "scatter": [
           {
            "fillpattern": {
             "fillmode": "overlay",
             "size": 10,
             "solidity": 0.2
            },
            "type": "scatter"
           }
          ],
          "scatter3d": [
           {
            "line": {
             "colorbar": {
              "outlinewidth": 0,
              "ticks": ""
             }
            },
            "marker": {
             "colorbar": {
              "outlinewidth": 0,
              "ticks": ""
             }
            },
            "type": "scatter3d"
           }
          ],
          "scattercarpet": [
           {
            "marker": {
             "colorbar": {
              "outlinewidth": 0,
              "ticks": ""
             }
            },
            "type": "scattercarpet"
           }
          ],
          "scattergeo": [
           {
            "marker": {
             "colorbar": {
              "outlinewidth": 0,
              "ticks": ""
             }
            },
            "type": "scattergeo"
           }
          ],
          "scattergl": [
           {
            "marker": {
             "colorbar": {
              "outlinewidth": 0,
              "ticks": ""
             }
            },
            "type": "scattergl"
           }
          ],
          "scattermap": [
           {
            "marker": {
             "colorbar": {
              "outlinewidth": 0,
              "ticks": ""
             }
            },
            "type": "scattermap"
           }
          ],
          "scattermapbox": [
           {
            "marker": {
             "colorbar": {
              "outlinewidth": 0,
              "ticks": ""
             }
            },
            "type": "scattermapbox"
           }
          ],
          "scatterpolar": [
           {
            "marker": {
             "colorbar": {
              "outlinewidth": 0,
              "ticks": ""
             }
            },
            "type": "scatterpolar"
           }
          ],
          "scatterpolargl": [
           {
            "marker": {
             "colorbar": {
              "outlinewidth": 0,
              "ticks": ""
             }
            },
            "type": "scatterpolargl"
           }
          ],
          "scatterternary": [
           {
            "marker": {
             "colorbar": {
              "outlinewidth": 0,
              "ticks": ""
             }
            },
            "type": "scatterternary"
           }
          ],
          "surface": [
           {
            "colorbar": {
             "outlinewidth": 0,
             "ticks": ""
            },
            "colorscale": [
             [
              0,
              "#0d0887"
             ],
             [
              0.1111111111111111,
              "#46039f"
             ],
             [
              0.2222222222222222,
              "#7201a8"
             ],
             [
              0.3333333333333333,
              "#9c179e"
             ],
             [
              0.4444444444444444,
              "#bd3786"
             ],
             [
              0.5555555555555556,
              "#d8576b"
             ],
             [
              0.6666666666666666,
              "#ed7953"
             ],
             [
              0.7777777777777778,
              "#fb9f3a"
             ],
             [
              0.8888888888888888,
              "#fdca26"
             ],
             [
              1,
              "#f0f921"
             ]
            ],
            "type": "surface"
           }
          ],
          "table": [
           {
            "cells": {
             "fill": {
              "color": "#EBF0F8"
             },
             "line": {
              "color": "white"
             }
            },
            "header": {
             "fill": {
              "color": "#C8D4E3"
             },
             "line": {
              "color": "white"
             }
            },
            "type": "table"
           }
          ]
         },
         "layout": {
          "annotationdefaults": {
           "arrowcolor": "#2a3f5f",
           "arrowhead": 0,
           "arrowwidth": 1
          },
          "autotypenumbers": "strict",
          "coloraxis": {
           "colorbar": {
            "outlinewidth": 0,
            "ticks": ""
           }
          },
          "colorscale": {
           "diverging": [
            [
             0,
             "#8e0152"
            ],
            [
             0.1,
             "#c51b7d"
            ],
            [
             0.2,
             "#de77ae"
            ],
            [
             0.3,
             "#f1b6da"
            ],
            [
             0.4,
             "#fde0ef"
            ],
            [
             0.5,
             "#f7f7f7"
            ],
            [
             0.6,
             "#e6f5d0"
            ],
            [
             0.7,
             "#b8e186"
            ],
            [
             0.8,
             "#7fbc41"
            ],
            [
             0.9,
             "#4d9221"
            ],
            [
             1,
             "#276419"
            ]
           ],
           "sequential": [
            [
             0,
             "#0d0887"
            ],
            [
             0.1111111111111111,
             "#46039f"
            ],
            [
             0.2222222222222222,
             "#7201a8"
            ],
            [
             0.3333333333333333,
             "#9c179e"
            ],
            [
             0.4444444444444444,
             "#bd3786"
            ],
            [
             0.5555555555555556,
             "#d8576b"
            ],
            [
             0.6666666666666666,
             "#ed7953"
            ],
            [
             0.7777777777777778,
             "#fb9f3a"
            ],
            [
             0.8888888888888888,
             "#fdca26"
            ],
            [
             1,
             "#f0f921"
            ]
           ],
           "sequentialminus": [
            [
             0,
             "#0d0887"
            ],
            [
             0.1111111111111111,
             "#46039f"
            ],
            [
             0.2222222222222222,
             "#7201a8"
            ],
            [
             0.3333333333333333,
             "#9c179e"
            ],
            [
             0.4444444444444444,
             "#bd3786"
            ],
            [
             0.5555555555555556,
             "#d8576b"
            ],
            [
             0.6666666666666666,
             "#ed7953"
            ],
            [
             0.7777777777777778,
             "#fb9f3a"
            ],
            [
             0.8888888888888888,
             "#fdca26"
            ],
            [
             1,
             "#f0f921"
            ]
           ]
          },
          "colorway": [
           "#636efa",
           "#EF553B",
           "#00cc96",
           "#ab63fa",
           "#FFA15A",
           "#19d3f3",
           "#FF6692",
           "#B6E880",
           "#FF97FF",
           "#FECB52"
          ],
          "font": {
           "color": "#2a3f5f"
          },
          "geo": {
           "bgcolor": "white",
           "lakecolor": "white",
           "landcolor": "#E5ECF6",
           "showlakes": true,
           "showland": true,
           "subunitcolor": "white"
          },
          "hoverlabel": {
           "align": "left"
          },
          "hovermode": "closest",
          "mapbox": {
           "style": "light"
          },
          "paper_bgcolor": "white",
          "plot_bgcolor": "#E5ECF6",
          "polar": {
           "angularaxis": {
            "gridcolor": "white",
            "linecolor": "white",
            "ticks": ""
           },
           "bgcolor": "#E5ECF6",
           "radialaxis": {
            "gridcolor": "white",
            "linecolor": "white",
            "ticks": ""
           }
          },
          "scene": {
           "xaxis": {
            "backgroundcolor": "#E5ECF6",
            "gridcolor": "white",
            "gridwidth": 2,
            "linecolor": "white",
            "showbackground": true,
            "ticks": "",
            "zerolinecolor": "white"
           },
           "yaxis": {
            "backgroundcolor": "#E5ECF6",
            "gridcolor": "white",
            "gridwidth": 2,
            "linecolor": "white",
            "showbackground": true,
            "ticks": "",
            "zerolinecolor": "white"
           },
           "zaxis": {
            "backgroundcolor": "#E5ECF6",
            "gridcolor": "white",
            "gridwidth": 2,
            "linecolor": "white",
            "showbackground": true,
            "ticks": "",
            "zerolinecolor": "white"
           }
          },
          "shapedefaults": {
           "line": {
            "color": "#2a3f5f"
           }
          },
          "ternary": {
           "aaxis": {
            "gridcolor": "white",
            "linecolor": "white",
            "ticks": ""
           },
           "baxis": {
            "gridcolor": "white",
            "linecolor": "white",
            "ticks": ""
           },
           "bgcolor": "#E5ECF6",
           "caxis": {
            "gridcolor": "white",
            "linecolor": "white",
            "ticks": ""
           }
          },
          "title": {
           "x": 0.05
          },
          "xaxis": {
           "automargin": true,
           "gridcolor": "white",
           "linecolor": "white",
           "ticks": "",
           "title": {
            "standoff": 15
           },
           "zerolinecolor": "white",
           "zerolinewidth": 2
          },
          "yaxis": {
           "automargin": true,
           "gridcolor": "white",
           "linecolor": "white",
           "ticks": "",
           "title": {
            "standoff": 15
           },
           "zerolinecolor": "white",
           "zerolinewidth": 2
          }
         }
        }
       }
      },
      "image/png": "[encoded data removed]"
     },
     "metadata": {},
     "output_type": "display_data"
    }
   ],
   "source": [
    "\n",
    "import math\n",
    "\n",
    "\n",
    "for j in [1, 10, 25, 50, 100, 250]:\n",
    "  std_clf = pipe.make_pipeline(pp.StandardScaler(),neighbors.KNeighborsRegressor(n_neighbors = j))\n",
    "  (std_clf.fit(splits[0],np.ravel(splits[2])))\n",
    "  predictions = std_clf.predict(splits[1])\n",
    "  rmse = math.sqrt(metrics.mean_squared_error(splits[3],predictions))\n",
    "  Xtest = splits[1]\n",
    "  lstat = Xtest[['acceleration']]\n",
    "  fig = go.Figure()\n",
    "  (fig.add_scatter(x= (np.ravel(lstat)),y= (np.ravel(splits[3])),mode=\"markers\",name=\"observed\",line=dict(color='royalblue')))\n",
    "  (fig.add_scatter(x= (np.ravel(lstat)),y= (np.ravel(predictions)),mode=\"markers\",name=\"predicted\",line=dict(color='orange')))\n",
    "  (fig.show())\n",
    "\n",
    "#<xml xmlns=\"https://developers.google.com/blockly/xml\"><variables><variable id=\"nr%W_%EA(*n$_f,PuH#c\">j</variable><variable id=\"`P)`+jl|;h{.[r}{78q6\">std_clf</variable><variable id=\"=z9KfSBWpoDS,oj-?yx,\">pipe</variable><variable id=\".T`xqZHAu7r0$MQ4s=Yg\">pp</variable><variable id=\"MvUG^P$o3=I*6/67?Rk:\">neighbors</variable><variable id=\"5lkT$zi8W,`TXDny?Cv7\">predictions</variable><variable id=\"Zhzp)s*VL?V@ES3(j:*b\">np</variable><variable id=\"RN+myW;vx){}Q0LuFA9y\">rmse</variable><variable id=\"_ut$e0PL4OMi4o1MXTpw\">splits</variable><variable id=\"fe.98]:,bU@x*=}zaJ1/\">Xtest</variable><variable id=\")}+w@N9iB/j=:+PLkMv8\">metrics</variable><variable id=\"rVUZld`HfW,n/PC{X!9-\">lstat</variable><variable id=\"@U5l^JIp,}.H=ECCW?@g\">fig</variable><variable id=\"`iml3^SQ8#}M{aSRdsjz\">go</variable></variables><block type=\"controls_forEach\" id=\"MbWYZ/u3Q#+3*u`TM}ce\" x=\"46\" y=\"100\"><field name=\"VAR\" id=\"nr%W_%EA(*n$_f,PuH#c\">j</field><value name=\"LIST\"><block type=\"lists_create_with\" id=\"Q6_EXa41T:y(.uy[pm.V\"><mutation items=\"6\"></mutation><value name=\"ADD0\"><block type=\"math_number\" id=\"+BJ@yT0IgJORgO^/))c~\"><field name=\"NUM\">1</field></block></value><value name=\"ADD1\"><block type=\"math_number\" id=\".~r[qy7$p-Jy_g:ACHYr\"><field name=\"NUM\">10</field></block></value><value name=\"ADD2\"><block type=\"math_number\" id=\"w!m`o}C;PB7OhYP5ZTq~\"><field name=\"NUM\">25</field></block></value><value name=\"ADD3\"><block type=\"math_number\" id=\"?!EK)M.j{u~@|;ytL|nd\"><field name=\"NUM\">50</field></block></value><value name=\"ADD4\"><block type=\"math_number\" id=\"cLtaU]#w-;S(sUq8pw/l\"><field name=\"NUM\">100</field></block></value><value name=\"ADD5\"><block type=\"math_number\" id=\"910qY[[4~4nziBPT;K+G\"><field name=\"NUM\">250</field></block></value></block></value><statement name=\"DO\"><block type=\"variables_set\" id=\"8APEX{xGs3Qz/$NzTFrY\"><field name=\"VAR\" id=\"`P)`+jl|;h{.[r}{78q6\">std_clf</field><value name=\"VALUE\"><block type=\"varDoMethod\" id=\"W=ep`rJjDXvsAV^R+NIG\"><mutation items=\"2\"></mutation><field name=\"VAR\" id=\"=z9KfSBWpoDS,oj-?yx,\">pipe</field><field name=\"MEMBER\">make_pipeline</field><data>pipe:make_pipeline</data><value name=\"ADD0\"><block type=\"varCreateObject\" id=\"ME+Z@t~BnN}LL22r%Hxt\"><mutation items=\"1\"></mutation><field name=\"VAR\" id=\".T`xqZHAu7r0$MQ4s=Yg\">pp</field><field name=\"MEMBER\">StandardScaler</field><data>pp:StandardScaler</data></block></value><value name=\"ADD1\"><block type=\"varCreateObject\" id=\"p=kmgsx6gSLD(RSPi]We\"><mutation items=\"1\"></mutation><field name=\"VAR\" id=\"MvUG^P$o3=I*6/67?Rk:\">neighbors</field><field name=\"MEMBER\">KNeighborsRegressor</field><data>neighbors:KNeighborsRegressor</data><value name=\"ADD0\"><block type=\"dummyOutputCodeBlock\" id=\"4*MO9`pDvGbjv^%|]#Jm\"><field name=\"CODE\">n_neighbors = j</field></block></value></block></value></block></value><next><block type=\"valueNoOutputCodeBlock\" id=\"b2$eeB}vA+APG9EY4RvG\"><field name=\"CODE\"></field><value name=\"INPUT\"><block type=\"varDoMethod\" id=\"!a#R5q~=+4G.fWQ-a:Ai\"><mutation items=\"2\"></mutation><field name=\"VAR\" id=\"`P)`+jl|;h{.[r}{78q6\">std_clf</field><field name=\"MEMBER\">fit</field><data>std_clf:fit</data><value name=\"ADD0\"><block type=\"lists_getIndex\" id=\"Bg)U?tUT/i!BuqI+~78i\"><mutation statement=\"false\" at=\"true\"></mutation><field name=\"MODE\">GET</field><field name=\"WHERE\">FROM_START</field><value name=\"VALUE\"><block type=\"variables_get\" id=\"J0_:T[7!I[/pre=^gqIw\"><field name=\"VAR\" id=\"_ut$e0PL4OMi4o1MXTpw\">splits</field></block></value><value name=\"AT\"><block type=\"math_number\" id=\"Jt|3]Id8E7gD7O}{bmrW\"><field name=\"NUM\">1</field></block></value></block></value><value name=\"ADD1\"><block type=\"varDoMethod\" id=\"7!WF{br/dCPJd;YQ:(Ik\"><mutation items=\"1\"></mutation><field name=\"VAR\" id=\"Zhzp)s*VL?V@ES3(j:*b\">np</field><field name=\"MEMBER\">ravel</field><data>np:ravel</data><value name=\"ADD0\"><block type=\"lists_getIndex\" id=\"p9_vm4JY1L*#.U$2H~(3\"><mutation statement=\"false\" at=\"true\"></mutation><field name=\"MODE\">GET</field><field name=\"WHERE\">FROM_START</field><value name=\"VALUE\"><block type=\"variables_get\" id=\"Ix.0Sy(FQ_=FtQZ`E7YO\"><field name=\"VAR\" id=\"_ut$e0PL4OMi4o1MXTpw\">splits</field></block></value><value name=\"AT\"><block type=\"math_number\" id=\"R!St?-]QDZB.6:gA5w9[\"><field name=\"NUM\">3</field></block></value></block></value></block></value></block></value><next><block type=\"variables_set\" id=\"}aopG5Di|aBV}PCsFRt|\"><field name=\"VAR\" id=\"5lkT$zi8W,`TXDny?Cv7\">predictions</field><value name=\"VALUE\"><block type=\"varDoMethod\" id=\"{!ML%F.iI.(gk.yKaKAo\"><mutation items=\"1\"></mutation><field name=\"VAR\" id=\"`P)`+jl|;h{.[r}{78q6\">std_clf</field><field name=\"MEMBER\">predict</field><data>std_clf:predict</data><value name=\"ADD0\"><block type=\"lists_getIndex\" id=\"NnMds!lCkgRZMy3GES4A\"><mutation statement=\"false\" at=\"true\"></mutation><field name=\"MODE\">GET</field><field name=\"WHERE\">FROM_START</field><value name=\"VALUE\"><block type=\"variables_get\" id=\"u{3q7m[%l/#e^qWs(A+$\"><field name=\"VAR\" id=\"_ut$e0PL4OMi4o1MXTpw\">splits</field></block></value><value name=\"AT\"><block type=\"math_number\" id=\"J=#ZnMxhAvm4we#*n[1u\"><field name=\"NUM\">2</field></block></value></block></value></block></value><next><block type=\"variables_set\" id=\"]Ea4cP;)eg*?FYSg,Hut\"><field name=\"VAR\" id=\"RN+myW;vx){}Q0LuFA9y\">rmse</field><value name=\"VALUE\"><block type=\"math_single\" id=\"Zj7qwunxC88s#@FHZp;o\"><field name=\"OP\">ROOT</field><value name=\"NUM\"><block type=\"varDoMethod\" id=\"7qLvGJ/o$}+](kkcy*!s\"><mutation items=\"2\"></mutation><field name=\"VAR\" id=\")}+w@N9iB/j=:+PLkMv8\">metrics</field><field name=\"MEMBER\">mean_squared_error</field><data>metrics:mean_squared_error</data><value name=\"ADD0\"><block type=\"lists_getIndex\" id=\"~=g?~X5=@%yq(ykF,@vT\"><mutation statement=\"false\" at=\"true\"></mutation><field name=\"MODE\">GET</field><field name=\"WHERE\">FROM_START</field><value name=\"VALUE\"><block type=\"variables_get\" id=\"p^5+}-qjm4#-sUjITW:U\"><field name=\"VAR\" id=\"_ut$e0PL4OMi4o1MXTpw\">splits</field></block></value><value name=\"AT\"><block type=\"math_number\" id=\"p+QpL(p9Fvb81#)=M#AO\"><field name=\"NUM\">4</field></block></value></block></value><value name=\"ADD1\"><block type=\"variables_get\" id=\"JlQHE,X|BqgbRt62iHR}\"><field name=\"VAR\" id=\"5lkT$zi8W,`TXDny?Cv7\">predictions</field></block></value></block></value></block></value><next><block type=\"variables_set\" id=\"}GTn}Q9,G*xaf0J#m.P+\"><field name=\"VAR\" id=\"fe.98]:,bU@x*=}zaJ1/\">Xtest</field><value name=\"VALUE\"><block type=\"lists_getIndex\" id=\"LpEy)}~^*_Nv6R+9Tw8o\"><mutation statement=\"false\" at=\"true\"></mutation><field name=\"MODE\">GET</field><field name=\"WHERE\">FROM_START</field><value name=\"VALUE\"><block type=\"variables_get\" id=\"Z.7:EF^#6m)oIBBRX5y0\"><field name=\"VAR\" id=\"_ut$e0PL4OMi4o1MXTpw\">splits</field></block></value><value name=\"AT\"><block type=\"math_number\" id=\"yFr,LJ/1)CB$arw;EcAf\"><field name=\"NUM\">2</field></block></value></block></value><next><block type=\"variables_set\" id=\"E(-/u.}}rE]{N_3{Vu?d\"><field name=\"VAR\" id=\"rVUZld`HfW,n/PC{X!9-\">lstat</field><value name=\"VALUE\"><block type=\"indexer\" id=\"ag#-9SqC~GB(TlKfkbZ`\"><field name=\"VAR\" id=\"fe.98]:,bU@x*=}zaJ1/\">Xtest</field><value name=\"INDEX\"><block type=\"lists_create_with\" id=\"n4,FKV=^albEXXw!YbkU\"><mutation items=\"1\"></mutation><value name=\"ADD0\"><block type=\"text\" id=\"`A-j$xY[rlgo%5Beee:@\"><field name=\"TEXT\">acceleration</field></block></value></block></value></block></value><next><block type=\"variables_set\" id=\"8m1y-]+)piOjziJ$8mJU\"><field name=\"VAR\" id=\"@U5l^JIp,}.H=ECCW?@g\">fig</field><value name=\"VALUE\"><block type=\"varCreateObject\" id=\"@B1nGYL3XWr!5d)uKndx\"><mutation items=\"1\"></mutation><field name=\"VAR\" id=\"`iml3^SQ8#}M{aSRdsjz\">go</field><field name=\"MEMBER\">Figure</field><data>go:Figure</data></block></value><next><block type=\"valueNoOutputCodeBlock\" id=\"cJ[;o12D|PbQ1taRm$$(\"><field name=\"CODE\"></field><value name=\"INPUT\"><block type=\"varDoMethod\" id=\"=I}N1hrc%ohlFaQ{Bg9[\"><mutation items=\"5\"></mutation><field name=\"VAR\" id=\"@U5l^JIp,}.H=ECCW?@g\">fig</field><field name=\"MEMBER\">add_scatter</field><data>fig:add_scatter</data><value name=\"ADD0\"><block type=\"valueOutputCodeBlock\" id=\"GzOu,jb7j1y7Gi+Ww,nz\"><field name=\"CODE\">x=</field><value name=\"INPUT\"><block type=\"varDoMethod\" id=\"RZq;ySQ.#PpKy`F@%B,v\"><mutation items=\"1\"></mutation><field name=\"VAR\" id=\"Zhzp)s*VL?V@ES3(j:*b\">np</field><field name=\"MEMBER\">ravel</field><data>np:ravel</data><value name=\"ADD0\"><block type=\"variables_get\" id=\"o.V]E6C-PTjwZpsDw+9R\"><field name=\"VAR\" id=\"rVUZld`HfW,n/PC{X!9-\">lstat</field></block></value></block></value></block></value><value name=\"ADD1\"><block type=\"valueOutputCodeBlock\" id=\"38X2;2m|S$D#Nyk/{)tA\"><field name=\"CODE\">y=</field><value name=\"INPUT\"><block type=\"varDoMethod\" id=\"%$sb,zqtcn}no4-26/.p\"><mutation items=\"1\"></mutation><field name=\"VAR\" id=\"Zhzp)s*VL?V@ES3(j:*b\">np</field><field name=\"MEMBER\">ravel</field><data>np:ravel</data><value name=\"ADD0\"><block type=\"lists_getIndex\" id=\"b|YGLq}0yyc#cybsaGUq\"><mutation statement=\"false\" at=\"true\"></mutation><field name=\"MODE\">GET</field><field name=\"WHERE\">FROM_START</field><value name=\"VALUE\"><block type=\"variables_get\" id=\"YB@u00`!A11SK#[yHNFl\"><field name=\"VAR\" id=\"_ut$e0PL4OMi4o1MXTpw\">splits</field></block></value><value name=\"AT\"><block type=\"math_number\" id=\"+~)jaNq?!fkjQN`c/Fjo\"><field name=\"NUM\">4</field></block></value></block></value></block></value></block></value><value name=\"ADD2\"><block type=\"dummyOutputCodeBlock\" id=\"5=f=,lWa)JjUqtFZ{_BX\"><field name=\"CODE\">mode=\"markers\"</field></block></value><value name=\"ADD3\"><block type=\"dummyOutputCodeBlock\" id=\"GJn+onXp(BOtQ$GNMl/1\"><field name=\"CODE\">name=\"observed\" </field></block></value><value name=\"ADD4\"><block type=\"dummyOutputCodeBlock\" id=\"2m%fYG4,!=378N%BV%6z\"><field name=\"CODE\">line=dict(color='royalblue')</field></block></value></block></value><next><block type=\"valueNoOutputCodeBlock\" id=\"zhUYu.4^VDw,@~4{/%!1\"><field name=\"CODE\"></field><value name=\"INPUT\"><block type=\"varDoMethod\" id=\"Vr`hq?JU`Y7P0v57?OYZ\"><mutation items=\"5\"></mutation><field name=\"VAR\" id=\"@U5l^JIp,}.H=ECCW?@g\">fig</field><field name=\"MEMBER\">add_scatter</field><data>fig:add_scatter</data><value name=\"ADD0\"><block type=\"valueOutputCodeBlock\" id=\"8K-ZX`@=yNiNsNFQfOn*\"><field name=\"CODE\">x=</field><value name=\"INPUT\"><block type=\"varDoMethod\" id=\",CMi4bm1hLU_=(96R~RI\"><mutation items=\"1\"></mutation><field name=\"VAR\" id=\"Zhzp)s*VL?V@ES3(j:*b\">np</field><field name=\"MEMBER\">ravel</field><data>np:ravel</data><value name=\"ADD0\"><block type=\"variables_get\" id=\"$^M/]P5Fw#gOIkkUNM#P\"><field name=\"VAR\" id=\"rVUZld`HfW,n/PC{X!9-\">lstat</field></block></value></block></value></block></value><value name=\"ADD1\"><block type=\"valueOutputCodeBlock\" id=\"iK0B/(F)%.T;(t3bz8:[\"><field name=\"CODE\">y=</field><value name=\"INPUT\"><block type=\"varDoMethod\" id=\"qtq?EjkX0P1X1jXXTb,n\"><mutation items=\"1\"></mutation><field name=\"VAR\" id=\"Zhzp)s*VL?V@ES3(j:*b\">np</field><field name=\"MEMBER\">ravel</field><data>np:ravel</data><value name=\"ADD0\"><block type=\"variables_get\" id=\"5Z:%1U+MUOXv14yZB+h?\"><field name=\"VAR\" id=\"5lkT$zi8W,`TXDny?Cv7\">predictions</field></block></value></block></value></block></value><value name=\"ADD2\"><block type=\"dummyOutputCodeBlock\" id=\"-3Mp(X`N=6s~l[Osko|s\"><field name=\"CODE\">mode=\"markers\"</field></block></value><value name=\"ADD3\"><block type=\"dummyOutputCodeBlock\" id=\"Wx`Pma.$`Hi~v=Qmj3AF\"><field name=\"CODE\">name=\"predicted\" </field></block></value><value name=\"ADD4\"><block type=\"dummyOutputCodeBlock\" id=\"-7l}r-x$czChXC9xrdnT\"><field name=\"CODE\">line=dict(color='orange')</field></block></value></block></value><next><block type=\"valueNoOutputCodeBlock\" id=\"!U}8]:1sKNtLT|1CSkS`\"><field name=\"CODE\"></field><value name=\"INPUT\"><block type=\"varDoMethod\" id=\"o+#9DaOam![G}o3Th.?W\"><mutation items=\"1\"></mutation><field name=\"VAR\" id=\"@U5l^JIp,}.H=ECCW?@g\">fig</field><field name=\"MEMBER\">show</field><data>fig:show</data></block></value></block></next></block></next></block></next></block></next></block></next></block></next></block></next></block></next></block></next></block></statement></block></xml>"
   ]
  },
  {
   "cell_type": "markdown",
   "metadata": {},
   "source": [
    "<!--  -->"
   ]
  }
 ],
 "metadata": {
  "kernelspec": {
   "display_name": "Python 3 (ipykernel)",
   "language": "python",
   "name": "python3"
  },
  "language_info": {
   "codemirror_mode": {
    "name": "ipython",
    "version": 3
   },
   "file_extension": ".py",
   "mimetype": "text/x-python",
   "name": "python",
   "nbconvert_exporter": "python",
   "pygments_lexer": "ipython3",
   "version": "3.12.6"
  }
 },
 "nbformat": 4,
 "nbformat_minor": 4
}
